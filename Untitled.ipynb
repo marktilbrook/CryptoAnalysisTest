{
 "cells": [
  {
   "cell_type": "code",
   "execution_count": null,
   "metadata": {
    "pycharm": {
     "is_executing": false
    }
   },
   "outputs": [],
   "source": [
    "# Remember to mention why we use Coingecko, it takes into account multiple exchanges, \n",
    "# find information about how exchanges sometimes are not so accurate\n",
    "# mention what exchanges are being used in coingecko and how popular they are globally.\n",
    "\n",
    "# create a database like section or legend explaining what symbol = name of the crypto"
   ]
  },
  {
   "cell_type": "markdown",
   "metadata": {},
   "source": [
    "# Import Data and Set up libraries"
   ]
  },
  {
   "cell_type": "code",
   "execution_count": 1,
   "metadata": {
    "pycharm": {
     "is_executing": false
    }
   },
   "outputs": [],
   "source": [
    "# import statements\n",
    "import pandas as pd\n",
    "import matplotlib.pyplot as plt\n",
    "import plotly.express as px\n",
    "import numpy as np\n",
    "from datetime import datetime\n",
    "import ipywidgets as ipy\n",
    "from pycoingecko import CoinGeckoAPI\n",
    "cg = CoinGeckoAPI()\n",
    "%matplotlib inline"
   ]
  },
  {
   "cell_type": "markdown",
   "metadata": {},
   "source": [
    "## 1. Choose a currency\n",
    "#### This will determine the currency vs cryptocurrency prices "
   ]
  },
  {
   "cell_type": "code",
   "execution_count": 2,
   "metadata": {
    "scrolled": true
   },
   "outputs": [
    {
     "data": {
      "application/vnd.jupyter.widget-view+json": {
       "model_id": "a32005e88e7646c7a6c267cabeec2855",
       "version_major": 2,
       "version_minor": 0
      },
      "text/plain": [
       "Dropdown(description='Currency:', options=('usd', 'eur', 'jpy', 'gbp'), value='usd')"
      ]
     },
     "metadata": {},
     "output_type": "display_data"
    }
   ],
   "source": [
    "w_Currency = ipy.Dropdown(\n",
    "    options=['usd', 'eur', 'jpy', 'gbp'],\n",
    "    value='usd',\n",
    "    description='Currency:',\n",
    "    disabled=False,\n",
    ")\n",
    "\n",
    "w_Currency\n"
   ]
  },
  {
   "cell_type": "code",
   "execution_count": 3,
   "metadata": {},
   "outputs": [
    {
     "data": {
      "text/html": [
       "<div>\n",
       "<style scoped>\n",
       "    .dataframe tbody tr th:only-of-type {\n",
       "        vertical-align: middle;\n",
       "    }\n",
       "\n",
       "    .dataframe tbody tr th {\n",
       "        vertical-align: top;\n",
       "    }\n",
       "\n",
       "    .dataframe thead th {\n",
       "        text-align: right;\n",
       "    }\n",
       "</style>\n",
       "<table border=\"1\" class=\"dataframe\">\n",
       "  <thead>\n",
       "    <tr style=\"text-align: right;\">\n",
       "      <th></th>\n",
       "      <th>id</th>\n",
       "      <th>symbol</th>\n",
       "      <th>name</th>\n",
       "      <th>image</th>\n",
       "      <th>current_price</th>\n",
       "      <th>market_cap</th>\n",
       "      <th>market_cap_rank</th>\n",
       "      <th>fully_diluted_valuation</th>\n",
       "      <th>total_volume</th>\n",
       "      <th>high_24h</th>\n",
       "      <th>...</th>\n",
       "      <th>total_supply</th>\n",
       "      <th>max_supply</th>\n",
       "      <th>ath</th>\n",
       "      <th>ath_change_percentage</th>\n",
       "      <th>ath_date</th>\n",
       "      <th>atl</th>\n",
       "      <th>atl_change_percentage</th>\n",
       "      <th>atl_date</th>\n",
       "      <th>roi</th>\n",
       "      <th>last_updated</th>\n",
       "    </tr>\n",
       "  </thead>\n",
       "  <tbody>\n",
       "    <tr>\n",
       "      <th>0</th>\n",
       "      <td>bitcoin</td>\n",
       "      <td>btc</td>\n",
       "      <td>Bitcoin</td>\n",
       "      <td>https://assets.coingecko.com/coins/images/1/la...</td>\n",
       "      <td>60120.00</td>\n",
       "      <td>1124821859281</td>\n",
       "      <td>1</td>\n",
       "      <td>1.264481e+12</td>\n",
       "      <td>50874583434</td>\n",
       "      <td>61262.00</td>\n",
       "      <td>...</td>\n",
       "      <td>2.100000e+07</td>\n",
       "      <td>21000000.0</td>\n",
       "      <td>61712.00</td>\n",
       "      <td>-2.42819</td>\n",
       "      <td>2021-03-13T20:49:26.606Z</td>\n",
       "      <td>67.810000</td>\n",
       "      <td>8.869852e+04</td>\n",
       "      <td>2013-07-06T00:00:00.000Z</td>\n",
       "      <td>None</td>\n",
       "      <td>2021-04-12T10:00:18.220Z</td>\n",
       "    </tr>\n",
       "    <tr>\n",
       "      <th>1</th>\n",
       "      <td>ethereum</td>\n",
       "      <td>eth</td>\n",
       "      <td>Ethereum</td>\n",
       "      <td>https://assets.coingecko.com/coins/images/279/...</td>\n",
       "      <td>2152.70</td>\n",
       "      <td>248501025564</td>\n",
       "      <td>2</td>\n",
       "      <td>NaN</td>\n",
       "      <td>27308314081</td>\n",
       "      <td>2195.22</td>\n",
       "      <td>...</td>\n",
       "      <td>NaN</td>\n",
       "      <td>NaN</td>\n",
       "      <td>2198.36</td>\n",
       "      <td>-2.07708</td>\n",
       "      <td>2021-04-10T04:23:58.850Z</td>\n",
       "      <td>0.432979</td>\n",
       "      <td>4.970832e+05</td>\n",
       "      <td>2015-10-20T00:00:00.000Z</td>\n",
       "      <td>{'times': 46.76601875876229, 'currency': 'btc'...</td>\n",
       "      <td>2021-04-12T10:00:16.863Z</td>\n",
       "    </tr>\n",
       "    <tr>\n",
       "      <th>2</th>\n",
       "      <td>binancecoin</td>\n",
       "      <td>bnb</td>\n",
       "      <td>Binance Coin</td>\n",
       "      <td>https://assets.coingecko.com/coins/images/825/...</td>\n",
       "      <td>592.28</td>\n",
       "      <td>91296938496</td>\n",
       "      <td>3</td>\n",
       "      <td>1.007496e+11</td>\n",
       "      <td>8955421355</td>\n",
       "      <td>610.06</td>\n",
       "      <td>...</td>\n",
       "      <td>1.705337e+08</td>\n",
       "      <td>170533651.9</td>\n",
       "      <td>610.06</td>\n",
       "      <td>-2.91366</td>\n",
       "      <td>2021-04-12T09:32:32.635Z</td>\n",
       "      <td>0.039818</td>\n",
       "      <td>1.487380e+06</td>\n",
       "      <td>2017-10-19T00:00:00.000Z</td>\n",
       "      <td>None</td>\n",
       "      <td>2021-04-12T10:00:10.583Z</td>\n",
       "    </tr>\n",
       "    <tr>\n",
       "      <th>3</th>\n",
       "      <td>ripple</td>\n",
       "      <td>xrp</td>\n",
       "      <td>XRP</td>\n",
       "      <td>https://assets.coingecko.com/coins/images/44/l...</td>\n",
       "      <td>1.35</td>\n",
       "      <td>62135812473</td>\n",
       "      <td>4</td>\n",
       "      <td>NaN</td>\n",
       "      <td>14357099783</td>\n",
       "      <td>1.41</td>\n",
       "      <td>...</td>\n",
       "      <td>1.000000e+11</td>\n",
       "      <td>NaN</td>\n",
       "      <td>3.40</td>\n",
       "      <td>-60.17330</td>\n",
       "      <td>2018-01-07T00:00:00.000Z</td>\n",
       "      <td>0.002686</td>\n",
       "      <td>5.028668e+04</td>\n",
       "      <td>2014-05-22T00:00:00.000Z</td>\n",
       "      <td>None</td>\n",
       "      <td>2021-04-12T10:01:10.816Z</td>\n",
       "    </tr>\n",
       "    <tr>\n",
       "      <th>4</th>\n",
       "      <td>tether</td>\n",
       "      <td>usdt</td>\n",
       "      <td>Tether</td>\n",
       "      <td>https://assets.coingecko.com/coins/images/325/...</td>\n",
       "      <td>1.00</td>\n",
       "      <td>44589003741</td>\n",
       "      <td>5</td>\n",
       "      <td>NaN</td>\n",
       "      <td>112897158507</td>\n",
       "      <td>1.01</td>\n",
       "      <td>...</td>\n",
       "      <td>4.456192e+10</td>\n",
       "      <td>NaN</td>\n",
       "      <td>1.32</td>\n",
       "      <td>-24.37372</td>\n",
       "      <td>2018-07-24T00:00:00.000Z</td>\n",
       "      <td>0.572521</td>\n",
       "      <td>7.477223e+01</td>\n",
       "      <td>2015-03-02T00:00:00.000Z</td>\n",
       "      <td>None</td>\n",
       "      <td>2021-04-12T09:07:21.326Z</td>\n",
       "    </tr>\n",
       "  </tbody>\n",
       "</table>\n",
       "<p>5 rows × 26 columns</p>\n",
       "</div>"
      ],
      "text/plain": [
       "            id symbol          name  \\\n",
       "0      bitcoin    btc       Bitcoin   \n",
       "1     ethereum    eth      Ethereum   \n",
       "2  binancecoin    bnb  Binance Coin   \n",
       "3       ripple    xrp           XRP   \n",
       "4       tether   usdt        Tether   \n",
       "\n",
       "                                               image  current_price  \\\n",
       "0  https://assets.coingecko.com/coins/images/1/la...       60120.00   \n",
       "1  https://assets.coingecko.com/coins/images/279/...        2152.70   \n",
       "2  https://assets.coingecko.com/coins/images/825/...         592.28   \n",
       "3  https://assets.coingecko.com/coins/images/44/l...           1.35   \n",
       "4  https://assets.coingecko.com/coins/images/325/...           1.00   \n",
       "\n",
       "      market_cap  market_cap_rank  fully_diluted_valuation  total_volume  \\\n",
       "0  1124821859281                1             1.264481e+12   50874583434   \n",
       "1   248501025564                2                      NaN   27308314081   \n",
       "2    91296938496                3             1.007496e+11    8955421355   \n",
       "3    62135812473                4                      NaN   14357099783   \n",
       "4    44589003741                5                      NaN  112897158507   \n",
       "\n",
       "   high_24h  ...  total_supply   max_supply       ath  ath_change_percentage  \\\n",
       "0  61262.00  ...  2.100000e+07   21000000.0  61712.00               -2.42819   \n",
       "1   2195.22  ...           NaN          NaN   2198.36               -2.07708   \n",
       "2    610.06  ...  1.705337e+08  170533651.9    610.06               -2.91366   \n",
       "3      1.41  ...  1.000000e+11          NaN      3.40              -60.17330   \n",
       "4      1.01  ...  4.456192e+10          NaN      1.32              -24.37372   \n",
       "\n",
       "                   ath_date        atl  atl_change_percentage  \\\n",
       "0  2021-03-13T20:49:26.606Z  67.810000           8.869852e+04   \n",
       "1  2021-04-10T04:23:58.850Z   0.432979           4.970832e+05   \n",
       "2  2021-04-12T09:32:32.635Z   0.039818           1.487380e+06   \n",
       "3  2018-01-07T00:00:00.000Z   0.002686           5.028668e+04   \n",
       "4  2018-07-24T00:00:00.000Z   0.572521           7.477223e+01   \n",
       "\n",
       "                   atl_date  \\\n",
       "0  2013-07-06T00:00:00.000Z   \n",
       "1  2015-10-20T00:00:00.000Z   \n",
       "2  2017-10-19T00:00:00.000Z   \n",
       "3  2014-05-22T00:00:00.000Z   \n",
       "4  2015-03-02T00:00:00.000Z   \n",
       "\n",
       "                                                 roi              last_updated  \n",
       "0                                               None  2021-04-12T10:00:18.220Z  \n",
       "1  {'times': 46.76601875876229, 'currency': 'btc'...  2021-04-12T10:00:16.863Z  \n",
       "2                                               None  2021-04-12T10:00:10.583Z  \n",
       "3                                               None  2021-04-12T10:01:10.816Z  \n",
       "4                                               None  2021-04-12T09:07:21.326Z  \n",
       "\n",
       "[5 rows x 26 columns]"
      ]
     },
     "execution_count": 3,
     "metadata": {},
     "output_type": "execute_result"
    }
   ],
   "source": [
    "# Get a list of the top 100 based on market cap\n",
    "coins = cg.get_coins_markets(vs_currency = w_Currency.value)\n",
    "# Create a dataframe from the dictionary defined above\n",
    "df = pd.DataFrame.from_dict(coins)\n",
    "\n",
    "df.head()"
   ]
  },
  {
   "cell_type": "markdown",
   "metadata": {},
   "source": [
    "## 2. Clean Data\n",
    "#### This will remove unnecessary data"
   ]
  },
  {
   "cell_type": "code",
   "execution_count": 4,
   "metadata": {},
   "outputs": [
    {
     "data": {
      "text/html": [
       "<div>\n",
       "<style scoped>\n",
       "    .dataframe tbody tr th:only-of-type {\n",
       "        vertical-align: middle;\n",
       "    }\n",
       "\n",
       "    .dataframe tbody tr th {\n",
       "        vertical-align: top;\n",
       "    }\n",
       "\n",
       "    .dataframe thead th {\n",
       "        text-align: right;\n",
       "    }\n",
       "</style>\n",
       "<table border=\"1\" class=\"dataframe\">\n",
       "  <thead>\n",
       "    <tr style=\"text-align: right;\">\n",
       "      <th></th>\n",
       "      <th>current_price</th>\n",
       "      <th>market_cap</th>\n",
       "      <th>market_cap_rank</th>\n",
       "      <th>total_volume</th>\n",
       "      <th>high_24h</th>\n",
       "      <th>low_24h</th>\n",
       "      <th>price_change_24h</th>\n",
       "      <th>price_change_percentage_24h</th>\n",
       "    </tr>\n",
       "    <tr>\n",
       "      <th>id</th>\n",
       "      <th></th>\n",
       "      <th></th>\n",
       "      <th></th>\n",
       "      <th></th>\n",
       "      <th></th>\n",
       "      <th></th>\n",
       "      <th></th>\n",
       "      <th></th>\n",
       "    </tr>\n",
       "  </thead>\n",
       "  <tbody>\n",
       "    <tr>\n",
       "      <th>bitcoin</th>\n",
       "      <td>60120.000000</td>\n",
       "      <td>1124821859281</td>\n",
       "      <td>1</td>\n",
       "      <td>50874583434</td>\n",
       "      <td>61262.000000</td>\n",
       "      <td>59334.000000</td>\n",
       "      <td>462.780000</td>\n",
       "      <td>0.77572</td>\n",
       "    </tr>\n",
       "    <tr>\n",
       "      <th>ethereum</th>\n",
       "      <td>2152.700000</td>\n",
       "      <td>248501025564</td>\n",
       "      <td>2</td>\n",
       "      <td>27308314081</td>\n",
       "      <td>2195.220000</td>\n",
       "      <td>2127.940000</td>\n",
       "      <td>14.540000</td>\n",
       "      <td>0.68006</td>\n",
       "    </tr>\n",
       "    <tr>\n",
       "      <th>binancecoin</th>\n",
       "      <td>592.280000</td>\n",
       "      <td>91296938496</td>\n",
       "      <td>3</td>\n",
       "      <td>8955421355</td>\n",
       "      <td>610.060000</td>\n",
       "      <td>466.580000</td>\n",
       "      <td>122.700000</td>\n",
       "      <td>26.12988</td>\n",
       "    </tr>\n",
       "    <tr>\n",
       "      <th>ripple</th>\n",
       "      <td>1.350000</td>\n",
       "      <td>62135812473</td>\n",
       "      <td>4</td>\n",
       "      <td>14357099783</td>\n",
       "      <td>1.410000</td>\n",
       "      <td>1.320000</td>\n",
       "      <td>-0.051082</td>\n",
       "      <td>-3.64088</td>\n",
       "    </tr>\n",
       "    <tr>\n",
       "      <th>tether</th>\n",
       "      <td>1.000000</td>\n",
       "      <td>44589003741</td>\n",
       "      <td>5</td>\n",
       "      <td>112897158507</td>\n",
       "      <td>1.010000</td>\n",
       "      <td>0.997323</td>\n",
       "      <td>0.000655</td>\n",
       "      <td>0.06555</td>\n",
       "    </tr>\n",
       "    <tr>\n",
       "      <th>...</th>\n",
       "      <td>...</td>\n",
       "      <td>...</td>\n",
       "      <td>...</td>\n",
       "      <td>...</td>\n",
       "      <td>...</td>\n",
       "      <td>...</td>\n",
       "      <td>...</td>\n",
       "      <td>...</td>\n",
       "    </tr>\n",
       "    <tr>\n",
       "      <th>reserve-rights-token</th>\n",
       "      <td>0.085611</td>\n",
       "      <td>1131265932</td>\n",
       "      <td>96</td>\n",
       "      <td>111431168</td>\n",
       "      <td>0.089581</td>\n",
       "      <td>0.085401</td>\n",
       "      <td>-0.003970</td>\n",
       "      <td>-4.43189</td>\n",
       "    </tr>\n",
       "    <tr>\n",
       "      <th>fantom</th>\n",
       "      <td>0.434625</td>\n",
       "      <td>1109374768</td>\n",
       "      <td>97</td>\n",
       "      <td>98366504</td>\n",
       "      <td>0.465733</td>\n",
       "      <td>0.432175</td>\n",
       "      <td>-0.002204</td>\n",
       "      <td>-0.50462</td>\n",
       "    </tr>\n",
       "    <tr>\n",
       "      <th>ankr</th>\n",
       "      <td>0.156594</td>\n",
       "      <td>1099246645</td>\n",
       "      <td>98</td>\n",
       "      <td>187730112</td>\n",
       "      <td>0.162731</td>\n",
       "      <td>0.149143</td>\n",
       "      <td>0.005389</td>\n",
       "      <td>3.56375</td>\n",
       "    </tr>\n",
       "    <tr>\n",
       "      <th>bmax</th>\n",
       "      <td>1.430000</td>\n",
       "      <td>1091319111</td>\n",
       "      <td>99</td>\n",
       "      <td>9926944</td>\n",
       "      <td>1.500000</td>\n",
       "      <td>1.200000</td>\n",
       "      <td>0.200413</td>\n",
       "      <td>16.32351</td>\n",
       "    </tr>\n",
       "    <tr>\n",
       "      <th>iostoken</th>\n",
       "      <td>0.057701</td>\n",
       "      <td>1073660720</td>\n",
       "      <td>100</td>\n",
       "      <td>520368500</td>\n",
       "      <td>0.059810</td>\n",
       "      <td>0.056076</td>\n",
       "      <td>0.001422</td>\n",
       "      <td>2.52600</td>\n",
       "    </tr>\n",
       "  </tbody>\n",
       "</table>\n",
       "<p>100 rows × 8 columns</p>\n",
       "</div>"
      ],
      "text/plain": [
       "                      current_price     market_cap  market_cap_rank  \\\n",
       "id                                                                    \n",
       "bitcoin                60120.000000  1124821859281                1   \n",
       "ethereum                2152.700000   248501025564                2   \n",
       "binancecoin              592.280000    91296938496                3   \n",
       "ripple                     1.350000    62135812473                4   \n",
       "tether                     1.000000    44589003741                5   \n",
       "...                             ...            ...              ...   \n",
       "reserve-rights-token       0.085611     1131265932               96   \n",
       "fantom                     0.434625     1109374768               97   \n",
       "ankr                       0.156594     1099246645               98   \n",
       "bmax                       1.430000     1091319111               99   \n",
       "iostoken                   0.057701     1073660720              100   \n",
       "\n",
       "                      total_volume      high_24h       low_24h  \\\n",
       "id                                                               \n",
       "bitcoin                50874583434  61262.000000  59334.000000   \n",
       "ethereum               27308314081   2195.220000   2127.940000   \n",
       "binancecoin             8955421355    610.060000    466.580000   \n",
       "ripple                 14357099783      1.410000      1.320000   \n",
       "tether                112897158507      1.010000      0.997323   \n",
       "...                            ...           ...           ...   \n",
       "reserve-rights-token     111431168      0.089581      0.085401   \n",
       "fantom                    98366504      0.465733      0.432175   \n",
       "ankr                     187730112      0.162731      0.149143   \n",
       "bmax                       9926944      1.500000      1.200000   \n",
       "iostoken                 520368500      0.059810      0.056076   \n",
       "\n",
       "                      price_change_24h  price_change_percentage_24h  \n",
       "id                                                                   \n",
       "bitcoin                     462.780000                      0.77572  \n",
       "ethereum                     14.540000                      0.68006  \n",
       "binancecoin                 122.700000                     26.12988  \n",
       "ripple                       -0.051082                     -3.64088  \n",
       "tether                        0.000655                      0.06555  \n",
       "...                                ...                          ...  \n",
       "reserve-rights-token         -0.003970                     -4.43189  \n",
       "fantom                       -0.002204                     -0.50462  \n",
       "ankr                          0.005389                      3.56375  \n",
       "bmax                          0.200413                     16.32351  \n",
       "iostoken                      0.001422                      2.52600  \n",
       "\n",
       "[100 rows x 8 columns]"
      ]
     },
     "execution_count": 4,
     "metadata": {},
     "output_type": "execute_result"
    }
   ],
   "source": [
    "#why are we removing these columns, why are they unuseful?\n",
    "df = df.drop(columns=['name', 'symbol', 'image', 'roi','atl_date',\n",
    "                    'fully_diluted_valuation', 'total_supply', 'max_supply', 'circulating_supply',\n",
    "                    'ath_date', 'last_updated', 'market_cap_change_24h','market_cap_change_percentage_24h',\n",
    "                     'ath', 'ath_change_percentage', 'atl', 'atl_change_percentage'])\n",
    "df = df.set_index('id')\n",
    "df\n",
    "\n"
   ]
  },
  {
   "cell_type": "markdown",
   "metadata": {},
   "source": [
    "## 3. Sort Data\n",
    "#### This will sort data based on"
   ]
  },
  {
   "cell_type": "code",
   "execution_count": 5,
   "metadata": {},
   "outputs": [
    {
     "data": {
      "application/vnd.jupyter.widget-view+json": {
       "model_id": "df0057de16e944f2b029dc37363aeb8c",
       "version_major": 2,
       "version_minor": 0
      },
      "text/plain": [
       "Dropdown(description='Sort By:', options=('current_price', 'market_cap', 'high_24h', 'low_24h', 'price_change_…"
      ]
     },
     "metadata": {},
     "output_type": "display_data"
    }
   ],
   "source": [
    "w_SortValues = ipy.Dropdown(\n",
    "    options=['current_price', 'market_cap', 'high_24h', 'low_24h', \n",
    "             'price_change_24h', 'price_change_percentage_24h'],\n",
    "    value='current_price',\n",
    "    description='Sort By:',\n",
    "    disabled=False,\n",
    ")\n",
    "\n",
    "w_SortValues"
   ]
  },
  {
   "cell_type": "code",
   "execution_count": 6,
   "metadata": {
    "pycharm": {
     "is_executing": false
    }
   },
   "outputs": [
    {
     "data": {
      "text/html": [
       "<div>\n",
       "<style scoped>\n",
       "    .dataframe tbody tr th:only-of-type {\n",
       "        vertical-align: middle;\n",
       "    }\n",
       "\n",
       "    .dataframe tbody tr th {\n",
       "        vertical-align: top;\n",
       "    }\n",
       "\n",
       "    .dataframe thead th {\n",
       "        text-align: right;\n",
       "    }\n",
       "</style>\n",
       "<table border=\"1\" class=\"dataframe\">\n",
       "  <thead>\n",
       "    <tr style=\"text-align: right;\">\n",
       "      <th></th>\n",
       "      <th>id</th>\n",
       "      <th>price_change_percentage_24h</th>\n",
       "    </tr>\n",
       "  </thead>\n",
       "  <tbody>\n",
       "    <tr>\n",
       "      <th>0</th>\n",
       "      <td>ethos</td>\n",
       "      <td>33.03247</td>\n",
       "    </tr>\n",
       "    <tr>\n",
       "      <th>1</th>\n",
       "      <td>binancecoin</td>\n",
       "      <td>26.12988</td>\n",
       "    </tr>\n",
       "    <tr>\n",
       "      <th>2</th>\n",
       "      <td>bmax</td>\n",
       "      <td>16.32351</td>\n",
       "    </tr>\n",
       "    <tr>\n",
       "      <th>3</th>\n",
       "      <td>huobi-token</td>\n",
       "      <td>15.26937</td>\n",
       "    </tr>\n",
       "    <tr>\n",
       "      <th>4</th>\n",
       "      <td>kucoin-shares</td>\n",
       "      <td>13.35232</td>\n",
       "    </tr>\n",
       "    <tr>\n",
       "      <th>...</th>\n",
       "      <td>...</td>\n",
       "      <td>...</td>\n",
       "    </tr>\n",
       "    <tr>\n",
       "      <th>95</th>\n",
       "      <td>yearn-finance</td>\n",
       "      <td>-7.51421</td>\n",
       "    </tr>\n",
       "    <tr>\n",
       "      <th>96</th>\n",
       "      <td>ecomi</td>\n",
       "      <td>-8.32666</td>\n",
       "    </tr>\n",
       "    <tr>\n",
       "      <th>97</th>\n",
       "      <td>harmony</td>\n",
       "      <td>-8.36655</td>\n",
       "    </tr>\n",
       "    <tr>\n",
       "      <th>98</th>\n",
       "      <td>bitcoin-gold</td>\n",
       "      <td>-8.96850</td>\n",
       "    </tr>\n",
       "    <tr>\n",
       "      <th>99</th>\n",
       "      <td>nem</td>\n",
       "      <td>-10.30581</td>\n",
       "    </tr>\n",
       "  </tbody>\n",
       "</table>\n",
       "<p>100 rows × 2 columns</p>\n",
       "</div>"
      ],
      "text/plain": [
       "               id  price_change_percentage_24h\n",
       "0           ethos                     33.03247\n",
       "1     binancecoin                     26.12988\n",
       "2            bmax                     16.32351\n",
       "3     huobi-token                     15.26937\n",
       "4   kucoin-shares                     13.35232\n",
       "..            ...                          ...\n",
       "95  yearn-finance                     -7.51421\n",
       "96          ecomi                     -8.32666\n",
       "97        harmony                     -8.36655\n",
       "98   bitcoin-gold                     -8.96850\n",
       "99            nem                    -10.30581\n",
       "\n",
       "[100 rows x 2 columns]"
      ]
     },
     "execution_count": 6,
     "metadata": {},
     "output_type": "execute_result"
    }
   ],
   "source": [
    "# sort the values by above parameter\n",
    "df = df.sort_values(by=w_SortValues.value, ascending=False)\n",
    "# create a new dataframe with the top 25 cryptos\n",
    "df = df[[w_SortValues.value]]#remove all columns except the sort parameter\n",
    "\n",
    "# reset index\n",
    "df.reset_index(inplace=True)\n",
    "# view the top dataframe\n",
    "df\n",
    "\n",
    "# TODO add stuff to print this data if needed\n",
    "# top25.to_csv('123.csv')"
   ]
  },
  {
   "cell_type": "code",
   "execution_count": 7,
   "metadata": {},
   "outputs": [
    {
     "data": {
      "application/vnd.jupyter.widget-view+json": {
       "model_id": "00692218118848c7938111a1f23988a5",
       "version_major": 2,
       "version_minor": 0
      },
      "text/plain": [
       "IntSlider(value=5, continuous_update=False, description='How many values would you like to view:')"
      ]
     },
     "metadata": {},
     "output_type": "display_data"
    }
   ],
   "source": [
    "w_ViewValues = ipy.IntSlider(\n",
    "    value=5,\n",
    "    min=0,\n",
    "    max=100,\n",
    "    step=1,\n",
    "    description='How many values would you like to view:',\n",
    "    disabled=False,\n",
    "    continuous_update=False,\n",
    "    orientation='horizontal',\n",
    "    readout=True,\n",
    "    readout_format='d'\n",
    ")\n",
    "\n",
    "w_ViewValues"
   ]
  },
  {
   "cell_type": "code",
   "execution_count": 16,
   "metadata": {},
   "outputs": [],
   "source": [
    "df1 = df.head(w_ViewValues.value)\n",
    "listOfCryptos = df1['id'].tolist()\n",
    "#df1\n",
    "#listOfCryptos"
   ]
  },
  {
   "cell_type": "code",
   "execution_count": 17,
   "metadata": {},
   "outputs": [
    {
     "data": {
      "application/vnd.plotly.v1+json": {
       "config": {
        "plotlyServerURL": "https://plot.ly"
       },
       "data": [
        {
         "alignmentgroup": "True",
         "hovertemplate": "id=%{x}<br>price_change_percentage_24h=%{y}<extra></extra>",
         "legendgroup": "",
         "marker": {
          "color": "#636efa"
         },
         "name": "",
         "offsetgroup": "",
         "orientation": "v",
         "showlegend": false,
         "textposition": "auto",
         "type": "bar",
         "x": [
          "ethos",
          "binancecoin",
          "bmax",
          "huobi-token",
          "kucoin-shares",
          "pundi-x-2",
          "pancakeswap-token",
          "wink",
          "flow",
          "monero",
          "holotoken",
          "okb",
          "ftx-token",
          "uniswap",
          "cardano",
          "icon",
          "cosmos",
          "the-graph",
          "tron",
          "solana",
          "dent",
          "pundi-x",
          "algorand",
          "blockstack",
          "maker",
          "ankr",
          "decentraland",
          "nexo",
          "chiliz",
          "iostoken",
          "avalanche-2",
          "aave",
          "ravencoin",
          "zcash",
          "qtum",
          "dogecoin",
          "wrapped-bitcoin"
         ],
         "xaxis": "x",
         "y": [
          33.03247,
          26.12988,
          16.32351,
          15.26937,
          13.35232,
          13.24393,
          12.91489,
          12.1514,
          10.7827,
          10.52269,
          10.27576,
          9.72477,
          9.18369,
          9.17948,
          8.4225,
          8.32562,
          7.07497,
          6.82013,
          6.75313,
          6.25127,
          5.36664,
          5.33886,
          5.0653,
          4.39575,
          4.36578,
          3.56375,
          3.1443,
          2.66536,
          2.55952,
          2.526,
          1.90885,
          1.74513,
          1.52757,
          1.33386,
          1.29619,
          1.16631,
          1.038
         ],
         "yaxis": "y"
        }
       ],
       "layout": {
        "barmode": "relative",
        "legend": {
         "tracegroupgap": 0
        },
        "template": {
         "data": {
          "bar": [
           {
            "error_x": {
             "color": "#2a3f5f"
            },
            "error_y": {
             "color": "#2a3f5f"
            },
            "marker": {
             "line": {
              "color": "#E5ECF6",
              "width": 0.5
             }
            },
            "type": "bar"
           }
          ],
          "barpolar": [
           {
            "marker": {
             "line": {
              "color": "#E5ECF6",
              "width": 0.5
             }
            },
            "type": "barpolar"
           }
          ],
          "carpet": [
           {
            "aaxis": {
             "endlinecolor": "#2a3f5f",
             "gridcolor": "white",
             "linecolor": "white",
             "minorgridcolor": "white",
             "startlinecolor": "#2a3f5f"
            },
            "baxis": {
             "endlinecolor": "#2a3f5f",
             "gridcolor": "white",
             "linecolor": "white",
             "minorgridcolor": "white",
             "startlinecolor": "#2a3f5f"
            },
            "type": "carpet"
           }
          ],
          "choropleth": [
           {
            "colorbar": {
             "outlinewidth": 0,
             "ticks": ""
            },
            "type": "choropleth"
           }
          ],
          "contour": [
           {
            "colorbar": {
             "outlinewidth": 0,
             "ticks": ""
            },
            "colorscale": [
             [
              0,
              "#0d0887"
             ],
             [
              0.1111111111111111,
              "#46039f"
             ],
             [
              0.2222222222222222,
              "#7201a8"
             ],
             [
              0.3333333333333333,
              "#9c179e"
             ],
             [
              0.4444444444444444,
              "#bd3786"
             ],
             [
              0.5555555555555556,
              "#d8576b"
             ],
             [
              0.6666666666666666,
              "#ed7953"
             ],
             [
              0.7777777777777778,
              "#fb9f3a"
             ],
             [
              0.8888888888888888,
              "#fdca26"
             ],
             [
              1,
              "#f0f921"
             ]
            ],
            "type": "contour"
           }
          ],
          "contourcarpet": [
           {
            "colorbar": {
             "outlinewidth": 0,
             "ticks": ""
            },
            "type": "contourcarpet"
           }
          ],
          "heatmap": [
           {
            "colorbar": {
             "outlinewidth": 0,
             "ticks": ""
            },
            "colorscale": [
             [
              0,
              "#0d0887"
             ],
             [
              0.1111111111111111,
              "#46039f"
             ],
             [
              0.2222222222222222,
              "#7201a8"
             ],
             [
              0.3333333333333333,
              "#9c179e"
             ],
             [
              0.4444444444444444,
              "#bd3786"
             ],
             [
              0.5555555555555556,
              "#d8576b"
             ],
             [
              0.6666666666666666,
              "#ed7953"
             ],
             [
              0.7777777777777778,
              "#fb9f3a"
             ],
             [
              0.8888888888888888,
              "#fdca26"
             ],
             [
              1,
              "#f0f921"
             ]
            ],
            "type": "heatmap"
           }
          ],
          "heatmapgl": [
           {
            "colorbar": {
             "outlinewidth": 0,
             "ticks": ""
            },
            "colorscale": [
             [
              0,
              "#0d0887"
             ],
             [
              0.1111111111111111,
              "#46039f"
             ],
             [
              0.2222222222222222,
              "#7201a8"
             ],
             [
              0.3333333333333333,
              "#9c179e"
             ],
             [
              0.4444444444444444,
              "#bd3786"
             ],
             [
              0.5555555555555556,
              "#d8576b"
             ],
             [
              0.6666666666666666,
              "#ed7953"
             ],
             [
              0.7777777777777778,
              "#fb9f3a"
             ],
             [
              0.8888888888888888,
              "#fdca26"
             ],
             [
              1,
              "#f0f921"
             ]
            ],
            "type": "heatmapgl"
           }
          ],
          "histogram": [
           {
            "marker": {
             "colorbar": {
              "outlinewidth": 0,
              "ticks": ""
             }
            },
            "type": "histogram"
           }
          ],
          "histogram2d": [
           {
            "colorbar": {
             "outlinewidth": 0,
             "ticks": ""
            },
            "colorscale": [
             [
              0,
              "#0d0887"
             ],
             [
              0.1111111111111111,
              "#46039f"
             ],
             [
              0.2222222222222222,
              "#7201a8"
             ],
             [
              0.3333333333333333,
              "#9c179e"
             ],
             [
              0.4444444444444444,
              "#bd3786"
             ],
             [
              0.5555555555555556,
              "#d8576b"
             ],
             [
              0.6666666666666666,
              "#ed7953"
             ],
             [
              0.7777777777777778,
              "#fb9f3a"
             ],
             [
              0.8888888888888888,
              "#fdca26"
             ],
             [
              1,
              "#f0f921"
             ]
            ],
            "type": "histogram2d"
           }
          ],
          "histogram2dcontour": [
           {
            "colorbar": {
             "outlinewidth": 0,
             "ticks": ""
            },
            "colorscale": [
             [
              0,
              "#0d0887"
             ],
             [
              0.1111111111111111,
              "#46039f"
             ],
             [
              0.2222222222222222,
              "#7201a8"
             ],
             [
              0.3333333333333333,
              "#9c179e"
             ],
             [
              0.4444444444444444,
              "#bd3786"
             ],
             [
              0.5555555555555556,
              "#d8576b"
             ],
             [
              0.6666666666666666,
              "#ed7953"
             ],
             [
              0.7777777777777778,
              "#fb9f3a"
             ],
             [
              0.8888888888888888,
              "#fdca26"
             ],
             [
              1,
              "#f0f921"
             ]
            ],
            "type": "histogram2dcontour"
           }
          ],
          "mesh3d": [
           {
            "colorbar": {
             "outlinewidth": 0,
             "ticks": ""
            },
            "type": "mesh3d"
           }
          ],
          "parcoords": [
           {
            "line": {
             "colorbar": {
              "outlinewidth": 0,
              "ticks": ""
             }
            },
            "type": "parcoords"
           }
          ],
          "pie": [
           {
            "automargin": true,
            "type": "pie"
           }
          ],
          "scatter": [
           {
            "marker": {
             "colorbar": {
              "outlinewidth": 0,
              "ticks": ""
             }
            },
            "type": "scatter"
           }
          ],
          "scatter3d": [
           {
            "line": {
             "colorbar": {
              "outlinewidth": 0,
              "ticks": ""
             }
            },
            "marker": {
             "colorbar": {
              "outlinewidth": 0,
              "ticks": ""
             }
            },
            "type": "scatter3d"
           }
          ],
          "scattercarpet": [
           {
            "marker": {
             "colorbar": {
              "outlinewidth": 0,
              "ticks": ""
             }
            },
            "type": "scattercarpet"
           }
          ],
          "scattergeo": [
           {
            "marker": {
             "colorbar": {
              "outlinewidth": 0,
              "ticks": ""
             }
            },
            "type": "scattergeo"
           }
          ],
          "scattergl": [
           {
            "marker": {
             "colorbar": {
              "outlinewidth": 0,
              "ticks": ""
             }
            },
            "type": "scattergl"
           }
          ],
          "scattermapbox": [
           {
            "marker": {
             "colorbar": {
              "outlinewidth": 0,
              "ticks": ""
             }
            },
            "type": "scattermapbox"
           }
          ],
          "scatterpolar": [
           {
            "marker": {
             "colorbar": {
              "outlinewidth": 0,
              "ticks": ""
             }
            },
            "type": "scatterpolar"
           }
          ],
          "scatterpolargl": [
           {
            "marker": {
             "colorbar": {
              "outlinewidth": 0,
              "ticks": ""
             }
            },
            "type": "scatterpolargl"
           }
          ],
          "scatterternary": [
           {
            "marker": {
             "colorbar": {
              "outlinewidth": 0,
              "ticks": ""
             }
            },
            "type": "scatterternary"
           }
          ],
          "surface": [
           {
            "colorbar": {
             "outlinewidth": 0,
             "ticks": ""
            },
            "colorscale": [
             [
              0,
              "#0d0887"
             ],
             [
              0.1111111111111111,
              "#46039f"
             ],
             [
              0.2222222222222222,
              "#7201a8"
             ],
             [
              0.3333333333333333,
              "#9c179e"
             ],
             [
              0.4444444444444444,
              "#bd3786"
             ],
             [
              0.5555555555555556,
              "#d8576b"
             ],
             [
              0.6666666666666666,
              "#ed7953"
             ],
             [
              0.7777777777777778,
              "#fb9f3a"
             ],
             [
              0.8888888888888888,
              "#fdca26"
             ],
             [
              1,
              "#f0f921"
             ]
            ],
            "type": "surface"
           }
          ],
          "table": [
           {
            "cells": {
             "fill": {
              "color": "#EBF0F8"
             },
             "line": {
              "color": "white"
             }
            },
            "header": {
             "fill": {
              "color": "#C8D4E3"
             },
             "line": {
              "color": "white"
             }
            },
            "type": "table"
           }
          ]
         },
         "layout": {
          "annotationdefaults": {
           "arrowcolor": "#2a3f5f",
           "arrowhead": 0,
           "arrowwidth": 1
          },
          "autotypenumbers": "strict",
          "coloraxis": {
           "colorbar": {
            "outlinewidth": 0,
            "ticks": ""
           }
          },
          "colorscale": {
           "diverging": [
            [
             0,
             "#8e0152"
            ],
            [
             0.1,
             "#c51b7d"
            ],
            [
             0.2,
             "#de77ae"
            ],
            [
             0.3,
             "#f1b6da"
            ],
            [
             0.4,
             "#fde0ef"
            ],
            [
             0.5,
             "#f7f7f7"
            ],
            [
             0.6,
             "#e6f5d0"
            ],
            [
             0.7,
             "#b8e186"
            ],
            [
             0.8,
             "#7fbc41"
            ],
            [
             0.9,
             "#4d9221"
            ],
            [
             1,
             "#276419"
            ]
           ],
           "sequential": [
            [
             0,
             "#0d0887"
            ],
            [
             0.1111111111111111,
             "#46039f"
            ],
            [
             0.2222222222222222,
             "#7201a8"
            ],
            [
             0.3333333333333333,
             "#9c179e"
            ],
            [
             0.4444444444444444,
             "#bd3786"
            ],
            [
             0.5555555555555556,
             "#d8576b"
            ],
            [
             0.6666666666666666,
             "#ed7953"
            ],
            [
             0.7777777777777778,
             "#fb9f3a"
            ],
            [
             0.8888888888888888,
             "#fdca26"
            ],
            [
             1,
             "#f0f921"
            ]
           ],
           "sequentialminus": [
            [
             0,
             "#0d0887"
            ],
            [
             0.1111111111111111,
             "#46039f"
            ],
            [
             0.2222222222222222,
             "#7201a8"
            ],
            [
             0.3333333333333333,
             "#9c179e"
            ],
            [
             0.4444444444444444,
             "#bd3786"
            ],
            [
             0.5555555555555556,
             "#d8576b"
            ],
            [
             0.6666666666666666,
             "#ed7953"
            ],
            [
             0.7777777777777778,
             "#fb9f3a"
            ],
            [
             0.8888888888888888,
             "#fdca26"
            ],
            [
             1,
             "#f0f921"
            ]
           ]
          },
          "colorway": [
           "#636efa",
           "#EF553B",
           "#00cc96",
           "#ab63fa",
           "#FFA15A",
           "#19d3f3",
           "#FF6692",
           "#B6E880",
           "#FF97FF",
           "#FECB52"
          ],
          "font": {
           "color": "#2a3f5f"
          },
          "geo": {
           "bgcolor": "white",
           "lakecolor": "white",
           "landcolor": "#E5ECF6",
           "showlakes": true,
           "showland": true,
           "subunitcolor": "white"
          },
          "hoverlabel": {
           "align": "left"
          },
          "hovermode": "closest",
          "mapbox": {
           "style": "light"
          },
          "paper_bgcolor": "white",
          "plot_bgcolor": "#E5ECF6",
          "polar": {
           "angularaxis": {
            "gridcolor": "white",
            "linecolor": "white",
            "ticks": ""
           },
           "bgcolor": "#E5ECF6",
           "radialaxis": {
            "gridcolor": "white",
            "linecolor": "white",
            "ticks": ""
           }
          },
          "scene": {
           "xaxis": {
            "backgroundcolor": "#E5ECF6",
            "gridcolor": "white",
            "gridwidth": 2,
            "linecolor": "white",
            "showbackground": true,
            "ticks": "",
            "zerolinecolor": "white"
           },
           "yaxis": {
            "backgroundcolor": "#E5ECF6",
            "gridcolor": "white",
            "gridwidth": 2,
            "linecolor": "white",
            "showbackground": true,
            "ticks": "",
            "zerolinecolor": "white"
           },
           "zaxis": {
            "backgroundcolor": "#E5ECF6",
            "gridcolor": "white",
            "gridwidth": 2,
            "linecolor": "white",
            "showbackground": true,
            "ticks": "",
            "zerolinecolor": "white"
           }
          },
          "shapedefaults": {
           "line": {
            "color": "#2a3f5f"
           }
          },
          "ternary": {
           "aaxis": {
            "gridcolor": "white",
            "linecolor": "white",
            "ticks": ""
           },
           "baxis": {
            "gridcolor": "white",
            "linecolor": "white",
            "ticks": ""
           },
           "bgcolor": "#E5ECF6",
           "caxis": {
            "gridcolor": "white",
            "linecolor": "white",
            "ticks": ""
           }
          },
          "title": {
           "x": 0.05
          },
          "xaxis": {
           "automargin": true,
           "gridcolor": "white",
           "linecolor": "white",
           "ticks": "",
           "title": {
            "standoff": 15
           },
           "zerolinecolor": "white",
           "zerolinewidth": 2
          },
          "yaxis": {
           "automargin": true,
           "gridcolor": "white",
           "linecolor": "white",
           "ticks": "",
           "title": {
            "standoff": 15
           },
           "zerolinecolor": "white",
           "zerolinewidth": 2
          }
         }
        },
        "title": {
         "text": "24h Biggest Movers"
        },
        "xaxis": {
         "anchor": "y",
         "domain": [
          0,
          1
         ],
         "title": {
          "text": "id"
         }
        },
        "yaxis": {
         "anchor": "x",
         "domain": [
          0,
          1
         ],
         "title": {
          "text": "price_change_percentage_24h"
         }
        }
       }
      },
      "text/html": [
       "<div>                            <div id=\"e33518b7-4156-4eea-83f4-e4c04e1428b5\" class=\"plotly-graph-div\" style=\"height:525px; width:100%;\"></div>            <script type=\"text/javascript\">                require([\"plotly\"], function(Plotly) {                    window.PLOTLYENV=window.PLOTLYENV || {};                                    if (document.getElementById(\"e33518b7-4156-4eea-83f4-e4c04e1428b5\")) {                    Plotly.newPlot(                        \"e33518b7-4156-4eea-83f4-e4c04e1428b5\",                        [{\"alignmentgroup\": \"True\", \"hovertemplate\": \"id=%{x}<br>price_change_percentage_24h=%{y}<extra></extra>\", \"legendgroup\": \"\", \"marker\": {\"color\": \"#636efa\"}, \"name\": \"\", \"offsetgroup\": \"\", \"orientation\": \"v\", \"showlegend\": false, \"textposition\": \"auto\", \"type\": \"bar\", \"x\": [\"ethos\", \"binancecoin\", \"bmax\", \"huobi-token\", \"kucoin-shares\", \"pundi-x-2\", \"pancakeswap-token\", \"wink\", \"flow\", \"monero\", \"holotoken\", \"okb\", \"ftx-token\", \"uniswap\", \"cardano\", \"icon\", \"cosmos\", \"the-graph\", \"tron\", \"solana\", \"dent\", \"pundi-x\", \"algorand\", \"blockstack\", \"maker\", \"ankr\", \"decentraland\", \"nexo\", \"chiliz\", \"iostoken\", \"avalanche-2\", \"aave\", \"ravencoin\", \"zcash\", \"qtum\", \"dogecoin\", \"wrapped-bitcoin\"], \"xaxis\": \"x\", \"y\": [33.03247, 26.12988, 16.32351, 15.26937, 13.35232, 13.24393, 12.91489, 12.1514, 10.7827, 10.52269, 10.27576, 9.72477, 9.18369, 9.17948, 8.4225, 8.32562, 7.07497, 6.82013, 6.75313, 6.25127, 5.36664, 5.33886, 5.0653, 4.39575, 4.36578, 3.56375, 3.1443, 2.66536, 2.55952, 2.526, 1.90885, 1.74513, 1.52757, 1.33386, 1.29619, 1.16631, 1.038], \"yaxis\": \"y\"}],                        {\"barmode\": \"relative\", \"legend\": {\"tracegroupgap\": 0}, \"template\": {\"data\": {\"bar\": [{\"error_x\": {\"color\": \"#2a3f5f\"}, \"error_y\": {\"color\": \"#2a3f5f\"}, \"marker\": {\"line\": {\"color\": \"#E5ECF6\", \"width\": 0.5}}, \"type\": \"bar\"}], \"barpolar\": [{\"marker\": {\"line\": {\"color\": \"#E5ECF6\", \"width\": 0.5}}, \"type\": \"barpolar\"}], \"carpet\": [{\"aaxis\": {\"endlinecolor\": \"#2a3f5f\", \"gridcolor\": \"white\", \"linecolor\": \"white\", \"minorgridcolor\": \"white\", \"startlinecolor\": \"#2a3f5f\"}, \"baxis\": {\"endlinecolor\": \"#2a3f5f\", \"gridcolor\": \"white\", \"linecolor\": \"white\", \"minorgridcolor\": \"white\", \"startlinecolor\": \"#2a3f5f\"}, \"type\": \"carpet\"}], \"choropleth\": [{\"colorbar\": {\"outlinewidth\": 0, \"ticks\": \"\"}, \"type\": \"choropleth\"}], \"contour\": [{\"colorbar\": {\"outlinewidth\": 0, \"ticks\": \"\"}, \"colorscale\": [[0.0, \"#0d0887\"], [0.1111111111111111, \"#46039f\"], [0.2222222222222222, \"#7201a8\"], [0.3333333333333333, \"#9c179e\"], [0.4444444444444444, \"#bd3786\"], [0.5555555555555556, \"#d8576b\"], [0.6666666666666666, \"#ed7953\"], [0.7777777777777778, \"#fb9f3a\"], [0.8888888888888888, \"#fdca26\"], [1.0, \"#f0f921\"]], \"type\": \"contour\"}], \"contourcarpet\": [{\"colorbar\": {\"outlinewidth\": 0, \"ticks\": \"\"}, \"type\": \"contourcarpet\"}], \"heatmap\": [{\"colorbar\": {\"outlinewidth\": 0, \"ticks\": \"\"}, \"colorscale\": [[0.0, \"#0d0887\"], [0.1111111111111111, \"#46039f\"], [0.2222222222222222, \"#7201a8\"], [0.3333333333333333, \"#9c179e\"], [0.4444444444444444, \"#bd3786\"], [0.5555555555555556, \"#d8576b\"], [0.6666666666666666, \"#ed7953\"], [0.7777777777777778, \"#fb9f3a\"], [0.8888888888888888, \"#fdca26\"], [1.0, \"#f0f921\"]], \"type\": \"heatmap\"}], \"heatmapgl\": [{\"colorbar\": {\"outlinewidth\": 0, \"ticks\": \"\"}, \"colorscale\": [[0.0, \"#0d0887\"], [0.1111111111111111, \"#46039f\"], [0.2222222222222222, \"#7201a8\"], [0.3333333333333333, \"#9c179e\"], [0.4444444444444444, \"#bd3786\"], [0.5555555555555556, \"#d8576b\"], [0.6666666666666666, \"#ed7953\"], [0.7777777777777778, \"#fb9f3a\"], [0.8888888888888888, \"#fdca26\"], [1.0, \"#f0f921\"]], \"type\": \"heatmapgl\"}], \"histogram\": [{\"marker\": {\"colorbar\": {\"outlinewidth\": 0, \"ticks\": \"\"}}, \"type\": \"histogram\"}], \"histogram2d\": [{\"colorbar\": {\"outlinewidth\": 0, \"ticks\": \"\"}, \"colorscale\": [[0.0, \"#0d0887\"], [0.1111111111111111, \"#46039f\"], [0.2222222222222222, \"#7201a8\"], [0.3333333333333333, \"#9c179e\"], [0.4444444444444444, \"#bd3786\"], [0.5555555555555556, \"#d8576b\"], [0.6666666666666666, \"#ed7953\"], [0.7777777777777778, \"#fb9f3a\"], [0.8888888888888888, \"#fdca26\"], [1.0, \"#f0f921\"]], \"type\": \"histogram2d\"}], \"histogram2dcontour\": [{\"colorbar\": {\"outlinewidth\": 0, \"ticks\": \"\"}, \"colorscale\": [[0.0, \"#0d0887\"], [0.1111111111111111, \"#46039f\"], [0.2222222222222222, \"#7201a8\"], [0.3333333333333333, \"#9c179e\"], [0.4444444444444444, \"#bd3786\"], [0.5555555555555556, \"#d8576b\"], [0.6666666666666666, \"#ed7953\"], [0.7777777777777778, \"#fb9f3a\"], [0.8888888888888888, \"#fdca26\"], [1.0, \"#f0f921\"]], \"type\": \"histogram2dcontour\"}], \"mesh3d\": [{\"colorbar\": {\"outlinewidth\": 0, \"ticks\": \"\"}, \"type\": \"mesh3d\"}], \"parcoords\": [{\"line\": {\"colorbar\": {\"outlinewidth\": 0, \"ticks\": \"\"}}, \"type\": \"parcoords\"}], \"pie\": [{\"automargin\": true, \"type\": \"pie\"}], \"scatter\": [{\"marker\": {\"colorbar\": {\"outlinewidth\": 0, \"ticks\": \"\"}}, \"type\": \"scatter\"}], \"scatter3d\": [{\"line\": {\"colorbar\": {\"outlinewidth\": 0, \"ticks\": \"\"}}, \"marker\": {\"colorbar\": {\"outlinewidth\": 0, \"ticks\": \"\"}}, \"type\": \"scatter3d\"}], \"scattercarpet\": [{\"marker\": {\"colorbar\": {\"outlinewidth\": 0, \"ticks\": \"\"}}, \"type\": \"scattercarpet\"}], \"scattergeo\": [{\"marker\": {\"colorbar\": {\"outlinewidth\": 0, \"ticks\": \"\"}}, \"type\": \"scattergeo\"}], \"scattergl\": [{\"marker\": {\"colorbar\": {\"outlinewidth\": 0, \"ticks\": \"\"}}, \"type\": \"scattergl\"}], \"scattermapbox\": [{\"marker\": {\"colorbar\": {\"outlinewidth\": 0, \"ticks\": \"\"}}, \"type\": \"scattermapbox\"}], \"scatterpolar\": [{\"marker\": {\"colorbar\": {\"outlinewidth\": 0, \"ticks\": \"\"}}, \"type\": \"scatterpolar\"}], \"scatterpolargl\": [{\"marker\": {\"colorbar\": {\"outlinewidth\": 0, \"ticks\": \"\"}}, \"type\": \"scatterpolargl\"}], \"scatterternary\": [{\"marker\": {\"colorbar\": {\"outlinewidth\": 0, \"ticks\": \"\"}}, \"type\": \"scatterternary\"}], \"surface\": [{\"colorbar\": {\"outlinewidth\": 0, \"ticks\": \"\"}, \"colorscale\": [[0.0, \"#0d0887\"], [0.1111111111111111, \"#46039f\"], [0.2222222222222222, \"#7201a8\"], [0.3333333333333333, \"#9c179e\"], [0.4444444444444444, \"#bd3786\"], [0.5555555555555556, \"#d8576b\"], [0.6666666666666666, \"#ed7953\"], [0.7777777777777778, \"#fb9f3a\"], [0.8888888888888888, \"#fdca26\"], [1.0, \"#f0f921\"]], \"type\": \"surface\"}], \"table\": [{\"cells\": {\"fill\": {\"color\": \"#EBF0F8\"}, \"line\": {\"color\": \"white\"}}, \"header\": {\"fill\": {\"color\": \"#C8D4E3\"}, \"line\": {\"color\": \"white\"}}, \"type\": \"table\"}]}, \"layout\": {\"annotationdefaults\": {\"arrowcolor\": \"#2a3f5f\", \"arrowhead\": 0, \"arrowwidth\": 1}, \"autotypenumbers\": \"strict\", \"coloraxis\": {\"colorbar\": {\"outlinewidth\": 0, \"ticks\": \"\"}}, \"colorscale\": {\"diverging\": [[0, \"#8e0152\"], [0.1, \"#c51b7d\"], [0.2, \"#de77ae\"], [0.3, \"#f1b6da\"], [0.4, \"#fde0ef\"], [0.5, \"#f7f7f7\"], [0.6, \"#e6f5d0\"], [0.7, \"#b8e186\"], [0.8, \"#7fbc41\"], [0.9, \"#4d9221\"], [1, \"#276419\"]], \"sequential\": [[0.0, \"#0d0887\"], [0.1111111111111111, \"#46039f\"], [0.2222222222222222, \"#7201a8\"], [0.3333333333333333, \"#9c179e\"], [0.4444444444444444, \"#bd3786\"], [0.5555555555555556, \"#d8576b\"], [0.6666666666666666, \"#ed7953\"], [0.7777777777777778, \"#fb9f3a\"], [0.8888888888888888, \"#fdca26\"], [1.0, \"#f0f921\"]], \"sequentialminus\": [[0.0, \"#0d0887\"], [0.1111111111111111, \"#46039f\"], [0.2222222222222222, \"#7201a8\"], [0.3333333333333333, \"#9c179e\"], [0.4444444444444444, \"#bd3786\"], [0.5555555555555556, \"#d8576b\"], [0.6666666666666666, \"#ed7953\"], [0.7777777777777778, \"#fb9f3a\"], [0.8888888888888888, \"#fdca26\"], [1.0, \"#f0f921\"]]}, \"colorway\": [\"#636efa\", \"#EF553B\", \"#00cc96\", \"#ab63fa\", \"#FFA15A\", \"#19d3f3\", \"#FF6692\", \"#B6E880\", \"#FF97FF\", \"#FECB52\"], \"font\": {\"color\": \"#2a3f5f\"}, \"geo\": {\"bgcolor\": \"white\", \"lakecolor\": \"white\", \"landcolor\": \"#E5ECF6\", \"showlakes\": true, \"showland\": true, \"subunitcolor\": \"white\"}, \"hoverlabel\": {\"align\": \"left\"}, \"hovermode\": \"closest\", \"mapbox\": {\"style\": \"light\"}, \"paper_bgcolor\": \"white\", \"plot_bgcolor\": \"#E5ECF6\", \"polar\": {\"angularaxis\": {\"gridcolor\": \"white\", \"linecolor\": \"white\", \"ticks\": \"\"}, \"bgcolor\": \"#E5ECF6\", \"radialaxis\": {\"gridcolor\": \"white\", \"linecolor\": \"white\", \"ticks\": \"\"}}, \"scene\": {\"xaxis\": {\"backgroundcolor\": \"#E5ECF6\", \"gridcolor\": \"white\", \"gridwidth\": 2, \"linecolor\": \"white\", \"showbackground\": true, \"ticks\": \"\", \"zerolinecolor\": \"white\"}, \"yaxis\": {\"backgroundcolor\": \"#E5ECF6\", \"gridcolor\": \"white\", \"gridwidth\": 2, \"linecolor\": \"white\", \"showbackground\": true, \"ticks\": \"\", \"zerolinecolor\": \"white\"}, \"zaxis\": {\"backgroundcolor\": \"#E5ECF6\", \"gridcolor\": \"white\", \"gridwidth\": 2, \"linecolor\": \"white\", \"showbackground\": true, \"ticks\": \"\", \"zerolinecolor\": \"white\"}}, \"shapedefaults\": {\"line\": {\"color\": \"#2a3f5f\"}}, \"ternary\": {\"aaxis\": {\"gridcolor\": \"white\", \"linecolor\": \"white\", \"ticks\": \"\"}, \"baxis\": {\"gridcolor\": \"white\", \"linecolor\": \"white\", \"ticks\": \"\"}, \"bgcolor\": \"#E5ECF6\", \"caxis\": {\"gridcolor\": \"white\", \"linecolor\": \"white\", \"ticks\": \"\"}}, \"title\": {\"x\": 0.05}, \"xaxis\": {\"automargin\": true, \"gridcolor\": \"white\", \"linecolor\": \"white\", \"ticks\": \"\", \"title\": {\"standoff\": 15}, \"zerolinecolor\": \"white\", \"zerolinewidth\": 2}, \"yaxis\": {\"automargin\": true, \"gridcolor\": \"white\", \"linecolor\": \"white\", \"ticks\": \"\", \"title\": {\"standoff\": 15}, \"zerolinecolor\": \"white\", \"zerolinewidth\": 2}}}, \"title\": {\"text\": \"24h Biggest Movers\"}, \"xaxis\": {\"anchor\": \"y\", \"domain\": [0.0, 1.0], \"title\": {\"text\": \"id\"}}, \"yaxis\": {\"anchor\": \"x\", \"domain\": [0.0, 1.0], \"title\": {\"text\": \"price_change_percentage_24h\"}}},                        {\"responsive\": true}                    ).then(function(){\n",
       "                            \n",
       "var gd = document.getElementById('e33518b7-4156-4eea-83f4-e4c04e1428b5');\n",
       "var x = new MutationObserver(function (mutations, observer) {{\n",
       "        var display = window.getComputedStyle(gd).display;\n",
       "        if (!display || display === 'none') {{\n",
       "            console.log([gd, 'removed!']);\n",
       "            Plotly.purge(gd);\n",
       "            observer.disconnect();\n",
       "        }}\n",
       "}});\n",
       "\n",
       "// Listen for the removal of the full notebook cells\n",
       "var notebookContainer = gd.closest('#notebook-container');\n",
       "if (notebookContainer) {{\n",
       "    x.observe(notebookContainer, {childList: true});\n",
       "}}\n",
       "\n",
       "// Listen for the clearing of the current output cell\n",
       "var outputEl = gd.closest('.output');\n",
       "if (outputEl) {{\n",
       "    x.observe(outputEl, {childList: true});\n",
       "}}\n",
       "\n",
       "                        })                };                });            </script>        </div>"
      ]
     },
     "metadata": {},
     "output_type": "display_data"
    }
   ],
   "source": [
    "fig1 = px.bar(df1, x=\"id\", y=\"price_change_percentage_24h\", title = '24h Biggest Movers')\n",
    "fig1.show()"
   ]
  },
  {
   "cell_type": "code",
   "execution_count": 18,
   "metadata": {},
   "outputs": [
    {
     "data": {
      "application/vnd.jupyter.widget-view+json": {
       "model_id": "d830353ae5e845fe96031fc33d604198",
       "version_major": 2,
       "version_minor": 0
      },
      "text/plain": [
       "Dropdown(description='Sort By:', index=1, options=('ethos', 'binancecoin', 'bmax', 'huobi-token', 'kucoin-shar…"
      ]
     },
     "metadata": {},
     "output_type": "display_data"
    }
   ],
   "source": [
    "w_ChosenCrypto = ipy.Dropdown(\n",
    "    options= listOfCryptos ,\n",
    "    value = listOfCryptos[1],\n",
    "    description='Sort By:',\n",
    "    disabled=False,\n",
    ")\n",
    "\n",
    "w_ChosenCrypto"
   ]
  },
  {
   "cell_type": "markdown",
   "metadata": {},
   "source": [
    "#### Choose date value\n",
    "##### Choosing a value here(slider below) will give you a history in days. Eg. 30 = 30days history"
   ]
  },
  {
   "cell_type": "code",
   "execution_count": 20,
   "metadata": {},
   "outputs": [
    {
     "data": {
      "application/vnd.jupyter.widget-view+json": {
       "model_id": "b3678ec1ff284021a929f56163c8b88d",
       "version_major": 2,
       "version_minor": 0
      },
      "text/plain": [
       "IntSlider(value=14, continuous_update=False, description='History Days', max=1095)"
      ]
     },
     "metadata": {},
     "output_type": "display_data"
    }
   ],
   "source": [
    "w_DateHistory = ipy.IntSlider(\n",
    "    value=14,\n",
    "    min=0,\n",
    "    max=1095,\n",
    "    step=1,\n",
    "    description='History Days',\n",
    "    disabled=False,\n",
    "    continuous_update=False,\n",
    "    orientation='horizontal',\n",
    "    readout=True,\n",
    "    readout_format='d'\n",
    ")\n",
    "\n",
    "w_DateHistory"
   ]
  },
  {
   "cell_type": "code",
   "execution_count": 21,
   "metadata": {
    "pycharm": {
     "is_executing": false,
     "name": "#%%\n"
    }
   },
   "outputs": [
    {
     "data": {
      "text/html": [
       "<div>\n",
       "<style scoped>\n",
       "    .dataframe tbody tr th:only-of-type {\n",
       "        vertical-align: middle;\n",
       "    }\n",
       "\n",
       "    .dataframe tbody tr th {\n",
       "        vertical-align: top;\n",
       "    }\n",
       "\n",
       "    .dataframe thead th {\n",
       "        text-align: right;\n",
       "    }\n",
       "</style>\n",
       "<table border=\"1\" class=\"dataframe\">\n",
       "  <thead>\n",
       "    <tr style=\"text-align: right;\">\n",
       "      <th></th>\n",
       "      <th>timestamp</th>\n",
       "      <th>price</th>\n",
       "    </tr>\n",
       "  </thead>\n",
       "  <tbody>\n",
       "    <tr>\n",
       "      <th>0</th>\n",
       "      <td>2021-02-28 11:01:50.602</td>\n",
       "      <td>215.224679</td>\n",
       "    </tr>\n",
       "    <tr>\n",
       "      <th>1</th>\n",
       "      <td>2021-02-28 12:05:26.713</td>\n",
       "      <td>218.308568</td>\n",
       "    </tr>\n",
       "    <tr>\n",
       "      <th>2</th>\n",
       "      <td>2021-02-28 13:04:10.728</td>\n",
       "      <td>211.009902</td>\n",
       "    </tr>\n",
       "    <tr>\n",
       "      <th>3</th>\n",
       "      <td>2021-02-28 14:07:32.453</td>\n",
       "      <td>209.777447</td>\n",
       "    </tr>\n",
       "    <tr>\n",
       "      <th>4</th>\n",
       "      <td>2021-02-28 15:04:36.048</td>\n",
       "      <td>206.481295</td>\n",
       "    </tr>\n",
       "    <tr>\n",
       "      <th>...</th>\n",
       "      <td>...</td>\n",
       "      <td>...</td>\n",
       "    </tr>\n",
       "    <tr>\n",
       "      <th>1029</th>\n",
       "      <td>2021-04-12 07:04:05.868</td>\n",
       "      <td>565.866743</td>\n",
       "    </tr>\n",
       "    <tr>\n",
       "      <th>1030</th>\n",
       "      <td>2021-04-12 08:02:41.943</td>\n",
       "      <td>577.275221</td>\n",
       "    </tr>\n",
       "    <tr>\n",
       "      <th>1031</th>\n",
       "      <td>2021-04-12 09:06:39.437</td>\n",
       "      <td>596.528112</td>\n",
       "    </tr>\n",
       "    <tr>\n",
       "      <th>1032</th>\n",
       "      <td>2021-04-12 10:01:19.948</td>\n",
       "      <td>592.823355</td>\n",
       "    </tr>\n",
       "    <tr>\n",
       "      <th>1033</th>\n",
       "      <td>2021-04-12 10:12:01.000</td>\n",
       "      <td>579.966500</td>\n",
       "    </tr>\n",
       "  </tbody>\n",
       "</table>\n",
       "<p>1034 rows × 2 columns</p>\n",
       "</div>"
      ],
      "text/plain": [
       "                   timestamp       price\n",
       "0    2021-02-28 11:01:50.602  215.224679\n",
       "1    2021-02-28 12:05:26.713  218.308568\n",
       "2    2021-02-28 13:04:10.728  211.009902\n",
       "3    2021-02-28 14:07:32.453  209.777447\n",
       "4    2021-02-28 15:04:36.048  206.481295\n",
       "...                      ...         ...\n",
       "1029 2021-04-12 07:04:05.868  565.866743\n",
       "1030 2021-04-12 08:02:41.943  577.275221\n",
       "1031 2021-04-12 09:06:39.437  596.528112\n",
       "1032 2021-04-12 10:01:19.948  592.823355\n",
       "1033 2021-04-12 10:12:01.000  579.966500\n",
       "\n",
       "[1034 rows x 2 columns]"
      ]
     },
     "execution_count": 21,
     "metadata": {},
     "output_type": "execute_result"
    }
   ],
   "source": [
    "var = cg.get_coin_market_chart_by_id(w_ChosenCrypto.value,w_Currency.value, w_DateHistory.value)\n",
    "test_df = pd.DataFrame.from_dict(var)\n",
    "#drop last two columns\n",
    "test_df.drop(columns=['market_caps', 'total_volumes'], inplace=True)\n",
    "#create new dataframe and seperate data + convert unix timestamp to date\n",
    "test_df1 = pd.DataFrame(test_df[\"prices\"].to_list(), columns=['timestamp', 'price'])\n",
    "test_df1['timestamp']= pd.to_datetime(test_df1['timestamp'], unit='ms')\n",
    "test_df1"
   ]
  },
  {
   "cell_type": "markdown",
   "metadata": {},
   "source": [
    "## 3. Plot Data\n",
    "#### This will plot the sorted data"
   ]
  },
  {
   "cell_type": "code",
   "execution_count": 22,
   "metadata": {},
   "outputs": [
    {
     "data": {
      "application/vnd.plotly.v1+json": {
       "config": {
        "plotlyServerURL": "https://plot.ly"
       },
       "data": [
        {
         "hovertemplate": "timestamp=%{x}<br>price=%{y}<extra></extra>",
         "legendgroup": "",
         "line": {
          "color": "#636efa",
          "dash": "solid"
         },
         "mode": "lines",
         "name": "",
         "showlegend": false,
         "type": "scattergl",
         "x": [
          "2021-02-28T11:01:50.602000",
          "2021-02-28T12:05:26.713000",
          "2021-02-28T13:04:10.728000",
          "2021-02-28T14:07:32.453000",
          "2021-02-28T15:04:36.048000",
          "2021-02-28T16:04:02.500000",
          "2021-02-28T17:03:34.970000",
          "2021-02-28T18:04:18.884000",
          "2021-02-28T19:06:17.510000",
          "2021-02-28T20:04:07.819000",
          "2021-02-28T21:04:30.357000",
          "2021-02-28T22:04:40.034000",
          "2021-02-28T23:07:54.193000",
          "2021-03-01T00:08:20.913000",
          "2021-03-01T01:12:23.876000",
          "2021-03-01T02:06:48.530000",
          "2021-03-01T03:03:57.803000",
          "2021-03-01T04:06:41.683000",
          "2021-03-01T05:07:37.318000",
          "2021-03-01T06:08:05.129000",
          "2021-03-01T07:05:43.081000",
          "2021-03-01T08:06:42.661000",
          "2021-03-01T09:01:33.022000",
          "2021-03-01T10:06:29.372000",
          "2021-03-01T11:04:05.781000",
          "2021-03-01T12:02:00.775000",
          "2021-03-01T13:01:26.778000",
          "2021-03-01T14:06:26.636000",
          "2021-03-01T15:07:43.717000",
          "2021-03-01T16:06:55.249000",
          "2021-03-01T17:08:01.506000",
          "2021-03-01T18:03:10.133000",
          "2021-03-01T19:04:11.142000",
          "2021-03-01T20:05:03.441000",
          "2021-03-01T21:05:22.056000",
          "2021-03-01T22:07:46.714000",
          "2021-03-01T23:08:03.685000",
          "2021-03-02T00:09:23.768000",
          "2021-03-02T01:29:08.898000",
          "2021-03-02T02:04:26.057000",
          "2021-03-02T03:01:29.087000",
          "2021-03-02T04:03:40.459000",
          "2021-03-02T05:05:54.622000",
          "2021-03-02T06:12:02.686000",
          "2021-03-02T07:05:17.926000",
          "2021-03-02T08:06:39.664000",
          "2021-03-02T09:06:16.229000",
          "2021-03-02T10:05:03.367000",
          "2021-03-02T11:07:30.861000",
          "2021-03-02T12:08:32.278000",
          "2021-03-02T13:24:42.601000",
          "2021-03-02T14:08:23.531000",
          "2021-03-02T15:09:29.837000",
          "2021-03-02T16:04:54.916000",
          "2021-03-02T17:06:14.906000",
          "2021-03-02T18:08:50.088000",
          "2021-03-02T19:07:00.117000",
          "2021-03-02T20:07:35.318000",
          "2021-03-02T21:09:11.905000",
          "2021-03-02T22:07:46.388000",
          "2021-03-02T23:06:04.266000",
          "2021-03-03T00:07:45.058000",
          "2021-03-03T01:04:45.112000",
          "2021-03-03T02:07:22.018000",
          "2021-03-03T03:00:55.011000",
          "2021-03-03T04:06:36.885000",
          "2021-03-03T05:09:00.291000",
          "2021-03-03T06:05:07.288000",
          "2021-03-03T07:09:16.577000",
          "2021-03-03T08:07:10.126000",
          "2021-03-03T09:03:54.739000",
          "2021-03-03T10:08:27.792000",
          "2021-03-03T11:07:43.858000",
          "2021-03-03T12:04:14.406000",
          "2021-03-03T13:01:12.072000",
          "2021-03-03T14:03:42.388000",
          "2021-03-03T15:04:58.414000",
          "2021-03-03T16:12:08.921000",
          "2021-03-03T17:11:26",
          "2021-03-03T18:02:10.511000",
          "2021-03-03T19:02:15.996000",
          "2021-03-03T20:07:03.298000",
          "2021-03-03T21:09:52.354000",
          "2021-03-03T22:02:25.429000",
          "2021-03-03T23:08:26.170000",
          "2021-03-04T00:01:37.443000",
          "2021-03-04T01:06:10.056000",
          "2021-03-04T02:04:06.442000",
          "2021-03-04T03:05:28.452000",
          "2021-03-04T04:02:19.449000",
          "2021-03-04T05:01:53.427000",
          "2021-03-04T06:00:08.526000",
          "2021-03-04T07:06:37.778000",
          "2021-03-04T08:05:13.162000",
          "2021-03-04T09:04:09.765000",
          "2021-03-04T10:06:06.298000",
          "2021-03-04T11:11:39.187000",
          "2021-03-04T12:05:12.336000",
          "2021-03-04T13:05:10.020000",
          "2021-03-04T14:01:29.594000",
          "2021-03-04T15:06:58.006000",
          "2021-03-04T16:05:29.190000",
          "2021-03-04T17:02:04.888000",
          "2021-03-04T18:02:18.285000",
          "2021-03-04T19:06:33.508000",
          "2021-03-04T20:04:49.923000",
          "2021-03-04T21:09:41.039000",
          "2021-03-04T22:09:48.406000",
          "2021-03-04T23:08:49.197000",
          "2021-03-05T00:04:27.762000",
          "2021-03-05T01:12:33.678000",
          "2021-03-05T02:01:13.876000",
          "2021-03-05T03:06:29.928000",
          "2021-03-05T04:08:53.153000",
          "2021-03-05T05:09:27.728000",
          "2021-03-05T06:11:48.731000",
          "2021-03-05T07:09:15.515000",
          "2021-03-05T08:02:26.252000",
          "2021-03-05T09:08:40.069000",
          "2021-03-05T10:05:17.818000",
          "2021-03-05T11:03:54.623000",
          "2021-03-05T12:09:37.577000",
          "2021-03-05T13:00:30.638000",
          "2021-03-05T14:02:02.325000",
          "2021-03-05T15:08:55.369000",
          "2021-03-05T16:00:47.312000",
          "2021-03-05T17:07:01.134000",
          "2021-03-05T18:01:33.588000",
          "2021-03-05T19:05:21.754000",
          "2021-03-05T20:03:14.571000",
          "2021-03-05T21:10:50.080000",
          "2021-03-05T22:02:16.393000",
          "2021-03-05T23:09:40.547000",
          "2021-03-06T00:10:46.905000",
          "2021-03-06T01:26:10.576000",
          "2021-03-06T02:10:33.413000",
          "2021-03-06T03:08:30.279000",
          "2021-03-06T04:07:55.635000",
          "2021-03-06T05:03:37.401000",
          "2021-03-06T06:07:47.869000",
          "2021-03-06T07:09:34.384000",
          "2021-03-06T08:07:52.586000",
          "2021-03-06T09:06:36.613000",
          "2021-03-06T10:08:51.584000",
          "2021-03-06T11:04:43.409000",
          "2021-03-06T12:10:12.592000",
          "2021-03-06T13:04:30.513000",
          "2021-03-06T14:11:51.379000",
          "2021-03-06T15:05:01.556000",
          "2021-03-06T16:04:59.707000",
          "2021-03-06T17:00:07.806000",
          "2021-03-06T18:09:22.466000",
          "2021-03-06T19:05:16.019000",
          "2021-03-06T20:11:41.164000",
          "2021-03-06T21:01:41.618000",
          "2021-03-06T22:04:28.377000",
          "2021-03-06T23:14:16.529000",
          "2021-03-07T00:02:07.183000",
          "2021-03-07T01:29:04.880000",
          "2021-03-07T02:13:43.982000",
          "2021-03-07T03:13:15.362000",
          "2021-03-07T04:17:04.232000",
          "2021-03-07T05:12:46.546000",
          "2021-03-07T06:12:56.779000",
          "2021-03-07T07:22:53.228000",
          "2021-03-07T08:04:57.274000",
          "2021-03-07T09:02:03.797000",
          "2021-03-07T10:04:27.136000",
          "2021-03-07T11:03:30.415000",
          "2021-03-07T12:04:16.381000",
          "2021-03-07T13:00:50.210000",
          "2021-03-07T14:01:29.716000",
          "2021-03-07T15:02:51.660000",
          "2021-03-07T16:04:33.832000",
          "2021-03-07T17:00:52.993000",
          "2021-03-07T18:04:37.996000",
          "2021-03-07T19:05:17.106000",
          "2021-03-07T20:00:28.167000",
          "2021-03-07T21:05:53.625000",
          "2021-03-07T22:07:23.897000",
          "2021-03-07T23:03:58.310000",
          "2021-03-08T00:00:20.849000",
          "2021-03-08T01:19:54.670000",
          "2021-03-08T02:14:25.568000",
          "2021-03-08T03:13:06.133000",
          "2021-03-08T04:02:26.723000",
          "2021-03-08T05:04:30.837000",
          "2021-03-08T06:03:41.179000",
          "2021-03-08T07:00:56.356000",
          "2021-03-08T08:00:59.230000",
          "2021-03-08T09:01:02.819000",
          "2021-03-08T10:06:27.032000",
          "2021-03-08T11:05:29.186000",
          "2021-03-08T12:01:41.606000",
          "2021-03-08T13:07:32.597000",
          "2021-03-08T14:01:58.637000",
          "2021-03-08T15:02:57.022000",
          "2021-03-08T16:08:33.484000",
          "2021-03-08T17:06:48.947000",
          "2021-03-08T18:07:12.350000",
          "2021-03-08T19:02:36.799000",
          "2021-03-08T20:07:36.778000",
          "2021-03-08T21:06:57.431000",
          "2021-03-08T22:01:06.580000",
          "2021-03-08T23:02:00.224000",
          "2021-03-09T00:06:37.941000",
          "2021-03-09T01:23:43.470000",
          "2021-03-09T02:10:39.060000",
          "2021-03-09T03:05:57.358000",
          "2021-03-09T04:00:52.120000",
          "2021-03-09T05:01:55.565000",
          "2021-03-09T06:00:54.833000",
          "2021-03-09T07:01:11.824000",
          "2021-03-09T08:11:27.646000",
          "2021-03-09T09:07:02.422000",
          "2021-03-09T10:07:03.533000",
          "2021-03-09T11:02:27.677000",
          "2021-03-09T12:04:41.836000",
          "2021-03-09T13:01:03.520000",
          "2021-03-09T14:05:41.749000",
          "2021-03-09T15:08:28.159000",
          "2021-03-09T16:09:08.347000",
          "2021-03-09T17:00:09.423000",
          "2021-03-09T18:05:59.044000",
          "2021-03-09T19:03:30.856000",
          "2021-03-09T20:02:45.641000",
          "2021-03-09T21:06:40.166000",
          "2021-03-09T22:09:16.190000",
          "2021-03-09T23:05:44.434000",
          "2021-03-10T00:02:10.045000",
          "2021-03-10T01:04:56.631000",
          "2021-03-10T02:07:41.785000",
          "2021-03-10T03:02:26.716000",
          "2021-03-10T04:01:46.183000",
          "2021-03-10T05:09:22.872000",
          "2021-03-10T06:08:42.335000",
          "2021-03-10T07:03:14.194000",
          "2021-03-10T08:02:50.070000",
          "2021-03-10T09:02:51.327000",
          "2021-03-10T10:07:28.781000",
          "2021-03-10T11:03:00.338000",
          "2021-03-10T12:01:27.259000",
          "2021-03-10T13:07:19.511000",
          "2021-03-10T14:01:11.292000",
          "2021-03-10T15:01:13.102000",
          "2021-03-10T16:01:30.519000",
          "2021-03-10T17:00:51.035000",
          "2021-03-10T18:03:04.975000",
          "2021-03-10T19:00:09.955000",
          "2021-03-10T20:05:05.054000",
          "2021-03-10T21:01:33.039000",
          "2021-03-10T22:01:42.385000",
          "2021-03-10T23:05:25.419000",
          "2021-03-11T00:03:51.418000",
          "2021-03-11T01:14:21.980000",
          "2021-03-11T02:04:23.143000",
          "2021-03-11T03:14:23.259000",
          "2021-03-11T04:02:05.124000",
          "2021-03-11T05:07:09.164000",
          "2021-03-11T06:01:20.143000",
          "2021-03-11T07:07:40.984000",
          "2021-03-11T08:13:47.584000",
          "2021-03-11T09:08:48.501000",
          "2021-03-11T10:01:23.295000",
          "2021-03-11T11:08:04.659000",
          "2021-03-11T12:01:36.190000",
          "2021-03-11T13:32:27.686000",
          "2021-03-11T14:05:36.653000",
          "2021-03-11T15:07:15.683000",
          "2021-03-11T16:04:10.760000",
          "2021-03-11T17:03:27.882000",
          "2021-03-11T18:05:21.933000",
          "2021-03-11T19:00:03.810000",
          "2021-03-11T20:07:24.801000",
          "2021-03-11T21:05:26.174000",
          "2021-03-11T22:09:01.674000",
          "2021-03-11T23:11:21.210000",
          "2021-03-12T00:08:25.648000",
          "2021-03-12T01:05:09.704000",
          "2021-03-12T02:02:57.774000",
          "2021-03-12T03:06:50.242000",
          "2021-03-12T04:02:44.584000",
          "2021-03-12T05:03:18.891000",
          "2021-03-12T06:06:37.808000",
          "2021-03-12T07:01:36.027000",
          "2021-03-12T08:06:23.718000",
          "2021-03-12T09:06:09.599000",
          "2021-03-12T10:01:25.822000",
          "2021-03-12T11:05:08.682000",
          "2021-03-12T12:05:00.578000",
          "2021-03-12T13:06:41.691000",
          "2021-03-12T14:05:59.292000",
          "2021-03-12T15:04:52.184000",
          "2021-03-12T16:13:34.467000",
          "2021-03-12T17:11:23.737000",
          "2021-03-12T18:02:30.230000",
          "2021-03-12T19:00:09.559000",
          "2021-03-12T20:01:22.832000",
          "2021-03-12T21:05:33.796000",
          "2021-03-12T22:01:28.922000",
          "2021-03-12T23:05:16.879000",
          "2021-03-13T00:00:28.269000",
          "2021-03-13T01:28:41.857000",
          "2021-03-13T02:00:24.126000",
          "2021-03-13T03:01:45.353000",
          "2021-03-13T04:00:22.686000",
          "2021-03-13T05:03:38.272000",
          "2021-03-13T06:06:00.065000",
          "2021-03-13T07:06:44.230000",
          "2021-03-13T08:01:19.977000",
          "2021-03-13T09:03:30.689000",
          "2021-03-13T10:07:02.119000",
          "2021-03-13T11:09:14.443000",
          "2021-03-13T12:05:04.956000",
          "2021-03-13T13:07:19.719000",
          "2021-03-13T14:00:02.792000",
          "2021-03-13T15:05:52.251000",
          "2021-03-13T16:07:50.304000",
          "2021-03-13T17:05:13.934000",
          "2021-03-13T18:01:41.456000",
          "2021-03-13T19:02:38.551000",
          "2021-03-13T20:07:28.536000",
          "2021-03-13T21:01:25.648000",
          "2021-03-13T22:02:17.604000",
          "2021-03-13T23:01:19.977000",
          "2021-03-14T00:05:47.635000",
          "2021-03-14T01:02:00.479000",
          "2021-03-14T02:01:25.146000",
          "2021-03-14T03:01:31.802000",
          "2021-03-14T04:03:01.117000",
          "2021-03-14T05:04:23.491000",
          "2021-03-14T06:00:52.252000",
          "2021-03-14T07:01:26.956000",
          "2021-03-14T08:01:20.696000",
          "2021-03-14T09:04:07.366000",
          "2021-03-14T10:02:39.249000",
          "2021-03-14T11:01:47.657000",
          "2021-03-14T12:00:27.200000",
          "2021-03-14T13:00:21.930000",
          "2021-03-14T14:02:47.290000",
          "2021-03-14T15:06:31.616000",
          "2021-03-14T16:04:13.943000",
          "2021-03-14T17:01:19.941000",
          "2021-03-14T18:00:19.768000",
          "2021-03-14T19:01:22.546000",
          "2021-03-14T20:04:09.516000",
          "2021-03-14T21:00:47.599000",
          "2021-03-14T22:01:44.122000",
          "2021-03-14T23:00:44.995000",
          "2021-03-15T00:04:58.324000",
          "2021-03-15T01:06:37.010000",
          "2021-03-15T02:02:02.204000",
          "2021-03-15T03:01:52.762000",
          "2021-03-15T04:01:31.898000",
          "2021-03-15T05:01:33.421000",
          "2021-03-15T06:10:06.112000",
          "2021-03-15T07:04:40.014000",
          "2021-03-15T08:01:42.079000",
          "2021-03-15T09:02:46.087000",
          "2021-03-15T10:04:12.475000",
          "2021-03-15T11:03:42.834000",
          "2021-03-15T12:02:50.900000",
          "2021-03-15T13:05:02.861000",
          "2021-03-15T14:06:47.353000",
          "2021-03-15T15:03:13.079000",
          "2021-03-15T16:01:20.365000",
          "2021-03-15T17:01:46.096000",
          "2021-03-15T18:01:29.123000",
          "2021-03-15T19:09:16.810000",
          "2021-03-15T20:04:26.787000",
          "2021-03-15T21:02:34.600000",
          "2021-03-15T22:01:36.349000",
          "2021-03-15T23:03:15.318000",
          "2021-03-16T00:03:31.620000",
          "2021-03-16T01:03:31.901000",
          "2021-03-16T02:01:56.444000",
          "2021-03-16T03:02:30.053000",
          "2021-03-16T04:06:23.748000",
          "2021-03-16T05:02:19.821000",
          "2021-03-16T06:03:31.521000",
          "2021-03-16T07:05:45.028000",
          "2021-03-16T08:03:10.756000",
          "2021-03-16T09:06:47.615000",
          "2021-03-16T10:04:05.030000",
          "2021-03-16T11:06:04.789000",
          "2021-03-16T12:01:10.251000",
          "2021-03-16T13:07:58.053000",
          "2021-03-16T14:08:03.799000",
          "2021-03-16T15:02:34.309000",
          "2021-03-16T16:01:52.095000",
          "2021-03-16T17:09:00.774000",
          "2021-03-16T18:14:15.881000",
          "2021-03-16T19:02:23.359000",
          "2021-03-16T20:00:53.916000",
          "2021-03-16T21:00:42.358000",
          "2021-03-16T22:03:06.798000",
          "2021-03-16T23:04:07.649000",
          "2021-03-17T00:04:22.471000",
          "2021-03-17T01:01:42.329000",
          "2021-03-17T02:02:13.423000",
          "2021-03-17T03:02:58.900000",
          "2021-03-17T04:01:06.718000",
          "2021-03-17T05:07:25.279000",
          "2021-03-17T06:04:07.351000",
          "2021-03-17T07:04:08.455000",
          "2021-03-17T08:05:32.152000",
          "2021-03-17T09:01:30.045000",
          "2021-03-17T10:01:35.147000",
          "2021-03-17T11:01:46.682000",
          "2021-03-17T12:01:19.694000",
          "2021-03-17T13:01:53.871000",
          "2021-03-17T14:03:00.354000",
          "2021-03-17T15:01:26.731000",
          "2021-03-17T16:08:46.815000",
          "2021-03-17T17:04:38.828000",
          "2021-03-17T18:01:41.441000",
          "2021-03-17T19:04:50.396000",
          "2021-03-17T20:03:41.519000",
          "2021-03-17T21:10:33.012000",
          "2021-03-17T22:10:33.404000",
          "2021-03-17T23:10:30.415000",
          "2021-03-18T00:03:42.084000",
          "2021-03-18T01:01:15.376000",
          "2021-03-18T02:02:36.976000",
          "2021-03-18T03:04:32.656000",
          "2021-03-18T04:04:40.309000",
          "2021-03-18T05:01:24.322000",
          "2021-03-18T06:06:24.445000",
          "2021-03-18T07:00:14.600000",
          "2021-03-18T08:01:18.601000",
          "2021-03-18T09:07:50.448000",
          "2021-03-18T10:04:03.406000",
          "2021-03-18T11:02:32.036000",
          "2021-03-18T12:02:00.582000",
          "2021-03-18T13:09:33.965000",
          "2021-03-18T14:05:56.595000",
          "2021-03-18T15:05:29.254000",
          "2021-03-18T16:44:07.302000",
          "2021-03-18T17:36:36.818000",
          "2021-03-18T18:30:15.918000",
          "2021-03-18T19:26:18.597000",
          "2021-03-18T20:34:01.411000",
          "2021-03-18T21:26:37.095000",
          "2021-03-18T22:24:30.710000",
          "2021-03-18T23:34:09.499000",
          "2021-03-19T00:34:48.581000",
          "2021-03-19T01:21:50.371000",
          "2021-03-19T02:31:25.022000",
          "2021-03-19T03:32:13.478000",
          "2021-03-19T04:28:29.540000",
          "2021-03-19T05:34:39.864000",
          "2021-03-19T06:31:17.568000",
          "2021-03-19T07:30:40.263000",
          "2021-03-19T08:33:22.256000",
          "2021-03-19T09:20:50.612000",
          "2021-03-19T10:22:56.134000",
          "2021-03-19T11:27:15.002000",
          "2021-03-19T12:41:08.526000",
          "2021-03-19T13:05:16.069000",
          "2021-03-19T14:17:29.147000",
          "2021-03-19T15:27:50.516000",
          "2021-03-19T16:17:23.348000",
          "2021-03-19T17:28:45.624000",
          "2021-03-19T18:31:45.658000",
          "2021-03-19T19:24:41.011000",
          "2021-03-19T20:15:12.257000",
          "2021-03-19T21:26:02.847000",
          "2021-03-19T22:29:23.205000",
          "2021-03-19T23:21:59.234000",
          "2021-03-20T00:31:37.048000",
          "2021-03-20T01:20:34.982000",
          "2021-03-20T02:32:27.937000",
          "2021-03-20T03:25:19.285000",
          "2021-03-20T04:19:37.331000",
          "2021-03-20T05:31:57.210000",
          "2021-03-20T06:31:50.326000",
          "2021-03-20T07:31:21.578000",
          "2021-03-20T08:31:58.657000",
          "2021-03-20T09:30:29.316000",
          "2021-03-20T10:29:53.929000",
          "2021-03-20T11:26:08.932000",
          "2021-03-20T12:29:04.917000",
          "2021-03-20T13:00:30.163000",
          "2021-03-20T14:08:24.258000",
          "2021-03-20T15:06:46.751000",
          "2021-03-20T16:15:43.016000",
          "2021-03-20T17:27:23.402000",
          "2021-03-20T18:11:20.608000",
          "2021-03-20T19:19:54.083000",
          "2021-03-20T20:26:03.123000",
          "2021-03-20T21:10:20.346000",
          "2021-03-20T22:01:11.316000",
          "2021-03-20T23:27:35.906000",
          "2021-03-21T00:31:45.100000",
          "2021-03-21T01:01:56.557000",
          "2021-03-21T02:10:11.248000",
          "2021-03-21T03:06:28.759000",
          "2021-03-21T04:04:47.240000",
          "2021-03-21T05:05:00.256000",
          "2021-03-21T06:11:58.727000",
          "2021-03-21T07:10:19.247000",
          "2021-03-21T08:11:56.588000",
          "2021-03-21T09:09:39.497000",
          "2021-03-21T10:10:58.659000",
          "2021-03-21T11:12:00.880000",
          "2021-03-21T12:01:07.130000",
          "2021-03-21T13:10:56.551000",
          "2021-03-21T14:01:13.128000",
          "2021-03-21T15:10:33.938000",
          "2021-03-21T16:00:24.543000",
          "2021-03-21T17:09:17.214000",
          "2021-03-21T18:00:27.930000",
          "2021-03-21T19:05:58.941000",
          "2021-03-21T20:04:07.878000",
          "2021-03-21T21:01:25.807000",
          "2021-03-21T22:15:08.563000",
          "2021-03-21T23:04:31.792000",
          "2021-03-22T00:11:36.591000",
          "2021-03-22T01:06:10.514000",
          "2021-03-22T02:13:27.107000",
          "2021-03-22T03:04:25.045000",
          "2021-03-22T04:06:54.234000",
          "2021-03-22T05:01:56.217000",
          "2021-03-22T06:12:36.725000",
          "2021-03-22T07:00:36.295000",
          "2021-03-22T08:14:13.521000",
          "2021-03-22T09:08:21.567000",
          "2021-03-22T10:13:15.569000",
          "2021-03-22T11:14:57.448000",
          "2021-03-22T12:15:21.707000",
          "2021-03-22T13:04:59.496000",
          "2021-03-22T14:08:59.165000",
          "2021-03-22T15:00:28.016000",
          "2021-03-22T16:00:20.426000",
          "2021-03-22T17:02:38.857000",
          "2021-03-22T18:12:09.189000",
          "2021-03-22T19:01:30.728000",
          "2021-03-22T20:12:08.247000",
          "2021-03-22T21:10:03.369000",
          "2021-03-22T22:14:14.922000",
          "2021-03-22T23:15:07.777000",
          "2021-03-23T00:15:42.322000",
          "2021-03-23T01:13:21.997000",
          "2021-03-23T02:03:15.751000",
          "2021-03-23T03:00:39.122000",
          "2021-03-23T04:05:12.989000",
          "2021-03-23T05:08:55.935000",
          "2021-03-23T06:36:13.222000",
          "2021-03-23T07:33:23.169000",
          "2021-03-23T08:33:13.526000",
          "2021-03-23T09:20:25.305000",
          "2021-03-23T10:35:45.984000",
          "2021-03-23T11:25:24.651000",
          "2021-03-23T12:33:56.798000",
          "2021-03-23T13:33:45.434000",
          "2021-03-23T14:35:16.638000",
          "2021-03-23T15:35:55.668000",
          "2021-03-23T16:25:33.292000",
          "2021-03-23T17:31:34.957000",
          "2021-03-23T18:17:18.615000",
          "2021-03-23T19:16:25.329000",
          "2021-03-23T20:16:28.482000",
          "2021-03-23T21:21:00.418000",
          "2021-03-23T22:14:12.641000",
          "2021-03-23T23:18:34.221000",
          "2021-03-24T00:16:48.104000",
          "2021-03-24T01:14:22.347000",
          "2021-03-24T02:30:38.955000",
          "2021-03-24T03:11:09.750000",
          "2021-03-24T04:26:54.204000",
          "2021-03-24T05:27:02.352000",
          "2021-03-24T06:23:24.251000",
          "2021-03-24T07:18:21.426000",
          "2021-03-24T08:33:10.892000",
          "2021-03-24T09:33:03.581000",
          "2021-03-24T10:31:49.803000",
          "2021-03-24T11:33:23.246000",
          "2021-03-24T12:37:02.750000",
          "2021-03-24T13:33:02.807000",
          "2021-03-24T14:30:45.054000",
          "2021-03-24T15:13:51.048000",
          "2021-03-24T16:24:55.035000",
          "2021-03-24T17:31:00.819000",
          "2021-03-24T18:34:16.512000",
          "2021-03-24T19:12:39.151000",
          "2021-03-24T20:36:19.429000",
          "2021-03-24T21:36:33.371000",
          "2021-03-24T22:34:43.848000",
          "2021-03-24T23:30:37.399000",
          "2021-03-25T00:33:18.588000",
          "2021-03-25T01:29:45.064000",
          "2021-03-25T02:19:55.591000",
          "2021-03-25T03:18:08.381000",
          "2021-03-25T04:25:02.115000",
          "2021-03-25T05:37:55.334000",
          "2021-03-25T06:12:20.206000",
          "2021-03-25T07:02:49.914000",
          "2021-03-25T08:25:20.153000",
          "2021-03-25T09:37:45.086000",
          "2021-03-25T10:06:00.574000",
          "2021-03-25T11:30:43.445000",
          "2021-03-25T12:31:27.709000",
          "2021-03-25T13:01:44.094000",
          "2021-03-25T14:21:25.788000",
          "2021-03-25T15:09:56.790000",
          "2021-03-25T16:28:36.712000",
          "2021-03-25T17:34:15.538000",
          "2021-03-25T18:32:07.463000",
          "2021-03-25T20:30:35.557000",
          "2021-03-25T21:06:08.172000",
          "2021-03-25T21:26:48.392000",
          "2021-03-25T22:08:51.769000",
          "2021-03-25T23:33:37.068000",
          "2021-03-26T00:31:42.232000",
          "2021-03-26T01:18:09.089000",
          "2021-03-26T02:21:55.282000",
          "2021-03-26T03:17:48.750000",
          "2021-03-26T04:25:09.160000",
          "2021-03-26T05:14:57.137000",
          "2021-03-26T06:25:45.006000",
          "2021-03-26T07:34:04.229000",
          "2021-03-26T08:20:12.042000",
          "2021-03-26T09:06:22.855000",
          "2021-03-26T10:32:17.481000",
          "2021-03-26T11:02:17.527000",
          "2021-03-26T12:02:35.206000",
          "2021-03-26T13:24:23.551000",
          "2021-03-26T14:32:28.047000",
          "2021-03-26T15:33:51.581000",
          "2021-03-26T16:31:00.770000",
          "2021-03-26T17:12:20.845000",
          "2021-03-26T18:12:21.173000",
          "2021-03-26T19:26:08.417000",
          "2021-03-26T20:33:41.956000",
          "2021-03-26T21:14:34.753000",
          "2021-03-26T22:08:20.942000",
          "2021-03-26T23:29:55.091000",
          "2021-03-27T00:11:58.287000",
          "2021-03-27T01:15:39.595000",
          "2021-03-27T02:02:09.583000",
          "2021-03-27T03:34:34.948000",
          "2021-03-27T04:36:23.605000",
          "2021-03-27T05:32:50.306000",
          "2021-03-27T06:17:08.059000",
          "2021-03-27T07:30:34.658000",
          "2021-03-27T08:04:45.043000",
          "2021-03-27T09:30:00.235000",
          "2021-03-27T10:06:54.292000",
          "2021-03-27T11:02:03.070000",
          "2021-03-27T12:14:57.107000",
          "2021-03-27T13:30:41.934000",
          "2021-03-27T14:36:32.016000",
          "2021-03-27T15:36:46.340000",
          "2021-03-27T16:10:19.215000",
          "2021-03-27T17:17:32.718000",
          "2021-03-27T18:22:09.014000",
          "2021-03-27T19:00:14.637000",
          "2021-03-27T20:20:32.450000",
          "2021-03-27T21:00:41.440000",
          "2021-03-27T22:01:33.346000",
          "2021-03-27T23:22:01.171000",
          "2021-03-28T00:15:50.910000",
          "2021-03-28T01:07:59.134000",
          "2021-03-28T02:05:22.907000",
          "2021-03-28T03:14:08.215000",
          "2021-03-28T04:03:53.984000",
          "2021-03-28T05:08:13.129000",
          "2021-03-28T06:10:45.985000",
          "2021-03-28T07:15:01.936000",
          "2021-03-28T08:00:16.283000",
          "2021-03-28T09:04:17.488000",
          "2021-03-28T10:02:19.629000",
          "2021-03-28T11:10:12.067000",
          "2021-03-28T12:01:16.645000",
          "2021-03-28T13:08:43.782000",
          "2021-03-28T14:09:46.362000",
          "2021-03-28T15:08:12.426000",
          "2021-03-28T16:10:18.227000",
          "2021-03-28T17:14:17.888000",
          "2021-03-28T18:04:24.180000",
          "2021-03-28T19:01:21.005000",
          "2021-03-28T20:04:07.819000",
          "2021-03-28T21:17:21.746000",
          "2021-03-28T22:17:05.074000",
          "2021-03-28T23:12:55.499000",
          "2021-03-29T00:04:33.171000",
          "2021-03-29T01:17:56.982000",
          "2021-03-29T02:15:00.284000",
          "2021-03-29T03:19:36.961000",
          "2021-03-29T04:16:52.864000",
          "2021-03-29T05:16:03.719000",
          "2021-03-29T06:09:06.096000",
          "2021-03-29T07:03:42.584000",
          "2021-03-29T08:02:41.962000",
          "2021-03-29T09:20:29.128000",
          "2021-03-29T10:15:52.204000",
          "2021-03-29T11:05:11.039000",
          "2021-03-29T12:10:07.866000",
          "2021-03-29T13:17:19.855000",
          "2021-03-29T14:07:36.327000",
          "2021-03-29T15:26:00.303000",
          "2021-03-29T16:02:17.801000",
          "2021-03-29T17:04:19.386000",
          "2021-03-29T18:03:15.017000",
          "2021-03-29T19:16:27.051000",
          "2021-03-29T20:19:06.439000",
          "2021-03-29T21:14:19.258000",
          "2021-03-29T22:11:01.611000",
          "2021-03-29T23:14:51.361000",
          "2021-03-30T00:17:43.448000",
          "2021-03-30T01:18:45.578000",
          "2021-03-30T02:20:05.622000",
          "2021-03-30T03:05:55.147000",
          "2021-03-30T04:23:28.574000",
          "2021-03-30T05:16:27.044000",
          "2021-03-30T06:13:45.455000",
          "2021-03-30T07:02:57.518000",
          "2021-03-30T08:04:11.977000",
          "2021-03-30T09:12:15.168000",
          "2021-03-30T10:25:20.828000",
          "2021-03-30T11:14:58.758000",
          "2021-03-30T12:11:40.540000",
          "2021-03-30T13:10:37.432000",
          "2021-03-30T14:16:35.082000",
          "2021-03-30T15:12:31.851000",
          "2021-03-30T16:02:21.194000",
          "2021-03-30T17:02:30.167000",
          "2021-03-30T18:20:18.440000",
          "2021-03-30T19:12:04.161000",
          "2021-03-30T20:16:36.785000",
          "2021-03-30T21:03:56.548000",
          "2021-03-30T22:04:05.773000",
          "2021-03-30T23:10:37.312000",
          "2021-03-31T00:20:48.349000",
          "2021-03-31T01:05:00.807000",
          "2021-03-31T02:11:39.219000",
          "2021-03-31T03:09:55.502000",
          "2021-03-31T04:04:42.193000",
          "2021-03-31T05:23:45.602000",
          "2021-03-31T06:00:48.112000",
          "2021-03-31T07:23:03.473000",
          "2021-03-31T08:38:03.312000",
          "2021-03-31T09:04:02.936000",
          "2021-03-31T10:16:43.544000",
          "2021-03-31T11:09:37.323000",
          "2021-03-31T12:08:02.997000",
          "2021-03-31T13:26:49.815000",
          "2021-03-31T14:26:40.437000",
          "2021-03-31T15:26:06.998000",
          "2021-03-31T16:03:56.889000",
          "2021-03-31T17:17:48.686000",
          "2021-03-31T18:05:15.070000",
          "2021-03-31T19:10:06.257000",
          "2021-03-31T20:19:34.229000",
          "2021-03-31T21:11:38.277000",
          "2021-03-31T22:15:19.576000",
          "2021-03-31T23:06:29.473000",
          "2021-04-01T00:08:42.215000",
          "2021-04-01T01:01:52.296000",
          "2021-04-01T02:10:29.759000",
          "2021-04-01T03:01:35.845000",
          "2021-04-01T04:14:42.084000",
          "2021-04-01T05:21:10.271000",
          "2021-04-01T06:01:51.723000",
          "2021-04-01T07:11:19.668000",
          "2021-04-01T08:14:15.862000",
          "2021-04-01T09:14:12.179000",
          "2021-04-01T10:12:00.937000",
          "2021-04-01T11:07:26.849000",
          "2021-04-01T12:13:08.566000",
          "2021-04-01T13:12:21.007000",
          "2021-04-01T14:18:27.665000",
          "2021-04-01T15:04:08.911000",
          "2021-04-01T16:02:59.755000",
          "2021-04-01T17:26:45.197000",
          "2021-04-01T18:21:19.442000",
          "2021-04-01T19:00:18.153000",
          "2021-04-01T20:02:58.250000",
          "2021-04-01T21:08:53.504000",
          "2021-04-01T22:05:43.391000",
          "2021-04-01T23:12:33.273000",
          "2021-04-02T00:19:26.044000",
          "2021-04-02T01:08:04.532000",
          "2021-04-02T02:08:07.656000",
          "2021-04-02T03:00:19.390000",
          "2021-04-02T04:13:29.094000",
          "2021-04-02T05:19:56.075000",
          "2021-04-02T06:21:20.012000",
          "2021-04-02T07:18:02.088000",
          "2021-04-02T08:22:39.589000",
          "2021-04-02T09:23:07.283000",
          "2021-04-02T10:19:24.935000",
          "2021-04-02T11:03:13.617000",
          "2021-04-02T12:03:56.319000",
          "2021-04-02T13:15:28.259000",
          "2021-04-02T14:04:43.729000",
          "2021-04-02T15:10:18.523000",
          "2021-04-02T16:15:28.702000",
          "2021-04-02T17:13:05.304000",
          "2021-04-02T18:08:45.556000",
          "2021-04-02T19:13:05.395000",
          "2021-04-02T20:09:26.496000",
          "2021-04-02T21:17:50.158000",
          "2021-04-02T22:13:11.552000",
          "2021-04-02T23:05:47.732000",
          "2021-04-03T00:07:06.146000",
          "2021-04-03T01:09:45.747000",
          "2021-04-03T02:18:58.621000",
          "2021-04-03T03:18:15.208000",
          "2021-04-03T04:28:19.112000",
          "2021-04-03T05:05:56.922000",
          "2021-04-03T06:03:43.055000",
          "2021-04-03T07:25:51.609000",
          "2021-04-03T08:13:36.515000",
          "2021-04-03T09:06:53.899000",
          "2021-04-03T10:08:15.730000",
          "2021-04-03T11:13:38.186000",
          "2021-04-03T12:13:13.481000",
          "2021-04-03T13:37:29.995000",
          "2021-04-03T14:37:20.707000",
          "2021-04-03T15:03:31.899000",
          "2021-04-03T16:11:41.667000",
          "2021-04-03T17:01:16.934000",
          "2021-04-03T18:01:48.306000",
          "2021-04-03T19:03:44.305000",
          "2021-04-03T20:02:32.645000",
          "2021-04-03T21:12:04.050000",
          "2021-04-03T22:00:38.915000",
          "2021-04-03T23:13:06.056000",
          "2021-04-04T00:18:18.514000",
          "2021-04-04T01:31:59.801000",
          "2021-04-04T02:32:04.223000",
          "2021-04-04T03:37:29.239000",
          "2021-04-04T04:32:11.123000",
          "2021-04-04T05:33:31.761000",
          "2021-04-04T06:33:21.413000",
          "2021-04-04T07:32:14.101000",
          "2021-04-04T08:32:34.698000",
          "2021-04-04T09:33:20.720000",
          "2021-04-04T10:33:44.291000",
          "2021-04-04T11:32:20.736000",
          "2021-04-04T12:33:30.840000",
          "2021-04-04T13:02:00.223000",
          "2021-04-04T14:05:37.898000",
          "2021-04-04T15:02:40.801000",
          "2021-04-04T16:03:24.563000",
          "2021-04-04T17:06:14.596000",
          "2021-04-04T18:04:39.816000",
          "2021-04-04T19:03:15.778000",
          "2021-04-04T20:01:56.295000",
          "2021-04-04T21:01:41.669000",
          "2021-04-04T22:04:08.225000",
          "2021-04-04T23:02:01.239000",
          "2021-04-05T00:06:47.354000",
          "2021-04-05T01:31:51.945000",
          "2021-04-05T02:03:44.855000",
          "2021-04-05T03:03:53.015000",
          "2021-04-05T04:01:32.566000",
          "2021-04-05T05:04:20.020000",
          "2021-04-05T06:05:20.090000",
          "2021-04-05T07:05:10.030000",
          "2021-04-05T08:02:25.252000",
          "2021-04-05T09:04:53.311000",
          "2021-04-05T10:04:34.917000",
          "2021-04-05T11:03:41.475000",
          "2021-04-05T12:06:55.675000",
          "2021-04-05T13:02:04.533000",
          "2021-04-05T14:02:23.939000",
          "2021-04-05T15:03:57.921000",
          "2021-04-05T16:03:28.709000",
          "2021-04-05T17:03:48.275000",
          "2021-04-05T18:02:03.526000",
          "2021-04-05T19:02:04.862000",
          "2021-04-05T20:02:35.028000",
          "2021-04-05T21:08:07.960000",
          "2021-04-05T22:04:54.490000",
          "2021-04-05T23:05:55.218000",
          "2021-04-06T00:05:41.206000",
          "2021-04-06T01:33:57.192000",
          "2021-04-06T02:14:09.934000",
          "2021-04-06T03:13:38.306000",
          "2021-04-06T04:00:06.019000",
          "2021-04-06T05:02:12.871000",
          "2021-04-06T06:02:22.028000",
          "2021-04-06T07:00:03.847000",
          "2021-04-06T08:06:45.316000",
          "2021-04-06T09:03:34.165000",
          "2021-04-06T10:01:10.889000",
          "2021-04-06T11:02:07.701000",
          "2021-04-06T12:03:09.904000",
          "2021-04-06T13:00:31.799000",
          "2021-04-06T14:05:12.281000",
          "2021-04-06T15:02:22.336000",
          "2021-04-06T16:04:14.960000",
          "2021-04-06T17:04:38.038000",
          "2021-04-06T18:05:18.996000",
          "2021-04-06T19:03:57.056000",
          "2021-04-06T20:05:18.136000",
          "2021-04-06T21:07:28.169000",
          "2021-04-06T22:05:33.458000",
          "2021-04-06T23:03:44.012000",
          "2021-04-07T00:01:22.765000",
          "2021-04-07T01:23:48.371000",
          "2021-04-07T02:05:41.909000",
          "2021-04-07T03:05:43.399000",
          "2021-04-07T04:02:23.728000",
          "2021-04-07T05:03:09.848000",
          "2021-04-07T06:04:43.713000",
          "2021-04-07T07:03:32.556000",
          "2021-04-07T08:02:34.350000",
          "2021-04-07T09:02:28.495000",
          "2021-04-07T10:01:34.488000",
          "2021-04-07T11:06:47.768000",
          "2021-04-07T12:00:20.014000",
          "2021-04-07T13:07:40.293000",
          "2021-04-07T14:07:31.061000",
          "2021-04-07T15:02:29.180000",
          "2021-04-07T16:07:16.096000",
          "2021-04-07T17:04:18.208000",
          "2021-04-07T18:02:55.658000",
          "2021-04-07T19:00:18.189000",
          "2021-04-07T20:07:10.666000",
          "2021-04-07T21:07:44.356000",
          "2021-04-07T22:02:26.798000",
          "2021-04-07T23:04:57.344000",
          "2021-04-08T00:03:51.982000",
          "2021-04-08T01:04:19.892000",
          "2021-04-08T02:16:53.827000",
          "2021-04-08T02:51:12.334000",
          "2021-04-08T03:22:55.230000",
          "2021-04-08T04:02:47.753000",
          "2021-04-08T05:04:47.622000",
          "2021-04-08T06:12:17.107000",
          "2021-04-08T07:05:10.055000",
          "2021-04-08T08:08:04.031000",
          "2021-04-08T09:08:02.018000",
          "2021-04-08T10:03:06.996000",
          "2021-04-08T11:02:56.444000",
          "2021-04-08T12:05:56.409000",
          "2021-04-08T13:01:34.981000",
          "2021-04-08T14:01:58.185000",
          "2021-04-08T15:01:23.010000",
          "2021-04-08T16:05:51.342000",
          "2021-04-08T17:01:38.723000",
          "2021-04-08T18:01:56.755000",
          "2021-04-08T19:04:06.416000",
          "2021-04-08T20:02:26.443000",
          "2021-04-08T21:09:22.576000",
          "2021-04-08T22:02:56.540000",
          "2021-04-08T23:07:43.689000",
          "2021-04-09T00:02:40.502000",
          "2021-04-09T01:01:38.460000",
          "2021-04-09T02:05:39.709000",
          "2021-04-09T03:05:18.656000",
          "2021-04-09T04:05:36.223000",
          "2021-04-09T05:05:58.504000",
          "2021-04-09T06:02:46.030000",
          "2021-04-09T07:03:58.845000",
          "2021-04-09T08:05:36.514000",
          "2021-04-09T09:02:42.707000",
          "2021-04-09T10:09:29.909000",
          "2021-04-09T11:01:58.711000",
          "2021-04-09T12:05:16.836000",
          "2021-04-09T13:00:01.113000",
          "2021-04-09T14:09:44.724000",
          "2021-04-09T15:03:20.838000",
          "2021-04-09T16:05:38.553000",
          "2021-04-09T17:01:13.466000",
          "2021-04-09T18:01:40.853000",
          "2021-04-09T19:02:12.990000",
          "2021-04-09T20:03:50.957000",
          "2021-04-09T21:01:55.769000",
          "2021-04-09T22:06:44.480000",
          "2021-04-09T23:06:31.573000",
          "2021-04-10T00:01:23.174000",
          "2021-04-10T01:06:47.257000",
          "2021-04-10T02:04:03.507000",
          "2021-04-10T03:05:32.668000",
          "2021-04-10T04:08:15.062000",
          "2021-04-10T05:02:09.455000",
          "2021-04-10T06:03:12.869000",
          "2021-04-10T07:06:50.018000",
          "2021-04-10T08:06:07.540000",
          "2021-04-10T09:07:32.503000",
          "2021-04-10T10:08:53.983000",
          "2021-04-10T11:00:44.555000",
          "2021-04-10T12:09:44.235000",
          "2021-04-10T13:01:43.572000",
          "2021-04-10T14:04:38.760000",
          "2021-04-10T15:01:40.414000",
          "2021-04-10T16:04:08.814000",
          "2021-04-10T17:06:10.982000",
          "2021-04-10T18:07:33.902000",
          "2021-04-10T19:01:59.534000",
          "2021-04-10T20:10:35.743000",
          "2021-04-10T21:03:15.709000",
          "2021-04-10T22:02:22.923000",
          "2021-04-10T23:01:35.988000",
          "2021-04-11T00:09:14.302000",
          "2021-04-11T01:02:06.539000",
          "2021-04-11T02:02:33.482000",
          "2021-04-11T03:04:27.955000",
          "2021-04-11T04:02:48.266000",
          "2021-04-11T05:07:00.689000",
          "2021-04-11T06:04:32.146000",
          "2021-04-11T07:00:22.893000",
          "2021-04-11T08:01:46.995000",
          "2021-04-11T09:02:36.699000",
          "2021-04-11T10:04:01.976000",
          "2021-04-11T11:05:22.978000",
          "2021-04-11T12:07:34.664000",
          "2021-04-11T13:03:47.603000",
          "2021-04-11T14:00:10.717000",
          "2021-04-11T15:02:14.656000",
          "2021-04-11T16:09:07.032000",
          "2021-04-11T17:01:54.564000",
          "2021-04-11T18:07:09.059000",
          "2021-04-11T19:01:32.002000",
          "2021-04-11T20:06:08.373000",
          "2021-04-11T21:04:50.644000",
          "2021-04-11T22:02:07.102000",
          "2021-04-11T23:06:48.386000",
          "2021-04-12T00:02:36.594000",
          "2021-04-12T01:03:16.631000",
          "2021-04-12T02:06:32.826000",
          "2021-04-12T03:02:13.748000",
          "2021-04-12T04:06:46.225000",
          "2021-04-12T05:04:29.676000",
          "2021-04-12T06:07:53.448000",
          "2021-04-12T07:04:05.868000",
          "2021-04-12T08:02:41.943000",
          "2021-04-12T09:06:39.437000",
          "2021-04-12T10:01:19.948000",
          "2021-04-12T10:12:01"
         ],
         "xaxis": "x",
         "y": [
          215.2246789985322,
          218.30856810611016,
          211.00990167110754,
          209.77744731059283,
          206.4812949564342,
          198.9827039384542,
          201.37665212615673,
          198.28351086024975,
          199.64551763788484,
          205.51682473170948,
          205.55732646057473,
          210.34499196267637,
          208.54794961959013,
          210.77813494252814,
          218.86684726458935,
          218.49733909703062,
          225.39204466222196,
          225.68807091426717,
          223.03548315951903,
          222.39670711768414,
          218.57287557276226,
          221.8779878508446,
          230.03993993499415,
          238.8752253415433,
          249.67322987114233,
          253.16248647086923,
          252.62438696212106,
          250.06073812532813,
          251.1513320632837,
          257.6076988896003,
          249.38473662261845,
          246.16947396410362,
          245.22902327809942,
          245.24512514405797,
          246.63792061999072,
          247.78210171643315,
          254.5089630790617,
          256.7082492800979,
          253.1273575793891,
          254.31216301326845,
          254.69173689252503,
          249.35332273954643,
          250.17409256735408,
          249.75687032385562,
          246.9598626553382,
          246.8321551402421,
          252.06815351912635,
          255.15875483358033,
          249.3289133377102,
          250.07687702154072,
          250.58643252413205,
          251.14149921785287,
          250.48864544895108,
          246.9704767282684,
          234.8463232700228,
          237.891459422627,
          233.5392408052053,
          231.23947370927277,
          233.5428258393542,
          233.7449274297355,
          237.86489804890897,
          240.84532187278745,
          241.749303334249,
          242.14161019956143,
          240.31419087931604,
          239.05245563342464,
          244.1978864930394,
          244.19843084449667,
          250.1785181865366,
          250.2382736989234,
          252.4475921153839,
          254.44495141472788,
          250.7866059859394,
          249.72193958093436,
          253.70882187472512,
          245.69615630196475,
          244.16084336264814,
          247.72412591576438,
          247.47882945905192,
          250.13093386921247,
          246.00099980757926,
          245.7109419564892,
          242.6917206188556,
          244.76263162217387,
          242.84791275086252,
          241.75975167975105,
          243.35226044862924,
          245.406990303078,
          247.17554771990675,
          240.4957945102108,
          240.20681938615715,
          243.26483142422035,
          241.17767438329997,
          242.87881821191283,
          244.88739696024857,
          241.53886610496465,
          239.6467756850447,
          238.81673054450502,
          237.60883112742772,
          237.89964810748359,
          235.89341237261763,
          239.37288190830893,
          238.45687097433753,
          234.12372898852115,
          228.00941880836675,
          230.3927424608893,
          230.0281366707311,
          228.05223001116016,
          229.94976386631865,
          230.26650905990243,
          220.94163322790945,
          219.42173144351665,
          222.42203530148694,
          222.8474059795823,
          218.6981867951797,
          220.3023916043859,
          222.12598589057632,
          224.42681699009376,
          219.68039219019946,
          222.21748103732492,
          222.00598576228103,
          224.2223343507857,
          225.3178296445598,
          227.72080913305217,
          227.41156320696177,
          224.90726569641316,
          222.0438392317248,
          225.1868424233288,
          227.07606885814215,
          229.10341746022172,
          227.6704424335346,
          228.67969672518808,
          228.14243864982058,
          226.89325632063932,
          225.65758551439654,
          225.7358201700307,
          225.9439025042156,
          225.68097780865068,
          224.5184897854668,
          227.91653926419892,
          229.34416075811447,
          229.5044375964648,
          229.69536091459426,
          226.81818846420984,
          226.18078570395792,
          226.08956248444102,
          223.79919157916285,
          222.06420135887433,
          223.15227561321072,
          222.63385076805912,
          224.0437734261147,
          225.85091880155096,
          226.90103013444795,
          224.80609975077584,
          224.92132128795322,
          224.85963445220148,
          226.5429129853243,
          226.65626759661149,
          228.1875412401922,
          227.1866443585766,
          230.07916391498463,
          228.6353640352718,
          227.42123037147377,
          226.67667557467297,
          226.97394392582964,
          229.86512206704558,
          229.01726593374516,
          233.77316196486734,
          241.39066212864822,
          241.17033953735822,
          240.00279537963357,
          238.7508757595649,
          236.676395119142,
          236.33064927483332,
          239.0089183131973,
          236.86271835050064,
          234.37339604638112,
          233.66809885452588,
          234.30872434802836,
          235.55227930191873,
          237.36391652671495,
          240.0619974599154,
          239.55505478140492,
          238.8495336974535,
          235.57034082593347,
          236.32214832162717,
          236.62733577267713,
          238.73081376609133,
          235.7589351091565,
          235.4815149596141,
          231.34710630669178,
          230.8499968015376,
          234.02022301986503,
          234.07204980898885,
          233.0916249723505,
          234.68437915046962,
          235.40061576662774,
          235.39623442841412,
          233.6322489497926,
          234.0888991144937,
          233.62684333615422,
          235.7405608834839,
          236.02113238846854,
          236.37692658916163,
          235.44697028747137,
          240.56542976741707,
          238.7368655717591,
          239.94818772539415,
          244.77190205768406,
          245.24988462803418,
          243.85552923399777,
          244.3185316821469,
          242.58670483739536,
          242.62779119557104,
          246.88366424027208,
          260.4457187684798,
          272.10687128868756,
          267.4700731949032,
          266.4043542203401,
          273.75335463073776,
          271.3869645182571,
          276.148603002986,
          275.4400840922247,
          272.76768587626043,
          273.3907097888733,
          276.973220327812,
          280.58325785889485,
          286.9272030003786,
          295.60475127537893,
          294.72023395611154,
          287.6566494169064,
          278.18181186243345,
          275.27399357987434,
          272.13572801086656,
          281.23420258449187,
          280.27309914166545,
          281.69661259194476,
          287.0493957326576,
          285.41611887489756,
          288.92734959000114,
          280.0879705527016,
          280.2535229036327,
          283.0212846151005,
          285.80794082157826,
          284.30060711549555,
          285.41455725966733,
          289.1336112978365,
          286.92439807379066,
          285.5164386421932,
          285.55497507026325,
          277.80937487193876,
          281.85121906474745,
          282.9097172495397,
          278.40134011560883,
          277.5432542784771,
          280.4237898077265,
          283.7806440264782,
          282.7982066511755,
          283.0431065372361,
          280.40396630815025,
          281.2964582961776,
          275.9400267652217,
          277.85312224598516,
          275.48371531133847,
          283.1652747909856,
          283.9760421218676,
          286.92999793169616,
          303.47242656897606,
          309.19752443148036,
          293.1543612392385,
          291.1168774368523,
          291.5001283384474,
          292.8026444688015,
          290.2132850013067,
          292.3489797888407,
          291.05723968953305,
          291.82560265521784,
          290.0715150124413,
          284.3262120722008,
          281.8311227906614,
          283.23878807087937,
          282.01489049990914,
          280.18155779928844,
          284.3458725322207,
          281.10952960331747,
          278.98443122014606,
          282.9203921627607,
          287.71995101728146,
          284.6529323536134,
          279.11351951505804,
          275.3561199501782,
          264.26463758107826,
          266.35867896743804,
          273.3776467832705,
          273.70786708763126,
          264.18883645007776,
          266.14006306441274,
          263.69576453083044,
          260.2155593298223,
          263.2781032956964,
          265.05493555519564,
          264.080531574575,
          258.31983674783964,
          258.44693572035845,
          262.28880314723375,
          262.1667484923546,
          261.77896856873406,
          265.34893749972116,
          266.0780072408728,
          269.2285951933145,
          268.4968412748551,
          269.1162450404456,
          277.84949507213486,
          281.1258071896154,
          276.82494676666346,
          276.6879185735278,
          278.8031163836506,
          276.19439260545505,
          277.3985338433467,
          278.6024605574966,
          278.0754428542724,
          278.05826779900366,
          278.89486125402937,
          274.67254544427266,
          276.9398227424475,
          276.48562994801995,
          273.7975969720216,
          272.99694277748705,
          272.532943139844,
          274.03229118022523,
          273.4894656773504,
          271.5168361606108,
          271.05501985101216,
          269.8841456846033,
          271.50288722521725,
          275.3404720833064,
          269.86951019593835,
          270.0973158279985,
          271.13305767357474,
          267.9831486931557,
          268.01368383455315,
          266.20098060951136,
          265.12864488916955,
          267.3244313518218,
          269.38513156521464,
          267.5992459880974,
          268.67973429197235,
          266.99317746143544,
          267.93611637209864,
          265.130230333635,
          265.19522417399537,
          266.1800644175553,
          266.0052047932869,
          266.89581976367276,
          263.97727303344845,
          260.89882682362344,
          258.43054336327975,
          256.2170304704094,
          255.90650930473217,
          250.1076780627059,
          257.594243638726,
          256.1023033684107,
          255.51920846981037,
          259.6889840985854,
          258.51198471795027,
          256.52781068979544,
          255.69260742461591,
          254.5785595567012,
          257.18480691579435,
          258.94410896532395,
          256.4344283873778,
          257.89041243821913,
          254.9990335372777,
          253.8779427003888,
          248.59705434254667,
          247.61718519189822,
          248.15999393184617,
          247.52236028640252,
          248.36026768772254,
          246.5361346984271,
          250.3163404755559,
          252.3122764710033,
          258.24459770908584,
          256.5742580891706,
          255.73280486718005,
          254.30635554113712,
          254.7164475909843,
          256.2195826046547,
          256.9563669936968,
          258.34480534188503,
          256.9651062064505,
          253.5970811978595,
          253.48929600018366,
          255.0429279164984,
          256.4622772816838,
          257.465395886343,
          257.2094668960208,
          259.05040404323574,
          257.1301441749892,
          257.52835958656084,
          255.8777302606378,
          254.43928233674185,
          254.83646722634862,
          255.21151098164557,
          255.28361124539202,
          255.15269290715432,
          254.66900208654118,
          250.1380175769053,
          253.51607574905586,
          252.49542726375057,
          253.31226358146972,
          252.45946283684003,
          251.64043446957317,
          252.212434691328,
          254.22545199348377,
          256.68897555096123,
          263.91177558072815,
          264.87827580390467,
          262.2550062286371,
          266.2126283911895,
          266.58596182725375,
          270.92343249137247,
          270.6582103255113,
          274.1539954476383,
          274.96682155788756,
          272.97342700082834,
          274.40680107581886,
          275.9185431496225,
          276.87132519049686,
          275.1560788554754,
          273.1583348055872,
          276.06978697716005,
          273.76908761317526,
          268.19653927338095,
          267.57656281539755,
          265.9244900949286,
          265.0801176705911,
          271.8702329717654,
          267.7440984485409,
          264.2560078568154,
          260.3962179429506,
          261.6752714727621,
          263.20530615299106,
          264.7209764796377,
          263.06965006649096,
          255.058596488716,
          260.760957856053,
          264.02427861104786,
          265.46505946349043,
          264.85311687907,
          266.4499641661923,
          266.1630046284063,
          265.1582703293827,
          263.6997070284105,
          266.9995159544029,
          266.2477343994155,
          268.80457164057424,
          267.98737368663035,
          266.9203743162253,
          264.1297278179519,
          267.446651122,
          266.97116779654965,
          266.31952494722424,
          266.3504512008495,
          266.84794582424337,
          266.7977040229026,
          264.95160589277276,
          264.99528389986835,
          263.611352265518,
          265.6864118755831,
          266.6440195923113,
          267.4753581498446,
          265.85605817387227,
          266.3517513081106,
          265.09479530660116,
          266.0759688071895,
          266.7483502589013,
          270.0820786165665,
          269.2829930266984,
          270.6858364942241,
          270.2407722811355,
          269.4350011304008,
          270.38410370089997,
          268.8741926522825,
          270.9998137831797,
          271.40732284625693,
          271.5642644392227,
          271.1172133085695,
          271.7027887175297,
          269.7843995858878,
          267.49953510578973,
          268.5960459246343,
          266.25397242323044,
          267.69805297856743,
          267.10576822040656,
          266.8861765403221,
          262.56960347298843,
          267.1136481183931,
          262.7630700624915,
          263.68565740974543,
          264.2020635563644,
          264.6744124116732,
          264.6131462421746,
          260.3222481815773,
          261.78717323262254,
          261.10565696597183,
          263.32798118219455,
          264.51479978738143,
          264.54094663568077,
          264.1220954721221,
          264.2162476764377,
          263.5848518038061,
          265.9137569228592,
          265.8046938769368,
          267.0726636734598,
          267.592478266429,
          265.5510614311124,
          263.7197736361206,
          261.39486329728214,
          262.90405093981093,
          265.45193369634893,
          268.7053015811579,
          266.9678970035526,
          269.9937017387061,
          267.12004326890263,
          265.7220608995429,
          263.56379514967057,
          268.12158512944745,
          268.3749440846978,
          266.3805546305086,
          265.80172026860976,
          265.55532217432716,
          267.636908427791,
          267.999714168182,
          267.6332429837198,
          274.5839844513809,
          270.2889547704105,
          267.10647494227396,
          260.36241042790897,
          255.39772614613332,
          258.6124387530983,
          256.2688221322779,
          258.32563115477893,
          262.4468221765375,
          259.34729874634115,
          259.0277038072902,
          258.98953554805786,
          255.41883854593195,
          255.40038846566776,
          256.1412483818674,
          257.5029300731671,
          258.957570843923,
          259.22985938844795,
          259.4754483849843,
          261.4359513467658,
          259.4936581620845,
          259.86144748905684,
          259.51233147815753,
          260.06565641672375,
          259.98221378204636,
          258.60290845035314,
          256.8105922985469,
          254.2286037924335,
          255.02217636635737,
          255.5343750681375,
          254.94326761275101,
          251.13844798787142,
          256.27123481139193,
          255.9579645764038,
          256.6477617315856,
          253.48523790898818,
          253.7647294282826,
          259.5318648967626,
          262.30076995169327,
          261.89236431446085,
          261.94381244754004,
          264.099976668162,
          266.5177984038913,
          268.2579251024316,
          264.5466100967849,
          263.95993354834377,
          261.85606884689884,
          260.99942550432473,
          261.61645899232894,
          258.23149886717204,
          251.92178479000415,
          255.84511199651905,
          246.10482985315952,
          247.3615241434758,
          249.63117158224372,
          246.76824606357079,
          242.2442807076685,
          241.50708072936618,
          240.90372383872972,
          245.71149478043907,
          246.2212124873306,
          246.77835941692672,
          243.35835224353178,
          245.35606089054878,
          246.75122272126555,
          246.83621703587752,
          231.55418944061077,
          230.50498147498658,
          235.7781626605057,
          231.89723411976092,
          234.6634314249652,
          233.37762820862534,
          234.7098879929969,
          237.50304357154545,
          235.98858402273353,
          236.12525430924953,
          237.16207348206834,
          235.50962677071945,
          236.5662342065566,
          242.15963216227462,
          241.25109600823828,
          239.88217667425516,
          241.8614489261437,
          242.08777236647163,
          242.1453836119099,
          241.5432177285343,
          248.75853527149079,
          245.13131266272325,
          247.33043569441134,
          247.4222469659412,
          246.24509814384186,
          248.9577962943533,
          249.8426902554491,
          248.50290284583167,
          249.01085129127844,
          250.3660641840116,
          251.71900994282802,
          249.13456825537904,
          252.61231996881338,
          252.454945184121,
          254.01279743115836,
          252.64831364768446,
          255.7815167613825,
          252.26870794051237,
          251.7802987517076,
          250.59813326952596,
          254.07008748870092,
          252.73046575311298,
          252.88988697475173,
          253.47190645200172,
          252.25264240711198,
          255.61211664276217,
          259.1320477195567,
          256.9661930435415,
          255.96333136254606,
          254.65532722184145,
          257.3373083617448,
          261.1485280352215,
          261.27164950399253,
          265.2290907223827,
          264.27523779843267,
          264.71123015135896,
          264.01286440680775,
          266.8905634075357,
          273.1514944447852,
          272.7831920093116,
          269.058511305373,
          270.9193279750318,
          272.3831991988794,
          272.68626295504004,
          276.73093762755906,
          277.901663913523,
          278.70307384364867,
          274.47919926740906,
          277.09447229010755,
          275.8700490699635,
          271.51233873364765,
          270.7485216140526,
          269.49500093825674,
          268.29628848911847,
          271.14879940419075,
          270.0670064327213,
          272.7280802889294,
          270.1253979080564,
          268.6044561156338,
          264.56825476402753,
          266.14648603113756,
          263.9597366559279,
          265.25635108965525,
          268.7154531724998,
          268.86553524168113,
          265.31441988920517,
          266.82861829416663,
          268.5909306775924,
          268.64416379601636,
          268.5638826838955,
          268.18181508201695,
          270.8399759429606,
          273.9512786017312,
          276.3336867304249,
          275.0122199196415,
          272.792287555349,
          274.95112186484806,
          273.26356346795745,
          274.04930052011457,
          271.11838917337377,
          272.3960953509929,
          273.70707656700563,
          274.4144656690903,
          273.4450097224586,
          272.5395508621369,
          273.03390837058754,
          273.34388591293015,
          273.6312089946183,
          273.85834337607014,
          274.11555732905754,
          272.00377392835793,
          272.04726109154643,
          272.1147682488214,
          273.67294683487637,
          273.68412884542886,
          275.9636394613499,
          278.1499781571501,
          294.6147848017069,
          295.8540394276922,
          295.71912012626706,
          297.7122695593111,
          297.07785324313267,
          300.59992504339147,
          300.98538236880563,
          297.50588542875363,
          297.87467175678347,
          303.03969842861966,
          301.9850843702122,
          306.4241344336954,
          304.5156081934941,
          308.9700457226518,
          308.95563546579757,
          311.42988861234835,
          314.052179686601,
          310.1014793421239,
          305.4506889902012,
          300.4953724319802,
          304.48525379104734,
          307.81976921088363,
          306.22355112933025,
          298.2072650358806,
          296.45182833684663,
          297.6717797836595,
          294.1779517864679,
          298.46002232954686,
          303.23776296711685,
          305.8696484750617,
          307.6496339419553,
          307.97740687089555,
          303.2814736449432,
          304.3623509150637,
          305.40224479251185,
          300.98828863950564,
          301.00934564520384,
          300.201307242622,
          299.7181992150605,
          302.7722463488366,
          303.2394460137397,
          307.3355618613732,
          306.94580480526974,
          306.12464509053217,
          306.0136269474319,
          305.36166767770953,
          309.6833317798207,
          314.87473345010045,
          316.2713522408319,
          316.023511240514,
          316.4864947048779,
          313.7318047972377,
          316.266433783482,
          321.34189375014205,
          328.12628299461693,
          326.2484630585241,
          326.833563349759,
          320.41076872442295,
          326.1668300388321,
          327.09914125143155,
          329.41130128305133,
          332.4383245093945,
          337.53162098488434,
          336.6052085784428,
          347.40225798876344,
          347.2845744325607,
          344.3950699652291,
          343.55799371625056,
          344.6287331316897,
          351.989352641335,
          352.7305028777646,
          353.2153610445172,
          350.95011715477034,
          350.644302497625,
          349.263198860659,
          347.10513101067386,
          344.5095572546216,
          344.37507158508436,
          351.3926636899033,
          346.67761353762967,
          342.121490791422,
          337.8280276162062,
          333.9920356010555,
          336.93392916450784,
          339.10916277389543,
          337.4601811413096,
          334.57146544690755,
          338.0041151803734,
          344.3042091100841,
          338.0115089367182,
          339.41781938030374,
          338.7024803763359,
          342.1127296037642,
          341.73326732873085,
          343.2114360240733,
          343.6628496422228,
          339.5317773520698,
          340.8342582853951,
          342.6832974710049,
          343.9293984533877,
          347.1025150637053,
          346.61150001602937,
          344.8935138465663,
          341.8702534972556,
          342.2073138986241,
          333.00253114121523,
          334.87871757117443,
          334.8991899219635,
          328.8166981095209,
          324.04966493642956,
          323.53155441592764,
          320.493409128525,
          324.9822663943916,
          330.60030486275787,
          328.42204629651786,
          333.5146665561799,
          333.6797973146889,
          331.5747918024223,
          336.41099771565575,
          337.47736737647574,
          342.7895673681572,
          343.7139392558276,
          344.3461974651482,
          343.3986644445913,
          344.772574363315,
          344.2769645389378,
          344.7097650088513,
          345.09447837742533,
          345.716364781411,
          349.6688297910265,
          349.13664294303845,
          345.52641887905924,
          350.9809027159019,
          350.7536864560569,
          346.8159555156138,
          348.9510229847878,
          344.00862363969867,
          344.7631798340511,
          346.2424636128192,
          345.87174779517596,
          345.2209184070707,
          344.6058208242504,
          338.50431397050687,
          339.97225968270163,
          340.5164244820423,
          344.7559407599328,
          353.5186673517756,
          363.74189778678664,
          364.5916482616871,
          369.1888621238468,
          374.0094766533665,
          375.56192494494655,
          373.70114927664997,
          371.9271191373891,
          370.01279206272926,
          374.7513901194988,
          374.68008070793627,
          371.74512106543557,
          371.55414823025626,
          368.317766619957,
          368.7062418737697,
          364.7684477873843,
          368.66902030857676,
          370.044937217082,
          375.6280965742845,
          385.27459352015524,
          379.6024791870666,
          376.0756873254492,
          379.14111407239756,
          386.30599881856637,
          383.9565087974757,
          383.70349428930336,
          385.29279402277433,
          384.8173920985962,
          386.9605706609826,
          386.4707666686652,
          392.89757084332797,
          394.0751469448682,
          392.2917250289748,
          394.4540726910827,
          397.5036479283441,
          404.3466954882102,
          409.61483469343443,
          404.4605067817102,
          396.55497894660385,
          407.19414831530725,
          406.75365929725655,
          401.34167027106224,
          402.11597453224476,
          407.8318463918478,
          411.8003907551987,
          405.17511140790657,
          398.56305345984157,
          395.4942108541534,
          374.3119943964752,
          368.46297403721235,
          373.55101262754096,
          387.68379101103767,
          384.09346598249533,
          373.33474746098267,
          385.0653810611315,
          373.7995628024788,
          373.7181965315169,
          376.26267525816274,
          378.0590630043001,
          381.19864215383495,
          385.057597872784,
          377.00503501889756,
          387.0292262403308,
          385.85706675939326,
          386.8194839545045,
          387.5270486104906,
          395.1239764163585,
          401.98079262316793,
          396.9503436868992,
          399.0289926747262,
          399.1258025513428,
          398.7978403448016,
          400.4065482820112,
          398.2471813639888,
          394.81232471164617,
          409.7409175077954,
          410.6855356481936,
          415.1098850994862,
          419.4298668216506,
          415.6750087420604,
          416.5182207966222,
          417.5575626080466,
          418.6924400950988,
          414.25138298499394,
          415.4346355260052,
          416.9164611610269,
          418.1377217019414,
          415.2407285690183,
          412.33095012941163,
          410.5688525312702,
          407.5863084418283,
          412.45291595178594,
          412.12482001228244,
          415.4570340610429,
          420.39547987138445,
          417.98022935806665,
          428.3697376591751,
          429.87312743836503,
          436.32083871619665,
          441.5715182525174,
          445.1763055554173,
          441.2532901460596,
          436.2707494864523,
          439.3462879302576,
          445.04677381367367,
          444.5204193764313,
          441.9286278905515,
          440.50834790591847,
          443.7161175245354,
          440.64611651064,
          451.21085727443034,
          459.5235963212529,
          472.737431313498,
          480.15536538057074,
          475.62931410193266,
          463.1073168374995,
          472.83506152254193,
          478.3685918316921,
          473.8015290620833,
          472.9153061851624,
          479.9759523712942,
          480.4852257407518,
          485.3904316677766,
          478.01801588996216,
          479.65758368655594,
          475.830891313089,
          473.17733266268107,
          471.1726461318318,
          462.6916889855872,
          461.5231931734613,
          471.26931191889054,
          462.20963765149463,
          476.6779409783954,
          473.0822568854284,
          471.8268879231113,
          462.7376908643778,
          470.90820647789354,
          466.6629109887271,
          463.07474714486693,
          464.4763432895904,
          470.56510892783996,
          477.6195960321378,
          473.5348007036609,
          476.1732567472629,
          469.807644984461,
          468.8948572904352,
          471.5970723764079,
          473.28446065633665,
          472.9546842048648,
          486.37438730303705,
          492.57644956665433,
          492.18674657334464,
          499.06519517271835,
          502.207703940809,
          500.02891405413624,
          503.256425488309,
          505.6378555185239,
          523.5007083074111,
          522.9036942041708,
          522.4014943378586,
          521.0912896573602,
          521.8909235327623,
          547.2694705083924,
          571.0573036861565,
          563.2786404347906,
          565.866742735167,
          577.2752205594534,
          596.5281123272796,
          592.8233554229038,
          579.9664997443411
         ],
         "yaxis": "y"
        }
       ],
       "layout": {
        "legend": {
         "tracegroupgap": 0
        },
        "template": {
         "data": {
          "bar": [
           {
            "error_x": {
             "color": "#2a3f5f"
            },
            "error_y": {
             "color": "#2a3f5f"
            },
            "marker": {
             "line": {
              "color": "#E5ECF6",
              "width": 0.5
             }
            },
            "type": "bar"
           }
          ],
          "barpolar": [
           {
            "marker": {
             "line": {
              "color": "#E5ECF6",
              "width": 0.5
             }
            },
            "type": "barpolar"
           }
          ],
          "carpet": [
           {
            "aaxis": {
             "endlinecolor": "#2a3f5f",
             "gridcolor": "white",
             "linecolor": "white",
             "minorgridcolor": "white",
             "startlinecolor": "#2a3f5f"
            },
            "baxis": {
             "endlinecolor": "#2a3f5f",
             "gridcolor": "white",
             "linecolor": "white",
             "minorgridcolor": "white",
             "startlinecolor": "#2a3f5f"
            },
            "type": "carpet"
           }
          ],
          "choropleth": [
           {
            "colorbar": {
             "outlinewidth": 0,
             "ticks": ""
            },
            "type": "choropleth"
           }
          ],
          "contour": [
           {
            "colorbar": {
             "outlinewidth": 0,
             "ticks": ""
            },
            "colorscale": [
             [
              0,
              "#0d0887"
             ],
             [
              0.1111111111111111,
              "#46039f"
             ],
             [
              0.2222222222222222,
              "#7201a8"
             ],
             [
              0.3333333333333333,
              "#9c179e"
             ],
             [
              0.4444444444444444,
              "#bd3786"
             ],
             [
              0.5555555555555556,
              "#d8576b"
             ],
             [
              0.6666666666666666,
              "#ed7953"
             ],
             [
              0.7777777777777778,
              "#fb9f3a"
             ],
             [
              0.8888888888888888,
              "#fdca26"
             ],
             [
              1,
              "#f0f921"
             ]
            ],
            "type": "contour"
           }
          ],
          "contourcarpet": [
           {
            "colorbar": {
             "outlinewidth": 0,
             "ticks": ""
            },
            "type": "contourcarpet"
           }
          ],
          "heatmap": [
           {
            "colorbar": {
             "outlinewidth": 0,
             "ticks": ""
            },
            "colorscale": [
             [
              0,
              "#0d0887"
             ],
             [
              0.1111111111111111,
              "#46039f"
             ],
             [
              0.2222222222222222,
              "#7201a8"
             ],
             [
              0.3333333333333333,
              "#9c179e"
             ],
             [
              0.4444444444444444,
              "#bd3786"
             ],
             [
              0.5555555555555556,
              "#d8576b"
             ],
             [
              0.6666666666666666,
              "#ed7953"
             ],
             [
              0.7777777777777778,
              "#fb9f3a"
             ],
             [
              0.8888888888888888,
              "#fdca26"
             ],
             [
              1,
              "#f0f921"
             ]
            ],
            "type": "heatmap"
           }
          ],
          "heatmapgl": [
           {
            "colorbar": {
             "outlinewidth": 0,
             "ticks": ""
            },
            "colorscale": [
             [
              0,
              "#0d0887"
             ],
             [
              0.1111111111111111,
              "#46039f"
             ],
             [
              0.2222222222222222,
              "#7201a8"
             ],
             [
              0.3333333333333333,
              "#9c179e"
             ],
             [
              0.4444444444444444,
              "#bd3786"
             ],
             [
              0.5555555555555556,
              "#d8576b"
             ],
             [
              0.6666666666666666,
              "#ed7953"
             ],
             [
              0.7777777777777778,
              "#fb9f3a"
             ],
             [
              0.8888888888888888,
              "#fdca26"
             ],
             [
              1,
              "#f0f921"
             ]
            ],
            "type": "heatmapgl"
           }
          ],
          "histogram": [
           {
            "marker": {
             "colorbar": {
              "outlinewidth": 0,
              "ticks": ""
             }
            },
            "type": "histogram"
           }
          ],
          "histogram2d": [
           {
            "colorbar": {
             "outlinewidth": 0,
             "ticks": ""
            },
            "colorscale": [
             [
              0,
              "#0d0887"
             ],
             [
              0.1111111111111111,
              "#46039f"
             ],
             [
              0.2222222222222222,
              "#7201a8"
             ],
             [
              0.3333333333333333,
              "#9c179e"
             ],
             [
              0.4444444444444444,
              "#bd3786"
             ],
             [
              0.5555555555555556,
              "#d8576b"
             ],
             [
              0.6666666666666666,
              "#ed7953"
             ],
             [
              0.7777777777777778,
              "#fb9f3a"
             ],
             [
              0.8888888888888888,
              "#fdca26"
             ],
             [
              1,
              "#f0f921"
             ]
            ],
            "type": "histogram2d"
           }
          ],
          "histogram2dcontour": [
           {
            "colorbar": {
             "outlinewidth": 0,
             "ticks": ""
            },
            "colorscale": [
             [
              0,
              "#0d0887"
             ],
             [
              0.1111111111111111,
              "#46039f"
             ],
             [
              0.2222222222222222,
              "#7201a8"
             ],
             [
              0.3333333333333333,
              "#9c179e"
             ],
             [
              0.4444444444444444,
              "#bd3786"
             ],
             [
              0.5555555555555556,
              "#d8576b"
             ],
             [
              0.6666666666666666,
              "#ed7953"
             ],
             [
              0.7777777777777778,
              "#fb9f3a"
             ],
             [
              0.8888888888888888,
              "#fdca26"
             ],
             [
              1,
              "#f0f921"
             ]
            ],
            "type": "histogram2dcontour"
           }
          ],
          "mesh3d": [
           {
            "colorbar": {
             "outlinewidth": 0,
             "ticks": ""
            },
            "type": "mesh3d"
           }
          ],
          "parcoords": [
           {
            "line": {
             "colorbar": {
              "outlinewidth": 0,
              "ticks": ""
             }
            },
            "type": "parcoords"
           }
          ],
          "pie": [
           {
            "automargin": true,
            "type": "pie"
           }
          ],
          "scatter": [
           {
            "marker": {
             "colorbar": {
              "outlinewidth": 0,
              "ticks": ""
             }
            },
            "type": "scatter"
           }
          ],
          "scatter3d": [
           {
            "line": {
             "colorbar": {
              "outlinewidth": 0,
              "ticks": ""
             }
            },
            "marker": {
             "colorbar": {
              "outlinewidth": 0,
              "ticks": ""
             }
            },
            "type": "scatter3d"
           }
          ],
          "scattercarpet": [
           {
            "marker": {
             "colorbar": {
              "outlinewidth": 0,
              "ticks": ""
             }
            },
            "type": "scattercarpet"
           }
          ],
          "scattergeo": [
           {
            "marker": {
             "colorbar": {
              "outlinewidth": 0,
              "ticks": ""
             }
            },
            "type": "scattergeo"
           }
          ],
          "scattergl": [
           {
            "marker": {
             "colorbar": {
              "outlinewidth": 0,
              "ticks": ""
             }
            },
            "type": "scattergl"
           }
          ],
          "scattermapbox": [
           {
            "marker": {
             "colorbar": {
              "outlinewidth": 0,
              "ticks": ""
             }
            },
            "type": "scattermapbox"
           }
          ],
          "scatterpolar": [
           {
            "marker": {
             "colorbar": {
              "outlinewidth": 0,
              "ticks": ""
             }
            },
            "type": "scatterpolar"
           }
          ],
          "scatterpolargl": [
           {
            "marker": {
             "colorbar": {
              "outlinewidth": 0,
              "ticks": ""
             }
            },
            "type": "scatterpolargl"
           }
          ],
          "scatterternary": [
           {
            "marker": {
             "colorbar": {
              "outlinewidth": 0,
              "ticks": ""
             }
            },
            "type": "scatterternary"
           }
          ],
          "surface": [
           {
            "colorbar": {
             "outlinewidth": 0,
             "ticks": ""
            },
            "colorscale": [
             [
              0,
              "#0d0887"
             ],
             [
              0.1111111111111111,
              "#46039f"
             ],
             [
              0.2222222222222222,
              "#7201a8"
             ],
             [
              0.3333333333333333,
              "#9c179e"
             ],
             [
              0.4444444444444444,
              "#bd3786"
             ],
             [
              0.5555555555555556,
              "#d8576b"
             ],
             [
              0.6666666666666666,
              "#ed7953"
             ],
             [
              0.7777777777777778,
              "#fb9f3a"
             ],
             [
              0.8888888888888888,
              "#fdca26"
             ],
             [
              1,
              "#f0f921"
             ]
            ],
            "type": "surface"
           }
          ],
          "table": [
           {
            "cells": {
             "fill": {
              "color": "#EBF0F8"
             },
             "line": {
              "color": "white"
             }
            },
            "header": {
             "fill": {
              "color": "#C8D4E3"
             },
             "line": {
              "color": "white"
             }
            },
            "type": "table"
           }
          ]
         },
         "layout": {
          "annotationdefaults": {
           "arrowcolor": "#2a3f5f",
           "arrowhead": 0,
           "arrowwidth": 1
          },
          "autotypenumbers": "strict",
          "coloraxis": {
           "colorbar": {
            "outlinewidth": 0,
            "ticks": ""
           }
          },
          "colorscale": {
           "diverging": [
            [
             0,
             "#8e0152"
            ],
            [
             0.1,
             "#c51b7d"
            ],
            [
             0.2,
             "#de77ae"
            ],
            [
             0.3,
             "#f1b6da"
            ],
            [
             0.4,
             "#fde0ef"
            ],
            [
             0.5,
             "#f7f7f7"
            ],
            [
             0.6,
             "#e6f5d0"
            ],
            [
             0.7,
             "#b8e186"
            ],
            [
             0.8,
             "#7fbc41"
            ],
            [
             0.9,
             "#4d9221"
            ],
            [
             1,
             "#276419"
            ]
           ],
           "sequential": [
            [
             0,
             "#0d0887"
            ],
            [
             0.1111111111111111,
             "#46039f"
            ],
            [
             0.2222222222222222,
             "#7201a8"
            ],
            [
             0.3333333333333333,
             "#9c179e"
            ],
            [
             0.4444444444444444,
             "#bd3786"
            ],
            [
             0.5555555555555556,
             "#d8576b"
            ],
            [
             0.6666666666666666,
             "#ed7953"
            ],
            [
             0.7777777777777778,
             "#fb9f3a"
            ],
            [
             0.8888888888888888,
             "#fdca26"
            ],
            [
             1,
             "#f0f921"
            ]
           ],
           "sequentialminus": [
            [
             0,
             "#0d0887"
            ],
            [
             0.1111111111111111,
             "#46039f"
            ],
            [
             0.2222222222222222,
             "#7201a8"
            ],
            [
             0.3333333333333333,
             "#9c179e"
            ],
            [
             0.4444444444444444,
             "#bd3786"
            ],
            [
             0.5555555555555556,
             "#d8576b"
            ],
            [
             0.6666666666666666,
             "#ed7953"
            ],
            [
             0.7777777777777778,
             "#fb9f3a"
            ],
            [
             0.8888888888888888,
             "#fdca26"
            ],
            [
             1,
             "#f0f921"
            ]
           ]
          },
          "colorway": [
           "#636efa",
           "#EF553B",
           "#00cc96",
           "#ab63fa",
           "#FFA15A",
           "#19d3f3",
           "#FF6692",
           "#B6E880",
           "#FF97FF",
           "#FECB52"
          ],
          "font": {
           "color": "#2a3f5f"
          },
          "geo": {
           "bgcolor": "white",
           "lakecolor": "white",
           "landcolor": "#E5ECF6",
           "showlakes": true,
           "showland": true,
           "subunitcolor": "white"
          },
          "hoverlabel": {
           "align": "left"
          },
          "hovermode": "closest",
          "mapbox": {
           "style": "light"
          },
          "paper_bgcolor": "white",
          "plot_bgcolor": "#E5ECF6",
          "polar": {
           "angularaxis": {
            "gridcolor": "white",
            "linecolor": "white",
            "ticks": ""
           },
           "bgcolor": "#E5ECF6",
           "radialaxis": {
            "gridcolor": "white",
            "linecolor": "white",
            "ticks": ""
           }
          },
          "scene": {
           "xaxis": {
            "backgroundcolor": "#E5ECF6",
            "gridcolor": "white",
            "gridwidth": 2,
            "linecolor": "white",
            "showbackground": true,
            "ticks": "",
            "zerolinecolor": "white"
           },
           "yaxis": {
            "backgroundcolor": "#E5ECF6",
            "gridcolor": "white",
            "gridwidth": 2,
            "linecolor": "white",
            "showbackground": true,
            "ticks": "",
            "zerolinecolor": "white"
           },
           "zaxis": {
            "backgroundcolor": "#E5ECF6",
            "gridcolor": "white",
            "gridwidth": 2,
            "linecolor": "white",
            "showbackground": true,
            "ticks": "",
            "zerolinecolor": "white"
           }
          },
          "shapedefaults": {
           "line": {
            "color": "#2a3f5f"
           }
          },
          "ternary": {
           "aaxis": {
            "gridcolor": "white",
            "linecolor": "white",
            "ticks": ""
           },
           "baxis": {
            "gridcolor": "white",
            "linecolor": "white",
            "ticks": ""
           },
           "bgcolor": "#E5ECF6",
           "caxis": {
            "gridcolor": "white",
            "linecolor": "white",
            "ticks": ""
           }
          },
          "title": {
           "x": 0.05
          },
          "xaxis": {
           "automargin": true,
           "gridcolor": "white",
           "linecolor": "white",
           "ticks": "",
           "title": {
            "standoff": 15
           },
           "zerolinecolor": "white",
           "zerolinewidth": 2
          },
          "yaxis": {
           "automargin": true,
           "gridcolor": "white",
           "linecolor": "white",
           "ticks": "",
           "title": {
            "standoff": 15
           },
           "zerolinecolor": "white",
           "zerolinewidth": 2
          }
         }
        },
        "title": {
         "text": "binancecoin"
        },
        "xaxis": {
         "anchor": "y",
         "domain": [
          0,
          1
         ],
         "title": {
          "text": "timestamp"
         }
        },
        "yaxis": {
         "anchor": "x",
         "domain": [
          0,
          1
         ],
         "title": {
          "text": "price"
         }
        }
       }
      },
      "text/html": [
       "<div>                            <div id=\"83a906f8-aa82-4974-a1ac-c24bbcf8d9f8\" class=\"plotly-graph-div\" style=\"height:525px; width:100%;\"></div>            <script type=\"text/javascript\">                require([\"plotly\"], function(Plotly) {                    window.PLOTLYENV=window.PLOTLYENV || {};                                    if (document.getElementById(\"83a906f8-aa82-4974-a1ac-c24bbcf8d9f8\")) {                    Plotly.newPlot(                        \"83a906f8-aa82-4974-a1ac-c24bbcf8d9f8\",                        [{\"hovertemplate\": \"timestamp=%{x}<br>price=%{y}<extra></extra>\", \"legendgroup\": \"\", \"line\": {\"color\": \"#636efa\", \"dash\": \"solid\"}, \"mode\": \"lines\", \"name\": \"\", \"showlegend\": false, \"type\": \"scattergl\", \"x\": [\"2021-02-28T11:01:50.602000\", \"2021-02-28T12:05:26.713000\", \"2021-02-28T13:04:10.728000\", \"2021-02-28T14:07:32.453000\", \"2021-02-28T15:04:36.048000\", \"2021-02-28T16:04:02.500000\", \"2021-02-28T17:03:34.970000\", \"2021-02-28T18:04:18.884000\", \"2021-02-28T19:06:17.510000\", \"2021-02-28T20:04:07.819000\", \"2021-02-28T21:04:30.357000\", \"2021-02-28T22:04:40.034000\", \"2021-02-28T23:07:54.193000\", \"2021-03-01T00:08:20.913000\", \"2021-03-01T01:12:23.876000\", \"2021-03-01T02:06:48.530000\", \"2021-03-01T03:03:57.803000\", \"2021-03-01T04:06:41.683000\", \"2021-03-01T05:07:37.318000\", \"2021-03-01T06:08:05.129000\", \"2021-03-01T07:05:43.081000\", \"2021-03-01T08:06:42.661000\", \"2021-03-01T09:01:33.022000\", \"2021-03-01T10:06:29.372000\", \"2021-03-01T11:04:05.781000\", \"2021-03-01T12:02:00.775000\", \"2021-03-01T13:01:26.778000\", \"2021-03-01T14:06:26.636000\", \"2021-03-01T15:07:43.717000\", \"2021-03-01T16:06:55.249000\", \"2021-03-01T17:08:01.506000\", \"2021-03-01T18:03:10.133000\", \"2021-03-01T19:04:11.142000\", \"2021-03-01T20:05:03.441000\", \"2021-03-01T21:05:22.056000\", \"2021-03-01T22:07:46.714000\", \"2021-03-01T23:08:03.685000\", \"2021-03-02T00:09:23.768000\", \"2021-03-02T01:29:08.898000\", \"2021-03-02T02:04:26.057000\", \"2021-03-02T03:01:29.087000\", \"2021-03-02T04:03:40.459000\", \"2021-03-02T05:05:54.622000\", \"2021-03-02T06:12:02.686000\", \"2021-03-02T07:05:17.926000\", \"2021-03-02T08:06:39.664000\", \"2021-03-02T09:06:16.229000\", \"2021-03-02T10:05:03.367000\", \"2021-03-02T11:07:30.861000\", \"2021-03-02T12:08:32.278000\", \"2021-03-02T13:24:42.601000\", \"2021-03-02T14:08:23.531000\", \"2021-03-02T15:09:29.837000\", \"2021-03-02T16:04:54.916000\", \"2021-03-02T17:06:14.906000\", \"2021-03-02T18:08:50.088000\", \"2021-03-02T19:07:00.117000\", \"2021-03-02T20:07:35.318000\", \"2021-03-02T21:09:11.905000\", \"2021-03-02T22:07:46.388000\", \"2021-03-02T23:06:04.266000\", \"2021-03-03T00:07:45.058000\", \"2021-03-03T01:04:45.112000\", \"2021-03-03T02:07:22.018000\", \"2021-03-03T03:00:55.011000\", \"2021-03-03T04:06:36.885000\", \"2021-03-03T05:09:00.291000\", \"2021-03-03T06:05:07.288000\", \"2021-03-03T07:09:16.577000\", \"2021-03-03T08:07:10.126000\", \"2021-03-03T09:03:54.739000\", \"2021-03-03T10:08:27.792000\", \"2021-03-03T11:07:43.858000\", \"2021-03-03T12:04:14.406000\", \"2021-03-03T13:01:12.072000\", \"2021-03-03T14:03:42.388000\", \"2021-03-03T15:04:58.414000\", \"2021-03-03T16:12:08.921000\", \"2021-03-03T17:11:26\", \"2021-03-03T18:02:10.511000\", \"2021-03-03T19:02:15.996000\", \"2021-03-03T20:07:03.298000\", \"2021-03-03T21:09:52.354000\", \"2021-03-03T22:02:25.429000\", \"2021-03-03T23:08:26.170000\", \"2021-03-04T00:01:37.443000\", \"2021-03-04T01:06:10.056000\", \"2021-03-04T02:04:06.442000\", \"2021-03-04T03:05:28.452000\", \"2021-03-04T04:02:19.449000\", \"2021-03-04T05:01:53.427000\", \"2021-03-04T06:00:08.526000\", \"2021-03-04T07:06:37.778000\", \"2021-03-04T08:05:13.162000\", \"2021-03-04T09:04:09.765000\", \"2021-03-04T10:06:06.298000\", \"2021-03-04T11:11:39.187000\", \"2021-03-04T12:05:12.336000\", \"2021-03-04T13:05:10.020000\", \"2021-03-04T14:01:29.594000\", \"2021-03-04T15:06:58.006000\", \"2021-03-04T16:05:29.190000\", \"2021-03-04T17:02:04.888000\", \"2021-03-04T18:02:18.285000\", \"2021-03-04T19:06:33.508000\", \"2021-03-04T20:04:49.923000\", \"2021-03-04T21:09:41.039000\", \"2021-03-04T22:09:48.406000\", \"2021-03-04T23:08:49.197000\", \"2021-03-05T00:04:27.762000\", \"2021-03-05T01:12:33.678000\", \"2021-03-05T02:01:13.876000\", \"2021-03-05T03:06:29.928000\", \"2021-03-05T04:08:53.153000\", \"2021-03-05T05:09:27.728000\", \"2021-03-05T06:11:48.731000\", \"2021-03-05T07:09:15.515000\", \"2021-03-05T08:02:26.252000\", \"2021-03-05T09:08:40.069000\", \"2021-03-05T10:05:17.818000\", \"2021-03-05T11:03:54.623000\", \"2021-03-05T12:09:37.577000\", \"2021-03-05T13:00:30.638000\", \"2021-03-05T14:02:02.325000\", \"2021-03-05T15:08:55.369000\", \"2021-03-05T16:00:47.312000\", \"2021-03-05T17:07:01.134000\", \"2021-03-05T18:01:33.588000\", \"2021-03-05T19:05:21.754000\", \"2021-03-05T20:03:14.571000\", \"2021-03-05T21:10:50.080000\", \"2021-03-05T22:02:16.393000\", \"2021-03-05T23:09:40.547000\", \"2021-03-06T00:10:46.905000\", \"2021-03-06T01:26:10.576000\", \"2021-03-06T02:10:33.413000\", \"2021-03-06T03:08:30.279000\", \"2021-03-06T04:07:55.635000\", \"2021-03-06T05:03:37.401000\", \"2021-03-06T06:07:47.869000\", \"2021-03-06T07:09:34.384000\", \"2021-03-06T08:07:52.586000\", \"2021-03-06T09:06:36.613000\", \"2021-03-06T10:08:51.584000\", \"2021-03-06T11:04:43.409000\", \"2021-03-06T12:10:12.592000\", \"2021-03-06T13:04:30.513000\", \"2021-03-06T14:11:51.379000\", \"2021-03-06T15:05:01.556000\", \"2021-03-06T16:04:59.707000\", \"2021-03-06T17:00:07.806000\", \"2021-03-06T18:09:22.466000\", \"2021-03-06T19:05:16.019000\", \"2021-03-06T20:11:41.164000\", \"2021-03-06T21:01:41.618000\", \"2021-03-06T22:04:28.377000\", \"2021-03-06T23:14:16.529000\", \"2021-03-07T00:02:07.183000\", \"2021-03-07T01:29:04.880000\", \"2021-03-07T02:13:43.982000\", \"2021-03-07T03:13:15.362000\", \"2021-03-07T04:17:04.232000\", \"2021-03-07T05:12:46.546000\", \"2021-03-07T06:12:56.779000\", \"2021-03-07T07:22:53.228000\", \"2021-03-07T08:04:57.274000\", \"2021-03-07T09:02:03.797000\", \"2021-03-07T10:04:27.136000\", \"2021-03-07T11:03:30.415000\", \"2021-03-07T12:04:16.381000\", \"2021-03-07T13:00:50.210000\", \"2021-03-07T14:01:29.716000\", \"2021-03-07T15:02:51.660000\", \"2021-03-07T16:04:33.832000\", \"2021-03-07T17:00:52.993000\", \"2021-03-07T18:04:37.996000\", \"2021-03-07T19:05:17.106000\", \"2021-03-07T20:00:28.167000\", \"2021-03-07T21:05:53.625000\", \"2021-03-07T22:07:23.897000\", \"2021-03-07T23:03:58.310000\", \"2021-03-08T00:00:20.849000\", \"2021-03-08T01:19:54.670000\", \"2021-03-08T02:14:25.568000\", \"2021-03-08T03:13:06.133000\", \"2021-03-08T04:02:26.723000\", \"2021-03-08T05:04:30.837000\", \"2021-03-08T06:03:41.179000\", \"2021-03-08T07:00:56.356000\", \"2021-03-08T08:00:59.230000\", \"2021-03-08T09:01:02.819000\", \"2021-03-08T10:06:27.032000\", \"2021-03-08T11:05:29.186000\", \"2021-03-08T12:01:41.606000\", \"2021-03-08T13:07:32.597000\", \"2021-03-08T14:01:58.637000\", \"2021-03-08T15:02:57.022000\", \"2021-03-08T16:08:33.484000\", \"2021-03-08T17:06:48.947000\", \"2021-03-08T18:07:12.350000\", \"2021-03-08T19:02:36.799000\", \"2021-03-08T20:07:36.778000\", \"2021-03-08T21:06:57.431000\", \"2021-03-08T22:01:06.580000\", \"2021-03-08T23:02:00.224000\", \"2021-03-09T00:06:37.941000\", \"2021-03-09T01:23:43.470000\", \"2021-03-09T02:10:39.060000\", \"2021-03-09T03:05:57.358000\", \"2021-03-09T04:00:52.120000\", \"2021-03-09T05:01:55.565000\", \"2021-03-09T06:00:54.833000\", \"2021-03-09T07:01:11.824000\", \"2021-03-09T08:11:27.646000\", \"2021-03-09T09:07:02.422000\", \"2021-03-09T10:07:03.533000\", \"2021-03-09T11:02:27.677000\", \"2021-03-09T12:04:41.836000\", \"2021-03-09T13:01:03.520000\", \"2021-03-09T14:05:41.749000\", \"2021-03-09T15:08:28.159000\", \"2021-03-09T16:09:08.347000\", \"2021-03-09T17:00:09.423000\", \"2021-03-09T18:05:59.044000\", \"2021-03-09T19:03:30.856000\", \"2021-03-09T20:02:45.641000\", \"2021-03-09T21:06:40.166000\", \"2021-03-09T22:09:16.190000\", \"2021-03-09T23:05:44.434000\", \"2021-03-10T00:02:10.045000\", \"2021-03-10T01:04:56.631000\", \"2021-03-10T02:07:41.785000\", \"2021-03-10T03:02:26.716000\", \"2021-03-10T04:01:46.183000\", \"2021-03-10T05:09:22.872000\", \"2021-03-10T06:08:42.335000\", \"2021-03-10T07:03:14.194000\", \"2021-03-10T08:02:50.070000\", \"2021-03-10T09:02:51.327000\", \"2021-03-10T10:07:28.781000\", \"2021-03-10T11:03:00.338000\", \"2021-03-10T12:01:27.259000\", \"2021-03-10T13:07:19.511000\", \"2021-03-10T14:01:11.292000\", \"2021-03-10T15:01:13.102000\", \"2021-03-10T16:01:30.519000\", \"2021-03-10T17:00:51.035000\", \"2021-03-10T18:03:04.975000\", \"2021-03-10T19:00:09.955000\", \"2021-03-10T20:05:05.054000\", \"2021-03-10T21:01:33.039000\", \"2021-03-10T22:01:42.385000\", \"2021-03-10T23:05:25.419000\", \"2021-03-11T00:03:51.418000\", \"2021-03-11T01:14:21.980000\", \"2021-03-11T02:04:23.143000\", \"2021-03-11T03:14:23.259000\", \"2021-03-11T04:02:05.124000\", \"2021-03-11T05:07:09.164000\", \"2021-03-11T06:01:20.143000\", \"2021-03-11T07:07:40.984000\", \"2021-03-11T08:13:47.584000\", \"2021-03-11T09:08:48.501000\", \"2021-03-11T10:01:23.295000\", \"2021-03-11T11:08:04.659000\", \"2021-03-11T12:01:36.190000\", \"2021-03-11T13:32:27.686000\", \"2021-03-11T14:05:36.653000\", \"2021-03-11T15:07:15.683000\", \"2021-03-11T16:04:10.760000\", \"2021-03-11T17:03:27.882000\", \"2021-03-11T18:05:21.933000\", \"2021-03-11T19:00:03.810000\", \"2021-03-11T20:07:24.801000\", \"2021-03-11T21:05:26.174000\", \"2021-03-11T22:09:01.674000\", \"2021-03-11T23:11:21.210000\", \"2021-03-12T00:08:25.648000\", \"2021-03-12T01:05:09.704000\", \"2021-03-12T02:02:57.774000\", \"2021-03-12T03:06:50.242000\", \"2021-03-12T04:02:44.584000\", \"2021-03-12T05:03:18.891000\", \"2021-03-12T06:06:37.808000\", \"2021-03-12T07:01:36.027000\", \"2021-03-12T08:06:23.718000\", \"2021-03-12T09:06:09.599000\", \"2021-03-12T10:01:25.822000\", \"2021-03-12T11:05:08.682000\", \"2021-03-12T12:05:00.578000\", \"2021-03-12T13:06:41.691000\", \"2021-03-12T14:05:59.292000\", \"2021-03-12T15:04:52.184000\", \"2021-03-12T16:13:34.467000\", \"2021-03-12T17:11:23.737000\", \"2021-03-12T18:02:30.230000\", \"2021-03-12T19:00:09.559000\", \"2021-03-12T20:01:22.832000\", \"2021-03-12T21:05:33.796000\", \"2021-03-12T22:01:28.922000\", \"2021-03-12T23:05:16.879000\", \"2021-03-13T00:00:28.269000\", \"2021-03-13T01:28:41.857000\", \"2021-03-13T02:00:24.126000\", \"2021-03-13T03:01:45.353000\", \"2021-03-13T04:00:22.686000\", \"2021-03-13T05:03:38.272000\", \"2021-03-13T06:06:00.065000\", \"2021-03-13T07:06:44.230000\", \"2021-03-13T08:01:19.977000\", \"2021-03-13T09:03:30.689000\", \"2021-03-13T10:07:02.119000\", \"2021-03-13T11:09:14.443000\", \"2021-03-13T12:05:04.956000\", \"2021-03-13T13:07:19.719000\", \"2021-03-13T14:00:02.792000\", \"2021-03-13T15:05:52.251000\", \"2021-03-13T16:07:50.304000\", \"2021-03-13T17:05:13.934000\", \"2021-03-13T18:01:41.456000\", \"2021-03-13T19:02:38.551000\", \"2021-03-13T20:07:28.536000\", \"2021-03-13T21:01:25.648000\", \"2021-03-13T22:02:17.604000\", \"2021-03-13T23:01:19.977000\", \"2021-03-14T00:05:47.635000\", \"2021-03-14T01:02:00.479000\", \"2021-03-14T02:01:25.146000\", \"2021-03-14T03:01:31.802000\", \"2021-03-14T04:03:01.117000\", \"2021-03-14T05:04:23.491000\", \"2021-03-14T06:00:52.252000\", \"2021-03-14T07:01:26.956000\", \"2021-03-14T08:01:20.696000\", \"2021-03-14T09:04:07.366000\", \"2021-03-14T10:02:39.249000\", \"2021-03-14T11:01:47.657000\", \"2021-03-14T12:00:27.200000\", \"2021-03-14T13:00:21.930000\", \"2021-03-14T14:02:47.290000\", \"2021-03-14T15:06:31.616000\", \"2021-03-14T16:04:13.943000\", \"2021-03-14T17:01:19.941000\", \"2021-03-14T18:00:19.768000\", \"2021-03-14T19:01:22.546000\", \"2021-03-14T20:04:09.516000\", \"2021-03-14T21:00:47.599000\", \"2021-03-14T22:01:44.122000\", \"2021-03-14T23:00:44.995000\", \"2021-03-15T00:04:58.324000\", \"2021-03-15T01:06:37.010000\", \"2021-03-15T02:02:02.204000\", \"2021-03-15T03:01:52.762000\", \"2021-03-15T04:01:31.898000\", \"2021-03-15T05:01:33.421000\", \"2021-03-15T06:10:06.112000\", \"2021-03-15T07:04:40.014000\", \"2021-03-15T08:01:42.079000\", \"2021-03-15T09:02:46.087000\", \"2021-03-15T10:04:12.475000\", \"2021-03-15T11:03:42.834000\", \"2021-03-15T12:02:50.900000\", \"2021-03-15T13:05:02.861000\", \"2021-03-15T14:06:47.353000\", \"2021-03-15T15:03:13.079000\", \"2021-03-15T16:01:20.365000\", \"2021-03-15T17:01:46.096000\", \"2021-03-15T18:01:29.123000\", \"2021-03-15T19:09:16.810000\", \"2021-03-15T20:04:26.787000\", \"2021-03-15T21:02:34.600000\", \"2021-03-15T22:01:36.349000\", \"2021-03-15T23:03:15.318000\", \"2021-03-16T00:03:31.620000\", \"2021-03-16T01:03:31.901000\", \"2021-03-16T02:01:56.444000\", \"2021-03-16T03:02:30.053000\", \"2021-03-16T04:06:23.748000\", \"2021-03-16T05:02:19.821000\", \"2021-03-16T06:03:31.521000\", \"2021-03-16T07:05:45.028000\", \"2021-03-16T08:03:10.756000\", \"2021-03-16T09:06:47.615000\", \"2021-03-16T10:04:05.030000\", \"2021-03-16T11:06:04.789000\", \"2021-03-16T12:01:10.251000\", \"2021-03-16T13:07:58.053000\", \"2021-03-16T14:08:03.799000\", \"2021-03-16T15:02:34.309000\", \"2021-03-16T16:01:52.095000\", \"2021-03-16T17:09:00.774000\", \"2021-03-16T18:14:15.881000\", \"2021-03-16T19:02:23.359000\", \"2021-03-16T20:00:53.916000\", \"2021-03-16T21:00:42.358000\", \"2021-03-16T22:03:06.798000\", \"2021-03-16T23:04:07.649000\", \"2021-03-17T00:04:22.471000\", \"2021-03-17T01:01:42.329000\", \"2021-03-17T02:02:13.423000\", \"2021-03-17T03:02:58.900000\", \"2021-03-17T04:01:06.718000\", \"2021-03-17T05:07:25.279000\", \"2021-03-17T06:04:07.351000\", \"2021-03-17T07:04:08.455000\", \"2021-03-17T08:05:32.152000\", \"2021-03-17T09:01:30.045000\", \"2021-03-17T10:01:35.147000\", \"2021-03-17T11:01:46.682000\", \"2021-03-17T12:01:19.694000\", \"2021-03-17T13:01:53.871000\", \"2021-03-17T14:03:00.354000\", \"2021-03-17T15:01:26.731000\", \"2021-03-17T16:08:46.815000\", \"2021-03-17T17:04:38.828000\", \"2021-03-17T18:01:41.441000\", \"2021-03-17T19:04:50.396000\", \"2021-03-17T20:03:41.519000\", \"2021-03-17T21:10:33.012000\", \"2021-03-17T22:10:33.404000\", \"2021-03-17T23:10:30.415000\", \"2021-03-18T00:03:42.084000\", \"2021-03-18T01:01:15.376000\", \"2021-03-18T02:02:36.976000\", \"2021-03-18T03:04:32.656000\", \"2021-03-18T04:04:40.309000\", \"2021-03-18T05:01:24.322000\", \"2021-03-18T06:06:24.445000\", \"2021-03-18T07:00:14.600000\", \"2021-03-18T08:01:18.601000\", \"2021-03-18T09:07:50.448000\", \"2021-03-18T10:04:03.406000\", \"2021-03-18T11:02:32.036000\", \"2021-03-18T12:02:00.582000\", \"2021-03-18T13:09:33.965000\", \"2021-03-18T14:05:56.595000\", \"2021-03-18T15:05:29.254000\", \"2021-03-18T16:44:07.302000\", \"2021-03-18T17:36:36.818000\", \"2021-03-18T18:30:15.918000\", \"2021-03-18T19:26:18.597000\", \"2021-03-18T20:34:01.411000\", \"2021-03-18T21:26:37.095000\", \"2021-03-18T22:24:30.710000\", \"2021-03-18T23:34:09.499000\", \"2021-03-19T00:34:48.581000\", \"2021-03-19T01:21:50.371000\", \"2021-03-19T02:31:25.022000\", \"2021-03-19T03:32:13.478000\", \"2021-03-19T04:28:29.540000\", \"2021-03-19T05:34:39.864000\", \"2021-03-19T06:31:17.568000\", \"2021-03-19T07:30:40.263000\", \"2021-03-19T08:33:22.256000\", \"2021-03-19T09:20:50.612000\", \"2021-03-19T10:22:56.134000\", \"2021-03-19T11:27:15.002000\", \"2021-03-19T12:41:08.526000\", \"2021-03-19T13:05:16.069000\", \"2021-03-19T14:17:29.147000\", \"2021-03-19T15:27:50.516000\", \"2021-03-19T16:17:23.348000\", \"2021-03-19T17:28:45.624000\", \"2021-03-19T18:31:45.658000\", \"2021-03-19T19:24:41.011000\", \"2021-03-19T20:15:12.257000\", \"2021-03-19T21:26:02.847000\", \"2021-03-19T22:29:23.205000\", \"2021-03-19T23:21:59.234000\", \"2021-03-20T00:31:37.048000\", \"2021-03-20T01:20:34.982000\", \"2021-03-20T02:32:27.937000\", \"2021-03-20T03:25:19.285000\", \"2021-03-20T04:19:37.331000\", \"2021-03-20T05:31:57.210000\", \"2021-03-20T06:31:50.326000\", \"2021-03-20T07:31:21.578000\", \"2021-03-20T08:31:58.657000\", \"2021-03-20T09:30:29.316000\", \"2021-03-20T10:29:53.929000\", \"2021-03-20T11:26:08.932000\", \"2021-03-20T12:29:04.917000\", \"2021-03-20T13:00:30.163000\", \"2021-03-20T14:08:24.258000\", \"2021-03-20T15:06:46.751000\", \"2021-03-20T16:15:43.016000\", \"2021-03-20T17:27:23.402000\", \"2021-03-20T18:11:20.608000\", \"2021-03-20T19:19:54.083000\", \"2021-03-20T20:26:03.123000\", \"2021-03-20T21:10:20.346000\", \"2021-03-20T22:01:11.316000\", \"2021-03-20T23:27:35.906000\", \"2021-03-21T00:31:45.100000\", \"2021-03-21T01:01:56.557000\", \"2021-03-21T02:10:11.248000\", \"2021-03-21T03:06:28.759000\", \"2021-03-21T04:04:47.240000\", \"2021-03-21T05:05:00.256000\", \"2021-03-21T06:11:58.727000\", \"2021-03-21T07:10:19.247000\", \"2021-03-21T08:11:56.588000\", \"2021-03-21T09:09:39.497000\", \"2021-03-21T10:10:58.659000\", \"2021-03-21T11:12:00.880000\", \"2021-03-21T12:01:07.130000\", \"2021-03-21T13:10:56.551000\", \"2021-03-21T14:01:13.128000\", \"2021-03-21T15:10:33.938000\", \"2021-03-21T16:00:24.543000\", \"2021-03-21T17:09:17.214000\", \"2021-03-21T18:00:27.930000\", \"2021-03-21T19:05:58.941000\", \"2021-03-21T20:04:07.878000\", \"2021-03-21T21:01:25.807000\", \"2021-03-21T22:15:08.563000\", \"2021-03-21T23:04:31.792000\", \"2021-03-22T00:11:36.591000\", \"2021-03-22T01:06:10.514000\", \"2021-03-22T02:13:27.107000\", \"2021-03-22T03:04:25.045000\", \"2021-03-22T04:06:54.234000\", \"2021-03-22T05:01:56.217000\", \"2021-03-22T06:12:36.725000\", \"2021-03-22T07:00:36.295000\", \"2021-03-22T08:14:13.521000\", \"2021-03-22T09:08:21.567000\", \"2021-03-22T10:13:15.569000\", \"2021-03-22T11:14:57.448000\", \"2021-03-22T12:15:21.707000\", \"2021-03-22T13:04:59.496000\", \"2021-03-22T14:08:59.165000\", \"2021-03-22T15:00:28.016000\", \"2021-03-22T16:00:20.426000\", \"2021-03-22T17:02:38.857000\", \"2021-03-22T18:12:09.189000\", \"2021-03-22T19:01:30.728000\", \"2021-03-22T20:12:08.247000\", \"2021-03-22T21:10:03.369000\", \"2021-03-22T22:14:14.922000\", \"2021-03-22T23:15:07.777000\", \"2021-03-23T00:15:42.322000\", \"2021-03-23T01:13:21.997000\", \"2021-03-23T02:03:15.751000\", \"2021-03-23T03:00:39.122000\", \"2021-03-23T04:05:12.989000\", \"2021-03-23T05:08:55.935000\", \"2021-03-23T06:36:13.222000\", \"2021-03-23T07:33:23.169000\", \"2021-03-23T08:33:13.526000\", \"2021-03-23T09:20:25.305000\", \"2021-03-23T10:35:45.984000\", \"2021-03-23T11:25:24.651000\", \"2021-03-23T12:33:56.798000\", \"2021-03-23T13:33:45.434000\", \"2021-03-23T14:35:16.638000\", \"2021-03-23T15:35:55.668000\", \"2021-03-23T16:25:33.292000\", \"2021-03-23T17:31:34.957000\", \"2021-03-23T18:17:18.615000\", \"2021-03-23T19:16:25.329000\", \"2021-03-23T20:16:28.482000\", \"2021-03-23T21:21:00.418000\", \"2021-03-23T22:14:12.641000\", \"2021-03-23T23:18:34.221000\", \"2021-03-24T00:16:48.104000\", \"2021-03-24T01:14:22.347000\", \"2021-03-24T02:30:38.955000\", \"2021-03-24T03:11:09.750000\", \"2021-03-24T04:26:54.204000\", \"2021-03-24T05:27:02.352000\", \"2021-03-24T06:23:24.251000\", \"2021-03-24T07:18:21.426000\", \"2021-03-24T08:33:10.892000\", \"2021-03-24T09:33:03.581000\", \"2021-03-24T10:31:49.803000\", \"2021-03-24T11:33:23.246000\", \"2021-03-24T12:37:02.750000\", \"2021-03-24T13:33:02.807000\", \"2021-03-24T14:30:45.054000\", \"2021-03-24T15:13:51.048000\", \"2021-03-24T16:24:55.035000\", \"2021-03-24T17:31:00.819000\", \"2021-03-24T18:34:16.512000\", \"2021-03-24T19:12:39.151000\", \"2021-03-24T20:36:19.429000\", \"2021-03-24T21:36:33.371000\", \"2021-03-24T22:34:43.848000\", \"2021-03-24T23:30:37.399000\", \"2021-03-25T00:33:18.588000\", \"2021-03-25T01:29:45.064000\", \"2021-03-25T02:19:55.591000\", \"2021-03-25T03:18:08.381000\", \"2021-03-25T04:25:02.115000\", \"2021-03-25T05:37:55.334000\", \"2021-03-25T06:12:20.206000\", \"2021-03-25T07:02:49.914000\", \"2021-03-25T08:25:20.153000\", \"2021-03-25T09:37:45.086000\", \"2021-03-25T10:06:00.574000\", \"2021-03-25T11:30:43.445000\", \"2021-03-25T12:31:27.709000\", \"2021-03-25T13:01:44.094000\", \"2021-03-25T14:21:25.788000\", \"2021-03-25T15:09:56.790000\", \"2021-03-25T16:28:36.712000\", \"2021-03-25T17:34:15.538000\", \"2021-03-25T18:32:07.463000\", \"2021-03-25T20:30:35.557000\", \"2021-03-25T21:06:08.172000\", \"2021-03-25T21:26:48.392000\", \"2021-03-25T22:08:51.769000\", \"2021-03-25T23:33:37.068000\", \"2021-03-26T00:31:42.232000\", \"2021-03-26T01:18:09.089000\", \"2021-03-26T02:21:55.282000\", \"2021-03-26T03:17:48.750000\", \"2021-03-26T04:25:09.160000\", \"2021-03-26T05:14:57.137000\", \"2021-03-26T06:25:45.006000\", \"2021-03-26T07:34:04.229000\", \"2021-03-26T08:20:12.042000\", \"2021-03-26T09:06:22.855000\", \"2021-03-26T10:32:17.481000\", \"2021-03-26T11:02:17.527000\", \"2021-03-26T12:02:35.206000\", \"2021-03-26T13:24:23.551000\", \"2021-03-26T14:32:28.047000\", \"2021-03-26T15:33:51.581000\", \"2021-03-26T16:31:00.770000\", \"2021-03-26T17:12:20.845000\", \"2021-03-26T18:12:21.173000\", \"2021-03-26T19:26:08.417000\", \"2021-03-26T20:33:41.956000\", \"2021-03-26T21:14:34.753000\", \"2021-03-26T22:08:20.942000\", \"2021-03-26T23:29:55.091000\", \"2021-03-27T00:11:58.287000\", \"2021-03-27T01:15:39.595000\", \"2021-03-27T02:02:09.583000\", \"2021-03-27T03:34:34.948000\", \"2021-03-27T04:36:23.605000\", \"2021-03-27T05:32:50.306000\", \"2021-03-27T06:17:08.059000\", \"2021-03-27T07:30:34.658000\", \"2021-03-27T08:04:45.043000\", \"2021-03-27T09:30:00.235000\", \"2021-03-27T10:06:54.292000\", \"2021-03-27T11:02:03.070000\", \"2021-03-27T12:14:57.107000\", \"2021-03-27T13:30:41.934000\", \"2021-03-27T14:36:32.016000\", \"2021-03-27T15:36:46.340000\", \"2021-03-27T16:10:19.215000\", \"2021-03-27T17:17:32.718000\", \"2021-03-27T18:22:09.014000\", \"2021-03-27T19:00:14.637000\", \"2021-03-27T20:20:32.450000\", \"2021-03-27T21:00:41.440000\", \"2021-03-27T22:01:33.346000\", \"2021-03-27T23:22:01.171000\", \"2021-03-28T00:15:50.910000\", \"2021-03-28T01:07:59.134000\", \"2021-03-28T02:05:22.907000\", \"2021-03-28T03:14:08.215000\", \"2021-03-28T04:03:53.984000\", \"2021-03-28T05:08:13.129000\", \"2021-03-28T06:10:45.985000\", \"2021-03-28T07:15:01.936000\", \"2021-03-28T08:00:16.283000\", \"2021-03-28T09:04:17.488000\", \"2021-03-28T10:02:19.629000\", \"2021-03-28T11:10:12.067000\", \"2021-03-28T12:01:16.645000\", \"2021-03-28T13:08:43.782000\", \"2021-03-28T14:09:46.362000\", \"2021-03-28T15:08:12.426000\", \"2021-03-28T16:10:18.227000\", \"2021-03-28T17:14:17.888000\", \"2021-03-28T18:04:24.180000\", \"2021-03-28T19:01:21.005000\", \"2021-03-28T20:04:07.819000\", \"2021-03-28T21:17:21.746000\", \"2021-03-28T22:17:05.074000\", \"2021-03-28T23:12:55.499000\", \"2021-03-29T00:04:33.171000\", \"2021-03-29T01:17:56.982000\", \"2021-03-29T02:15:00.284000\", \"2021-03-29T03:19:36.961000\", \"2021-03-29T04:16:52.864000\", \"2021-03-29T05:16:03.719000\", \"2021-03-29T06:09:06.096000\", \"2021-03-29T07:03:42.584000\", \"2021-03-29T08:02:41.962000\", \"2021-03-29T09:20:29.128000\", \"2021-03-29T10:15:52.204000\", \"2021-03-29T11:05:11.039000\", \"2021-03-29T12:10:07.866000\", \"2021-03-29T13:17:19.855000\", \"2021-03-29T14:07:36.327000\", \"2021-03-29T15:26:00.303000\", \"2021-03-29T16:02:17.801000\", \"2021-03-29T17:04:19.386000\", \"2021-03-29T18:03:15.017000\", \"2021-03-29T19:16:27.051000\", \"2021-03-29T20:19:06.439000\", \"2021-03-29T21:14:19.258000\", \"2021-03-29T22:11:01.611000\", \"2021-03-29T23:14:51.361000\", \"2021-03-30T00:17:43.448000\", \"2021-03-30T01:18:45.578000\", \"2021-03-30T02:20:05.622000\", \"2021-03-30T03:05:55.147000\", \"2021-03-30T04:23:28.574000\", \"2021-03-30T05:16:27.044000\", \"2021-03-30T06:13:45.455000\", \"2021-03-30T07:02:57.518000\", \"2021-03-30T08:04:11.977000\", \"2021-03-30T09:12:15.168000\", \"2021-03-30T10:25:20.828000\", \"2021-03-30T11:14:58.758000\", \"2021-03-30T12:11:40.540000\", \"2021-03-30T13:10:37.432000\", \"2021-03-30T14:16:35.082000\", \"2021-03-30T15:12:31.851000\", \"2021-03-30T16:02:21.194000\", \"2021-03-30T17:02:30.167000\", \"2021-03-30T18:20:18.440000\", \"2021-03-30T19:12:04.161000\", \"2021-03-30T20:16:36.785000\", \"2021-03-30T21:03:56.548000\", \"2021-03-30T22:04:05.773000\", \"2021-03-30T23:10:37.312000\", \"2021-03-31T00:20:48.349000\", \"2021-03-31T01:05:00.807000\", \"2021-03-31T02:11:39.219000\", \"2021-03-31T03:09:55.502000\", \"2021-03-31T04:04:42.193000\", \"2021-03-31T05:23:45.602000\", \"2021-03-31T06:00:48.112000\", \"2021-03-31T07:23:03.473000\", \"2021-03-31T08:38:03.312000\", \"2021-03-31T09:04:02.936000\", \"2021-03-31T10:16:43.544000\", \"2021-03-31T11:09:37.323000\", \"2021-03-31T12:08:02.997000\", \"2021-03-31T13:26:49.815000\", \"2021-03-31T14:26:40.437000\", \"2021-03-31T15:26:06.998000\", \"2021-03-31T16:03:56.889000\", \"2021-03-31T17:17:48.686000\", \"2021-03-31T18:05:15.070000\", \"2021-03-31T19:10:06.257000\", \"2021-03-31T20:19:34.229000\", \"2021-03-31T21:11:38.277000\", \"2021-03-31T22:15:19.576000\", \"2021-03-31T23:06:29.473000\", \"2021-04-01T00:08:42.215000\", \"2021-04-01T01:01:52.296000\", \"2021-04-01T02:10:29.759000\", \"2021-04-01T03:01:35.845000\", \"2021-04-01T04:14:42.084000\", \"2021-04-01T05:21:10.271000\", \"2021-04-01T06:01:51.723000\", \"2021-04-01T07:11:19.668000\", \"2021-04-01T08:14:15.862000\", \"2021-04-01T09:14:12.179000\", \"2021-04-01T10:12:00.937000\", \"2021-04-01T11:07:26.849000\", \"2021-04-01T12:13:08.566000\", \"2021-04-01T13:12:21.007000\", \"2021-04-01T14:18:27.665000\", \"2021-04-01T15:04:08.911000\", \"2021-04-01T16:02:59.755000\", \"2021-04-01T17:26:45.197000\", \"2021-04-01T18:21:19.442000\", \"2021-04-01T19:00:18.153000\", \"2021-04-01T20:02:58.250000\", \"2021-04-01T21:08:53.504000\", \"2021-04-01T22:05:43.391000\", \"2021-04-01T23:12:33.273000\", \"2021-04-02T00:19:26.044000\", \"2021-04-02T01:08:04.532000\", \"2021-04-02T02:08:07.656000\", \"2021-04-02T03:00:19.390000\", \"2021-04-02T04:13:29.094000\", \"2021-04-02T05:19:56.075000\", \"2021-04-02T06:21:20.012000\", \"2021-04-02T07:18:02.088000\", \"2021-04-02T08:22:39.589000\", \"2021-04-02T09:23:07.283000\", \"2021-04-02T10:19:24.935000\", \"2021-04-02T11:03:13.617000\", \"2021-04-02T12:03:56.319000\", \"2021-04-02T13:15:28.259000\", \"2021-04-02T14:04:43.729000\", \"2021-04-02T15:10:18.523000\", \"2021-04-02T16:15:28.702000\", \"2021-04-02T17:13:05.304000\", \"2021-04-02T18:08:45.556000\", \"2021-04-02T19:13:05.395000\", \"2021-04-02T20:09:26.496000\", \"2021-04-02T21:17:50.158000\", \"2021-04-02T22:13:11.552000\", \"2021-04-02T23:05:47.732000\", \"2021-04-03T00:07:06.146000\", \"2021-04-03T01:09:45.747000\", \"2021-04-03T02:18:58.621000\", \"2021-04-03T03:18:15.208000\", \"2021-04-03T04:28:19.112000\", \"2021-04-03T05:05:56.922000\", \"2021-04-03T06:03:43.055000\", \"2021-04-03T07:25:51.609000\", \"2021-04-03T08:13:36.515000\", \"2021-04-03T09:06:53.899000\", \"2021-04-03T10:08:15.730000\", \"2021-04-03T11:13:38.186000\", \"2021-04-03T12:13:13.481000\", \"2021-04-03T13:37:29.995000\", \"2021-04-03T14:37:20.707000\", \"2021-04-03T15:03:31.899000\", \"2021-04-03T16:11:41.667000\", \"2021-04-03T17:01:16.934000\", \"2021-04-03T18:01:48.306000\", \"2021-04-03T19:03:44.305000\", \"2021-04-03T20:02:32.645000\", \"2021-04-03T21:12:04.050000\", \"2021-04-03T22:00:38.915000\", \"2021-04-03T23:13:06.056000\", \"2021-04-04T00:18:18.514000\", \"2021-04-04T01:31:59.801000\", \"2021-04-04T02:32:04.223000\", \"2021-04-04T03:37:29.239000\", \"2021-04-04T04:32:11.123000\", \"2021-04-04T05:33:31.761000\", \"2021-04-04T06:33:21.413000\", \"2021-04-04T07:32:14.101000\", \"2021-04-04T08:32:34.698000\", \"2021-04-04T09:33:20.720000\", \"2021-04-04T10:33:44.291000\", \"2021-04-04T11:32:20.736000\", \"2021-04-04T12:33:30.840000\", \"2021-04-04T13:02:00.223000\", \"2021-04-04T14:05:37.898000\", \"2021-04-04T15:02:40.801000\", \"2021-04-04T16:03:24.563000\", \"2021-04-04T17:06:14.596000\", \"2021-04-04T18:04:39.816000\", \"2021-04-04T19:03:15.778000\", \"2021-04-04T20:01:56.295000\", \"2021-04-04T21:01:41.669000\", \"2021-04-04T22:04:08.225000\", \"2021-04-04T23:02:01.239000\", \"2021-04-05T00:06:47.354000\", \"2021-04-05T01:31:51.945000\", \"2021-04-05T02:03:44.855000\", \"2021-04-05T03:03:53.015000\", \"2021-04-05T04:01:32.566000\", \"2021-04-05T05:04:20.020000\", \"2021-04-05T06:05:20.090000\", \"2021-04-05T07:05:10.030000\", \"2021-04-05T08:02:25.252000\", \"2021-04-05T09:04:53.311000\", \"2021-04-05T10:04:34.917000\", \"2021-04-05T11:03:41.475000\", \"2021-04-05T12:06:55.675000\", \"2021-04-05T13:02:04.533000\", \"2021-04-05T14:02:23.939000\", \"2021-04-05T15:03:57.921000\", \"2021-04-05T16:03:28.709000\", \"2021-04-05T17:03:48.275000\", \"2021-04-05T18:02:03.526000\", \"2021-04-05T19:02:04.862000\", \"2021-04-05T20:02:35.028000\", \"2021-04-05T21:08:07.960000\", \"2021-04-05T22:04:54.490000\", \"2021-04-05T23:05:55.218000\", \"2021-04-06T00:05:41.206000\", \"2021-04-06T01:33:57.192000\", \"2021-04-06T02:14:09.934000\", \"2021-04-06T03:13:38.306000\", \"2021-04-06T04:00:06.019000\", \"2021-04-06T05:02:12.871000\", \"2021-04-06T06:02:22.028000\", \"2021-04-06T07:00:03.847000\", \"2021-04-06T08:06:45.316000\", \"2021-04-06T09:03:34.165000\", \"2021-04-06T10:01:10.889000\", \"2021-04-06T11:02:07.701000\", \"2021-04-06T12:03:09.904000\", \"2021-04-06T13:00:31.799000\", \"2021-04-06T14:05:12.281000\", \"2021-04-06T15:02:22.336000\", \"2021-04-06T16:04:14.960000\", \"2021-04-06T17:04:38.038000\", \"2021-04-06T18:05:18.996000\", \"2021-04-06T19:03:57.056000\", \"2021-04-06T20:05:18.136000\", \"2021-04-06T21:07:28.169000\", \"2021-04-06T22:05:33.458000\", \"2021-04-06T23:03:44.012000\", \"2021-04-07T00:01:22.765000\", \"2021-04-07T01:23:48.371000\", \"2021-04-07T02:05:41.909000\", \"2021-04-07T03:05:43.399000\", \"2021-04-07T04:02:23.728000\", \"2021-04-07T05:03:09.848000\", \"2021-04-07T06:04:43.713000\", \"2021-04-07T07:03:32.556000\", \"2021-04-07T08:02:34.350000\", \"2021-04-07T09:02:28.495000\", \"2021-04-07T10:01:34.488000\", \"2021-04-07T11:06:47.768000\", \"2021-04-07T12:00:20.014000\", \"2021-04-07T13:07:40.293000\", \"2021-04-07T14:07:31.061000\", \"2021-04-07T15:02:29.180000\", \"2021-04-07T16:07:16.096000\", \"2021-04-07T17:04:18.208000\", \"2021-04-07T18:02:55.658000\", \"2021-04-07T19:00:18.189000\", \"2021-04-07T20:07:10.666000\", \"2021-04-07T21:07:44.356000\", \"2021-04-07T22:02:26.798000\", \"2021-04-07T23:04:57.344000\", \"2021-04-08T00:03:51.982000\", \"2021-04-08T01:04:19.892000\", \"2021-04-08T02:16:53.827000\", \"2021-04-08T02:51:12.334000\", \"2021-04-08T03:22:55.230000\", \"2021-04-08T04:02:47.753000\", \"2021-04-08T05:04:47.622000\", \"2021-04-08T06:12:17.107000\", \"2021-04-08T07:05:10.055000\", \"2021-04-08T08:08:04.031000\", \"2021-04-08T09:08:02.018000\", \"2021-04-08T10:03:06.996000\", \"2021-04-08T11:02:56.444000\", \"2021-04-08T12:05:56.409000\", \"2021-04-08T13:01:34.981000\", \"2021-04-08T14:01:58.185000\", \"2021-04-08T15:01:23.010000\", \"2021-04-08T16:05:51.342000\", \"2021-04-08T17:01:38.723000\", \"2021-04-08T18:01:56.755000\", \"2021-04-08T19:04:06.416000\", \"2021-04-08T20:02:26.443000\", \"2021-04-08T21:09:22.576000\", \"2021-04-08T22:02:56.540000\", \"2021-04-08T23:07:43.689000\", \"2021-04-09T00:02:40.502000\", \"2021-04-09T01:01:38.460000\", \"2021-04-09T02:05:39.709000\", \"2021-04-09T03:05:18.656000\", \"2021-04-09T04:05:36.223000\", \"2021-04-09T05:05:58.504000\", \"2021-04-09T06:02:46.030000\", \"2021-04-09T07:03:58.845000\", \"2021-04-09T08:05:36.514000\", \"2021-04-09T09:02:42.707000\", \"2021-04-09T10:09:29.909000\", \"2021-04-09T11:01:58.711000\", \"2021-04-09T12:05:16.836000\", \"2021-04-09T13:00:01.113000\", \"2021-04-09T14:09:44.724000\", \"2021-04-09T15:03:20.838000\", \"2021-04-09T16:05:38.553000\", \"2021-04-09T17:01:13.466000\", \"2021-04-09T18:01:40.853000\", \"2021-04-09T19:02:12.990000\", \"2021-04-09T20:03:50.957000\", \"2021-04-09T21:01:55.769000\", \"2021-04-09T22:06:44.480000\", \"2021-04-09T23:06:31.573000\", \"2021-04-10T00:01:23.174000\", \"2021-04-10T01:06:47.257000\", \"2021-04-10T02:04:03.507000\", \"2021-04-10T03:05:32.668000\", \"2021-04-10T04:08:15.062000\", \"2021-04-10T05:02:09.455000\", \"2021-04-10T06:03:12.869000\", \"2021-04-10T07:06:50.018000\", \"2021-04-10T08:06:07.540000\", \"2021-04-10T09:07:32.503000\", \"2021-04-10T10:08:53.983000\", \"2021-04-10T11:00:44.555000\", \"2021-04-10T12:09:44.235000\", \"2021-04-10T13:01:43.572000\", \"2021-04-10T14:04:38.760000\", \"2021-04-10T15:01:40.414000\", \"2021-04-10T16:04:08.814000\", \"2021-04-10T17:06:10.982000\", \"2021-04-10T18:07:33.902000\", \"2021-04-10T19:01:59.534000\", \"2021-04-10T20:10:35.743000\", \"2021-04-10T21:03:15.709000\", \"2021-04-10T22:02:22.923000\", \"2021-04-10T23:01:35.988000\", \"2021-04-11T00:09:14.302000\", \"2021-04-11T01:02:06.539000\", \"2021-04-11T02:02:33.482000\", \"2021-04-11T03:04:27.955000\", \"2021-04-11T04:02:48.266000\", \"2021-04-11T05:07:00.689000\", \"2021-04-11T06:04:32.146000\", \"2021-04-11T07:00:22.893000\", \"2021-04-11T08:01:46.995000\", \"2021-04-11T09:02:36.699000\", \"2021-04-11T10:04:01.976000\", \"2021-04-11T11:05:22.978000\", \"2021-04-11T12:07:34.664000\", \"2021-04-11T13:03:47.603000\", \"2021-04-11T14:00:10.717000\", \"2021-04-11T15:02:14.656000\", \"2021-04-11T16:09:07.032000\", \"2021-04-11T17:01:54.564000\", \"2021-04-11T18:07:09.059000\", \"2021-04-11T19:01:32.002000\", \"2021-04-11T20:06:08.373000\", \"2021-04-11T21:04:50.644000\", \"2021-04-11T22:02:07.102000\", \"2021-04-11T23:06:48.386000\", \"2021-04-12T00:02:36.594000\", \"2021-04-12T01:03:16.631000\", \"2021-04-12T02:06:32.826000\", \"2021-04-12T03:02:13.748000\", \"2021-04-12T04:06:46.225000\", \"2021-04-12T05:04:29.676000\", \"2021-04-12T06:07:53.448000\", \"2021-04-12T07:04:05.868000\", \"2021-04-12T08:02:41.943000\", \"2021-04-12T09:06:39.437000\", \"2021-04-12T10:01:19.948000\", \"2021-04-12T10:12:01\"], \"xaxis\": \"x\", \"y\": [215.2246789985322, 218.30856810611016, 211.00990167110754, 209.77744731059283, 206.4812949564342, 198.9827039384542, 201.37665212615673, 198.28351086024975, 199.64551763788484, 205.51682473170948, 205.55732646057473, 210.34499196267637, 208.54794961959013, 210.77813494252814, 218.86684726458935, 218.49733909703062, 225.39204466222196, 225.68807091426717, 223.03548315951903, 222.39670711768414, 218.57287557276226, 221.8779878508446, 230.03993993499415, 238.8752253415433, 249.67322987114233, 253.16248647086923, 252.62438696212106, 250.06073812532813, 251.1513320632837, 257.6076988896003, 249.38473662261845, 246.16947396410362, 245.22902327809942, 245.24512514405797, 246.63792061999072, 247.78210171643315, 254.5089630790617, 256.7082492800979, 253.1273575793891, 254.31216301326845, 254.69173689252503, 249.35332273954643, 250.17409256735408, 249.75687032385562, 246.9598626553382, 246.8321551402421, 252.06815351912635, 255.15875483358033, 249.3289133377102, 250.07687702154072, 250.58643252413205, 251.14149921785287, 250.48864544895108, 246.9704767282684, 234.8463232700228, 237.891459422627, 233.5392408052053, 231.23947370927277, 233.5428258393542, 233.7449274297355, 237.86489804890897, 240.84532187278745, 241.749303334249, 242.14161019956143, 240.31419087931604, 239.05245563342464, 244.1978864930394, 244.19843084449667, 250.1785181865366, 250.2382736989234, 252.4475921153839, 254.44495141472788, 250.7866059859394, 249.72193958093436, 253.70882187472512, 245.69615630196475, 244.16084336264814, 247.72412591576438, 247.47882945905192, 250.13093386921247, 246.00099980757926, 245.7109419564892, 242.6917206188556, 244.76263162217387, 242.84791275086252, 241.75975167975105, 243.35226044862924, 245.406990303078, 247.17554771990675, 240.4957945102108, 240.20681938615715, 243.26483142422035, 241.17767438329997, 242.87881821191283, 244.88739696024857, 241.53886610496465, 239.6467756850447, 238.81673054450502, 237.60883112742772, 237.89964810748359, 235.89341237261763, 239.37288190830893, 238.45687097433753, 234.12372898852115, 228.00941880836675, 230.3927424608893, 230.0281366707311, 228.05223001116016, 229.94976386631865, 230.26650905990243, 220.94163322790945, 219.42173144351665, 222.42203530148694, 222.8474059795823, 218.6981867951797, 220.3023916043859, 222.12598589057632, 224.42681699009376, 219.68039219019946, 222.21748103732492, 222.00598576228103, 224.2223343507857, 225.3178296445598, 227.72080913305217, 227.41156320696177, 224.90726569641316, 222.0438392317248, 225.1868424233288, 227.07606885814215, 229.10341746022172, 227.6704424335346, 228.67969672518808, 228.14243864982058, 226.89325632063932, 225.65758551439654, 225.7358201700307, 225.9439025042156, 225.68097780865068, 224.5184897854668, 227.91653926419892, 229.34416075811447, 229.5044375964648, 229.69536091459426, 226.81818846420984, 226.18078570395792, 226.08956248444102, 223.79919157916285, 222.06420135887433, 223.15227561321072, 222.63385076805912, 224.0437734261147, 225.85091880155096, 226.90103013444795, 224.80609975077584, 224.92132128795322, 224.85963445220148, 226.5429129853243, 226.65626759661149, 228.1875412401922, 227.1866443585766, 230.07916391498463, 228.6353640352718, 227.42123037147377, 226.67667557467297, 226.97394392582964, 229.86512206704558, 229.01726593374516, 233.77316196486734, 241.39066212864822, 241.17033953735822, 240.00279537963357, 238.7508757595649, 236.676395119142, 236.33064927483332, 239.0089183131973, 236.86271835050064, 234.37339604638112, 233.66809885452588, 234.30872434802836, 235.55227930191873, 237.36391652671495, 240.0619974599154, 239.55505478140492, 238.8495336974535, 235.57034082593347, 236.32214832162717, 236.62733577267713, 238.73081376609133, 235.7589351091565, 235.4815149596141, 231.34710630669178, 230.8499968015376, 234.02022301986503, 234.07204980898885, 233.0916249723505, 234.68437915046962, 235.40061576662774, 235.39623442841412, 233.6322489497926, 234.0888991144937, 233.62684333615422, 235.7405608834839, 236.02113238846854, 236.37692658916163, 235.44697028747137, 240.56542976741707, 238.7368655717591, 239.94818772539415, 244.77190205768406, 245.24988462803418, 243.85552923399777, 244.3185316821469, 242.58670483739536, 242.62779119557104, 246.88366424027208, 260.4457187684798, 272.10687128868756, 267.4700731949032, 266.4043542203401, 273.75335463073776, 271.3869645182571, 276.148603002986, 275.4400840922247, 272.76768587626043, 273.3907097888733, 276.973220327812, 280.58325785889485, 286.9272030003786, 295.60475127537893, 294.72023395611154, 287.6566494169064, 278.18181186243345, 275.27399357987434, 272.13572801086656, 281.23420258449187, 280.27309914166545, 281.69661259194476, 287.0493957326576, 285.41611887489756, 288.92734959000114, 280.0879705527016, 280.2535229036327, 283.0212846151005, 285.80794082157826, 284.30060711549555, 285.41455725966733, 289.1336112978365, 286.92439807379066, 285.5164386421932, 285.55497507026325, 277.80937487193876, 281.85121906474745, 282.9097172495397, 278.40134011560883, 277.5432542784771, 280.4237898077265, 283.7806440264782, 282.7982066511755, 283.0431065372361, 280.40396630815025, 281.2964582961776, 275.9400267652217, 277.85312224598516, 275.48371531133847, 283.1652747909856, 283.9760421218676, 286.92999793169616, 303.47242656897606, 309.19752443148036, 293.1543612392385, 291.1168774368523, 291.5001283384474, 292.8026444688015, 290.2132850013067, 292.3489797888407, 291.05723968953305, 291.82560265521784, 290.0715150124413, 284.3262120722008, 281.8311227906614, 283.23878807087937, 282.01489049990914, 280.18155779928844, 284.3458725322207, 281.10952960331747, 278.98443122014606, 282.9203921627607, 287.71995101728146, 284.6529323536134, 279.11351951505804, 275.3561199501782, 264.26463758107826, 266.35867896743804, 273.3776467832705, 273.70786708763126, 264.18883645007776, 266.14006306441274, 263.69576453083044, 260.2155593298223, 263.2781032956964, 265.05493555519564, 264.080531574575, 258.31983674783964, 258.44693572035845, 262.28880314723375, 262.1667484923546, 261.77896856873406, 265.34893749972116, 266.0780072408728, 269.2285951933145, 268.4968412748551, 269.1162450404456, 277.84949507213486, 281.1258071896154, 276.82494676666346, 276.6879185735278, 278.8031163836506, 276.19439260545505, 277.3985338433467, 278.6024605574966, 278.0754428542724, 278.05826779900366, 278.89486125402937, 274.67254544427266, 276.9398227424475, 276.48562994801995, 273.7975969720216, 272.99694277748705, 272.532943139844, 274.03229118022523, 273.4894656773504, 271.5168361606108, 271.05501985101216, 269.8841456846033, 271.50288722521725, 275.3404720833064, 269.86951019593835, 270.0973158279985, 271.13305767357474, 267.9831486931557, 268.01368383455315, 266.20098060951136, 265.12864488916955, 267.3244313518218, 269.38513156521464, 267.5992459880974, 268.67973429197235, 266.99317746143544, 267.93611637209864, 265.130230333635, 265.19522417399537, 266.1800644175553, 266.0052047932869, 266.89581976367276, 263.97727303344845, 260.89882682362344, 258.43054336327975, 256.2170304704094, 255.90650930473217, 250.1076780627059, 257.594243638726, 256.1023033684107, 255.51920846981037, 259.6889840985854, 258.51198471795027, 256.52781068979544, 255.69260742461591, 254.5785595567012, 257.18480691579435, 258.94410896532395, 256.4344283873778, 257.89041243821913, 254.9990335372777, 253.8779427003888, 248.59705434254667, 247.61718519189822, 248.15999393184617, 247.52236028640252, 248.36026768772254, 246.5361346984271, 250.3163404755559, 252.3122764710033, 258.24459770908584, 256.5742580891706, 255.73280486718005, 254.30635554113712, 254.7164475909843, 256.2195826046547, 256.9563669936968, 258.34480534188503, 256.9651062064505, 253.5970811978595, 253.48929600018366, 255.0429279164984, 256.4622772816838, 257.465395886343, 257.2094668960208, 259.05040404323574, 257.1301441749892, 257.52835958656084, 255.8777302606378, 254.43928233674185, 254.83646722634862, 255.21151098164557, 255.28361124539202, 255.15269290715432, 254.66900208654118, 250.1380175769053, 253.51607574905586, 252.49542726375057, 253.31226358146972, 252.45946283684003, 251.64043446957317, 252.212434691328, 254.22545199348377, 256.68897555096123, 263.91177558072815, 264.87827580390467, 262.2550062286371, 266.2126283911895, 266.58596182725375, 270.92343249137247, 270.6582103255113, 274.1539954476383, 274.96682155788756, 272.97342700082834, 274.40680107581886, 275.9185431496225, 276.87132519049686, 275.1560788554754, 273.1583348055872, 276.06978697716005, 273.76908761317526, 268.19653927338095, 267.57656281539755, 265.9244900949286, 265.0801176705911, 271.8702329717654, 267.7440984485409, 264.2560078568154, 260.3962179429506, 261.6752714727621, 263.20530615299106, 264.7209764796377, 263.06965006649096, 255.058596488716, 260.760957856053, 264.02427861104786, 265.46505946349043, 264.85311687907, 266.4499641661923, 266.1630046284063, 265.1582703293827, 263.6997070284105, 266.9995159544029, 266.2477343994155, 268.80457164057424, 267.98737368663035, 266.9203743162253, 264.1297278179519, 267.446651122, 266.97116779654965, 266.31952494722424, 266.3504512008495, 266.84794582424337, 266.7977040229026, 264.95160589277276, 264.99528389986835, 263.611352265518, 265.6864118755831, 266.6440195923113, 267.4753581498446, 265.85605817387227, 266.3517513081106, 265.09479530660116, 266.0759688071895, 266.7483502589013, 270.0820786165665, 269.2829930266984, 270.6858364942241, 270.2407722811355, 269.4350011304008, 270.38410370089997, 268.8741926522825, 270.9998137831797, 271.40732284625693, 271.5642644392227, 271.1172133085695, 271.7027887175297, 269.7843995858878, 267.49953510578973, 268.5960459246343, 266.25397242323044, 267.69805297856743, 267.10576822040656, 266.8861765403221, 262.56960347298843, 267.1136481183931, 262.7630700624915, 263.68565740974543, 264.2020635563644, 264.6744124116732, 264.6131462421746, 260.3222481815773, 261.78717323262254, 261.10565696597183, 263.32798118219455, 264.51479978738143, 264.54094663568077, 264.1220954721221, 264.2162476764377, 263.5848518038061, 265.9137569228592, 265.8046938769368, 267.0726636734598, 267.592478266429, 265.5510614311124, 263.7197736361206, 261.39486329728214, 262.90405093981093, 265.45193369634893, 268.7053015811579, 266.9678970035526, 269.9937017387061, 267.12004326890263, 265.7220608995429, 263.56379514967057, 268.12158512944745, 268.3749440846978, 266.3805546305086, 265.80172026860976, 265.55532217432716, 267.636908427791, 267.999714168182, 267.6332429837198, 274.5839844513809, 270.2889547704105, 267.10647494227396, 260.36241042790897, 255.39772614613332, 258.6124387530983, 256.2688221322779, 258.32563115477893, 262.4468221765375, 259.34729874634115, 259.0277038072902, 258.98953554805786, 255.41883854593195, 255.40038846566776, 256.1412483818674, 257.5029300731671, 258.957570843923, 259.22985938844795, 259.4754483849843, 261.4359513467658, 259.4936581620845, 259.86144748905684, 259.51233147815753, 260.06565641672375, 259.98221378204636, 258.60290845035314, 256.8105922985469, 254.2286037924335, 255.02217636635737, 255.5343750681375, 254.94326761275101, 251.13844798787142, 256.27123481139193, 255.9579645764038, 256.6477617315856, 253.48523790898818, 253.7647294282826, 259.5318648967626, 262.30076995169327, 261.89236431446085, 261.94381244754004, 264.099976668162, 266.5177984038913, 268.2579251024316, 264.5466100967849, 263.95993354834377, 261.85606884689884, 260.99942550432473, 261.61645899232894, 258.23149886717204, 251.92178479000415, 255.84511199651905, 246.10482985315952, 247.3615241434758, 249.63117158224372, 246.76824606357079, 242.2442807076685, 241.50708072936618, 240.90372383872972, 245.71149478043907, 246.2212124873306, 246.77835941692672, 243.35835224353178, 245.35606089054878, 246.75122272126555, 246.83621703587752, 231.55418944061077, 230.50498147498658, 235.7781626605057, 231.89723411976092, 234.6634314249652, 233.37762820862534, 234.7098879929969, 237.50304357154545, 235.98858402273353, 236.12525430924953, 237.16207348206834, 235.50962677071945, 236.5662342065566, 242.15963216227462, 241.25109600823828, 239.88217667425516, 241.8614489261437, 242.08777236647163, 242.1453836119099, 241.5432177285343, 248.75853527149079, 245.13131266272325, 247.33043569441134, 247.4222469659412, 246.24509814384186, 248.9577962943533, 249.8426902554491, 248.50290284583167, 249.01085129127844, 250.3660641840116, 251.71900994282802, 249.13456825537904, 252.61231996881338, 252.454945184121, 254.01279743115836, 252.64831364768446, 255.7815167613825, 252.26870794051237, 251.7802987517076, 250.59813326952596, 254.07008748870092, 252.73046575311298, 252.88988697475173, 253.47190645200172, 252.25264240711198, 255.61211664276217, 259.1320477195567, 256.9661930435415, 255.96333136254606, 254.65532722184145, 257.3373083617448, 261.1485280352215, 261.27164950399253, 265.2290907223827, 264.27523779843267, 264.71123015135896, 264.01286440680775, 266.8905634075357, 273.1514944447852, 272.7831920093116, 269.058511305373, 270.9193279750318, 272.3831991988794, 272.68626295504004, 276.73093762755906, 277.901663913523, 278.70307384364867, 274.47919926740906, 277.09447229010755, 275.8700490699635, 271.51233873364765, 270.7485216140526, 269.49500093825674, 268.29628848911847, 271.14879940419075, 270.0670064327213, 272.7280802889294, 270.1253979080564, 268.6044561156338, 264.56825476402753, 266.14648603113756, 263.9597366559279, 265.25635108965525, 268.7154531724998, 268.86553524168113, 265.31441988920517, 266.82861829416663, 268.5909306775924, 268.64416379601636, 268.5638826838955, 268.18181508201695, 270.8399759429606, 273.9512786017312, 276.3336867304249, 275.0122199196415, 272.792287555349, 274.95112186484806, 273.26356346795745, 274.04930052011457, 271.11838917337377, 272.3960953509929, 273.70707656700563, 274.4144656690903, 273.4450097224586, 272.5395508621369, 273.03390837058754, 273.34388591293015, 273.6312089946183, 273.85834337607014, 274.11555732905754, 272.00377392835793, 272.04726109154643, 272.1147682488214, 273.67294683487637, 273.68412884542886, 275.9636394613499, 278.1499781571501, 294.6147848017069, 295.8540394276922, 295.71912012626706, 297.7122695593111, 297.07785324313267, 300.59992504339147, 300.98538236880563, 297.50588542875363, 297.87467175678347, 303.03969842861966, 301.9850843702122, 306.4241344336954, 304.5156081934941, 308.9700457226518, 308.95563546579757, 311.42988861234835, 314.052179686601, 310.1014793421239, 305.4506889902012, 300.4953724319802, 304.48525379104734, 307.81976921088363, 306.22355112933025, 298.2072650358806, 296.45182833684663, 297.6717797836595, 294.1779517864679, 298.46002232954686, 303.23776296711685, 305.8696484750617, 307.6496339419553, 307.97740687089555, 303.2814736449432, 304.3623509150637, 305.40224479251185, 300.98828863950564, 301.00934564520384, 300.201307242622, 299.7181992150605, 302.7722463488366, 303.2394460137397, 307.3355618613732, 306.94580480526974, 306.12464509053217, 306.0136269474319, 305.36166767770953, 309.6833317798207, 314.87473345010045, 316.2713522408319, 316.023511240514, 316.4864947048779, 313.7318047972377, 316.266433783482, 321.34189375014205, 328.12628299461693, 326.2484630585241, 326.833563349759, 320.41076872442295, 326.1668300388321, 327.09914125143155, 329.41130128305133, 332.4383245093945, 337.53162098488434, 336.6052085784428, 347.40225798876344, 347.2845744325607, 344.3950699652291, 343.55799371625056, 344.6287331316897, 351.989352641335, 352.7305028777646, 353.2153610445172, 350.95011715477034, 350.644302497625, 349.263198860659, 347.10513101067386, 344.5095572546216, 344.37507158508436, 351.3926636899033, 346.67761353762967, 342.121490791422, 337.8280276162062, 333.9920356010555, 336.93392916450784, 339.10916277389543, 337.4601811413096, 334.57146544690755, 338.0041151803734, 344.3042091100841, 338.0115089367182, 339.41781938030374, 338.7024803763359, 342.1127296037642, 341.73326732873085, 343.2114360240733, 343.6628496422228, 339.5317773520698, 340.8342582853951, 342.6832974710049, 343.9293984533877, 347.1025150637053, 346.61150001602937, 344.8935138465663, 341.8702534972556, 342.2073138986241, 333.00253114121523, 334.87871757117443, 334.8991899219635, 328.8166981095209, 324.04966493642956, 323.53155441592764, 320.493409128525, 324.9822663943916, 330.60030486275787, 328.42204629651786, 333.5146665561799, 333.6797973146889, 331.5747918024223, 336.41099771565575, 337.47736737647574, 342.7895673681572, 343.7139392558276, 344.3461974651482, 343.3986644445913, 344.772574363315, 344.2769645389378, 344.7097650088513, 345.09447837742533, 345.716364781411, 349.6688297910265, 349.13664294303845, 345.52641887905924, 350.9809027159019, 350.7536864560569, 346.8159555156138, 348.9510229847878, 344.00862363969867, 344.7631798340511, 346.2424636128192, 345.87174779517596, 345.2209184070707, 344.6058208242504, 338.50431397050687, 339.97225968270163, 340.5164244820423, 344.7559407599328, 353.5186673517756, 363.74189778678664, 364.5916482616871, 369.1888621238468, 374.0094766533665, 375.56192494494655, 373.70114927664997, 371.9271191373891, 370.01279206272926, 374.7513901194988, 374.68008070793627, 371.74512106543557, 371.55414823025626, 368.317766619957, 368.7062418737697, 364.7684477873843, 368.66902030857676, 370.044937217082, 375.6280965742845, 385.27459352015524, 379.6024791870666, 376.0756873254492, 379.14111407239756, 386.30599881856637, 383.9565087974757, 383.70349428930336, 385.29279402277433, 384.8173920985962, 386.9605706609826, 386.4707666686652, 392.89757084332797, 394.0751469448682, 392.2917250289748, 394.4540726910827, 397.5036479283441, 404.3466954882102, 409.61483469343443, 404.4605067817102, 396.55497894660385, 407.19414831530725, 406.75365929725655, 401.34167027106224, 402.11597453224476, 407.8318463918478, 411.8003907551987, 405.17511140790657, 398.56305345984157, 395.4942108541534, 374.3119943964752, 368.46297403721235, 373.55101262754096, 387.68379101103767, 384.09346598249533, 373.33474746098267, 385.0653810611315, 373.7995628024788, 373.7181965315169, 376.26267525816274, 378.0590630043001, 381.19864215383495, 385.057597872784, 377.00503501889756, 387.0292262403308, 385.85706675939326, 386.8194839545045, 387.5270486104906, 395.1239764163585, 401.98079262316793, 396.9503436868992, 399.0289926747262, 399.1258025513428, 398.7978403448016, 400.4065482820112, 398.2471813639888, 394.81232471164617, 409.7409175077954, 410.6855356481936, 415.1098850994862, 419.4298668216506, 415.6750087420604, 416.5182207966222, 417.5575626080466, 418.6924400950988, 414.25138298499394, 415.4346355260052, 416.9164611610269, 418.1377217019414, 415.2407285690183, 412.33095012941163, 410.5688525312702, 407.5863084418283, 412.45291595178594, 412.12482001228244, 415.4570340610429, 420.39547987138445, 417.98022935806665, 428.3697376591751, 429.87312743836503, 436.32083871619665, 441.5715182525174, 445.1763055554173, 441.2532901460596, 436.2707494864523, 439.3462879302576, 445.04677381367367, 444.5204193764313, 441.9286278905515, 440.50834790591847, 443.7161175245354, 440.64611651064, 451.21085727443034, 459.5235963212529, 472.737431313498, 480.15536538057074, 475.62931410193266, 463.1073168374995, 472.83506152254193, 478.3685918316921, 473.8015290620833, 472.9153061851624, 479.9759523712942, 480.4852257407518, 485.3904316677766, 478.01801588996216, 479.65758368655594, 475.830891313089, 473.17733266268107, 471.1726461318318, 462.6916889855872, 461.5231931734613, 471.26931191889054, 462.20963765149463, 476.6779409783954, 473.0822568854284, 471.8268879231113, 462.7376908643778, 470.90820647789354, 466.6629109887271, 463.07474714486693, 464.4763432895904, 470.56510892783996, 477.6195960321378, 473.5348007036609, 476.1732567472629, 469.807644984461, 468.8948572904352, 471.5970723764079, 473.28446065633665, 472.9546842048648, 486.37438730303705, 492.57644956665433, 492.18674657334464, 499.06519517271835, 502.207703940809, 500.02891405413624, 503.256425488309, 505.6378555185239, 523.5007083074111, 522.9036942041708, 522.4014943378586, 521.0912896573602, 521.8909235327623, 547.2694705083924, 571.0573036861565, 563.2786404347906, 565.866742735167, 577.2752205594534, 596.5281123272796, 592.8233554229038, 579.9664997443411], \"yaxis\": \"y\"}],                        {\"legend\": {\"tracegroupgap\": 0}, \"template\": {\"data\": {\"bar\": [{\"error_x\": {\"color\": \"#2a3f5f\"}, \"error_y\": {\"color\": \"#2a3f5f\"}, \"marker\": {\"line\": {\"color\": \"#E5ECF6\", \"width\": 0.5}}, \"type\": \"bar\"}], \"barpolar\": [{\"marker\": {\"line\": {\"color\": \"#E5ECF6\", \"width\": 0.5}}, \"type\": \"barpolar\"}], \"carpet\": [{\"aaxis\": {\"endlinecolor\": \"#2a3f5f\", \"gridcolor\": \"white\", \"linecolor\": \"white\", \"minorgridcolor\": \"white\", \"startlinecolor\": \"#2a3f5f\"}, \"baxis\": {\"endlinecolor\": \"#2a3f5f\", \"gridcolor\": \"white\", \"linecolor\": \"white\", \"minorgridcolor\": \"white\", \"startlinecolor\": \"#2a3f5f\"}, \"type\": \"carpet\"}], \"choropleth\": [{\"colorbar\": {\"outlinewidth\": 0, \"ticks\": \"\"}, \"type\": \"choropleth\"}], \"contour\": [{\"colorbar\": {\"outlinewidth\": 0, \"ticks\": \"\"}, \"colorscale\": [[0.0, \"#0d0887\"], [0.1111111111111111, \"#46039f\"], [0.2222222222222222, \"#7201a8\"], [0.3333333333333333, \"#9c179e\"], [0.4444444444444444, \"#bd3786\"], [0.5555555555555556, \"#d8576b\"], [0.6666666666666666, \"#ed7953\"], [0.7777777777777778, \"#fb9f3a\"], [0.8888888888888888, \"#fdca26\"], [1.0, \"#f0f921\"]], \"type\": \"contour\"}], \"contourcarpet\": [{\"colorbar\": {\"outlinewidth\": 0, \"ticks\": \"\"}, \"type\": \"contourcarpet\"}], \"heatmap\": [{\"colorbar\": {\"outlinewidth\": 0, \"ticks\": \"\"}, \"colorscale\": [[0.0, \"#0d0887\"], [0.1111111111111111, \"#46039f\"], [0.2222222222222222, \"#7201a8\"], [0.3333333333333333, \"#9c179e\"], [0.4444444444444444, \"#bd3786\"], [0.5555555555555556, \"#d8576b\"], [0.6666666666666666, \"#ed7953\"], [0.7777777777777778, \"#fb9f3a\"], [0.8888888888888888, \"#fdca26\"], [1.0, \"#f0f921\"]], \"type\": \"heatmap\"}], \"heatmapgl\": [{\"colorbar\": {\"outlinewidth\": 0, \"ticks\": \"\"}, \"colorscale\": [[0.0, \"#0d0887\"], [0.1111111111111111, \"#46039f\"], [0.2222222222222222, \"#7201a8\"], [0.3333333333333333, \"#9c179e\"], [0.4444444444444444, \"#bd3786\"], [0.5555555555555556, \"#d8576b\"], [0.6666666666666666, \"#ed7953\"], [0.7777777777777778, \"#fb9f3a\"], [0.8888888888888888, \"#fdca26\"], [1.0, \"#f0f921\"]], \"type\": \"heatmapgl\"}], \"histogram\": [{\"marker\": {\"colorbar\": {\"outlinewidth\": 0, \"ticks\": \"\"}}, \"type\": \"histogram\"}], \"histogram2d\": [{\"colorbar\": {\"outlinewidth\": 0, \"ticks\": \"\"}, \"colorscale\": [[0.0, \"#0d0887\"], [0.1111111111111111, \"#46039f\"], [0.2222222222222222, \"#7201a8\"], [0.3333333333333333, \"#9c179e\"], [0.4444444444444444, \"#bd3786\"], [0.5555555555555556, \"#d8576b\"], [0.6666666666666666, \"#ed7953\"], [0.7777777777777778, \"#fb9f3a\"], [0.8888888888888888, \"#fdca26\"], [1.0, \"#f0f921\"]], \"type\": \"histogram2d\"}], \"histogram2dcontour\": [{\"colorbar\": {\"outlinewidth\": 0, \"ticks\": \"\"}, \"colorscale\": [[0.0, \"#0d0887\"], [0.1111111111111111, \"#46039f\"], [0.2222222222222222, \"#7201a8\"], [0.3333333333333333, \"#9c179e\"], [0.4444444444444444, \"#bd3786\"], [0.5555555555555556, \"#d8576b\"], [0.6666666666666666, \"#ed7953\"], [0.7777777777777778, \"#fb9f3a\"], [0.8888888888888888, \"#fdca26\"], [1.0, \"#f0f921\"]], \"type\": \"histogram2dcontour\"}], \"mesh3d\": [{\"colorbar\": {\"outlinewidth\": 0, \"ticks\": \"\"}, \"type\": \"mesh3d\"}], \"parcoords\": [{\"line\": {\"colorbar\": {\"outlinewidth\": 0, \"ticks\": \"\"}}, \"type\": \"parcoords\"}], \"pie\": [{\"automargin\": true, \"type\": \"pie\"}], \"scatter\": [{\"marker\": {\"colorbar\": {\"outlinewidth\": 0, \"ticks\": \"\"}}, \"type\": \"scatter\"}], \"scatter3d\": [{\"line\": {\"colorbar\": {\"outlinewidth\": 0, \"ticks\": \"\"}}, \"marker\": {\"colorbar\": {\"outlinewidth\": 0, \"ticks\": \"\"}}, \"type\": \"scatter3d\"}], \"scattercarpet\": [{\"marker\": {\"colorbar\": {\"outlinewidth\": 0, \"ticks\": \"\"}}, \"type\": \"scattercarpet\"}], \"scattergeo\": [{\"marker\": {\"colorbar\": {\"outlinewidth\": 0, \"ticks\": \"\"}}, \"type\": \"scattergeo\"}], \"scattergl\": [{\"marker\": {\"colorbar\": {\"outlinewidth\": 0, \"ticks\": \"\"}}, \"type\": \"scattergl\"}], \"scattermapbox\": [{\"marker\": {\"colorbar\": {\"outlinewidth\": 0, \"ticks\": \"\"}}, \"type\": \"scattermapbox\"}], \"scatterpolar\": [{\"marker\": {\"colorbar\": {\"outlinewidth\": 0, \"ticks\": \"\"}}, \"type\": \"scatterpolar\"}], \"scatterpolargl\": [{\"marker\": {\"colorbar\": {\"outlinewidth\": 0, \"ticks\": \"\"}}, \"type\": \"scatterpolargl\"}], \"scatterternary\": [{\"marker\": {\"colorbar\": {\"outlinewidth\": 0, \"ticks\": \"\"}}, \"type\": \"scatterternary\"}], \"surface\": [{\"colorbar\": {\"outlinewidth\": 0, \"ticks\": \"\"}, \"colorscale\": [[0.0, \"#0d0887\"], [0.1111111111111111, \"#46039f\"], [0.2222222222222222, \"#7201a8\"], [0.3333333333333333, \"#9c179e\"], [0.4444444444444444, \"#bd3786\"], [0.5555555555555556, \"#d8576b\"], [0.6666666666666666, \"#ed7953\"], [0.7777777777777778, \"#fb9f3a\"], [0.8888888888888888, \"#fdca26\"], [1.0, \"#f0f921\"]], \"type\": \"surface\"}], \"table\": [{\"cells\": {\"fill\": {\"color\": \"#EBF0F8\"}, \"line\": {\"color\": \"white\"}}, \"header\": {\"fill\": {\"color\": \"#C8D4E3\"}, \"line\": {\"color\": \"white\"}}, \"type\": \"table\"}]}, \"layout\": {\"annotationdefaults\": {\"arrowcolor\": \"#2a3f5f\", \"arrowhead\": 0, \"arrowwidth\": 1}, \"autotypenumbers\": \"strict\", \"coloraxis\": {\"colorbar\": {\"outlinewidth\": 0, \"ticks\": \"\"}}, \"colorscale\": {\"diverging\": [[0, \"#8e0152\"], [0.1, \"#c51b7d\"], [0.2, \"#de77ae\"], [0.3, \"#f1b6da\"], [0.4, \"#fde0ef\"], [0.5, \"#f7f7f7\"], [0.6, \"#e6f5d0\"], [0.7, \"#b8e186\"], [0.8, \"#7fbc41\"], [0.9, \"#4d9221\"], [1, \"#276419\"]], \"sequential\": [[0.0, \"#0d0887\"], [0.1111111111111111, \"#46039f\"], [0.2222222222222222, \"#7201a8\"], [0.3333333333333333, \"#9c179e\"], [0.4444444444444444, \"#bd3786\"], [0.5555555555555556, \"#d8576b\"], [0.6666666666666666, \"#ed7953\"], [0.7777777777777778, \"#fb9f3a\"], [0.8888888888888888, \"#fdca26\"], [1.0, \"#f0f921\"]], \"sequentialminus\": [[0.0, \"#0d0887\"], [0.1111111111111111, \"#46039f\"], [0.2222222222222222, \"#7201a8\"], [0.3333333333333333, \"#9c179e\"], [0.4444444444444444, \"#bd3786\"], [0.5555555555555556, \"#d8576b\"], [0.6666666666666666, \"#ed7953\"], [0.7777777777777778, \"#fb9f3a\"], [0.8888888888888888, \"#fdca26\"], [1.0, \"#f0f921\"]]}, \"colorway\": [\"#636efa\", \"#EF553B\", \"#00cc96\", \"#ab63fa\", \"#FFA15A\", \"#19d3f3\", \"#FF6692\", \"#B6E880\", \"#FF97FF\", \"#FECB52\"], \"font\": {\"color\": \"#2a3f5f\"}, \"geo\": {\"bgcolor\": \"white\", \"lakecolor\": \"white\", \"landcolor\": \"#E5ECF6\", \"showlakes\": true, \"showland\": true, \"subunitcolor\": \"white\"}, \"hoverlabel\": {\"align\": \"left\"}, \"hovermode\": \"closest\", \"mapbox\": {\"style\": \"light\"}, \"paper_bgcolor\": \"white\", \"plot_bgcolor\": \"#E5ECF6\", \"polar\": {\"angularaxis\": {\"gridcolor\": \"white\", \"linecolor\": \"white\", \"ticks\": \"\"}, \"bgcolor\": \"#E5ECF6\", \"radialaxis\": {\"gridcolor\": \"white\", \"linecolor\": \"white\", \"ticks\": \"\"}}, \"scene\": {\"xaxis\": {\"backgroundcolor\": \"#E5ECF6\", \"gridcolor\": \"white\", \"gridwidth\": 2, \"linecolor\": \"white\", \"showbackground\": true, \"ticks\": \"\", \"zerolinecolor\": \"white\"}, \"yaxis\": {\"backgroundcolor\": \"#E5ECF6\", \"gridcolor\": \"white\", \"gridwidth\": 2, \"linecolor\": \"white\", \"showbackground\": true, \"ticks\": \"\", \"zerolinecolor\": \"white\"}, \"zaxis\": {\"backgroundcolor\": \"#E5ECF6\", \"gridcolor\": \"white\", \"gridwidth\": 2, \"linecolor\": \"white\", \"showbackground\": true, \"ticks\": \"\", \"zerolinecolor\": \"white\"}}, \"shapedefaults\": {\"line\": {\"color\": \"#2a3f5f\"}}, \"ternary\": {\"aaxis\": {\"gridcolor\": \"white\", \"linecolor\": \"white\", \"ticks\": \"\"}, \"baxis\": {\"gridcolor\": \"white\", \"linecolor\": \"white\", \"ticks\": \"\"}, \"bgcolor\": \"#E5ECF6\", \"caxis\": {\"gridcolor\": \"white\", \"linecolor\": \"white\", \"ticks\": \"\"}}, \"title\": {\"x\": 0.05}, \"xaxis\": {\"automargin\": true, \"gridcolor\": \"white\", \"linecolor\": \"white\", \"ticks\": \"\", \"title\": {\"standoff\": 15}, \"zerolinecolor\": \"white\", \"zerolinewidth\": 2}, \"yaxis\": {\"automargin\": true, \"gridcolor\": \"white\", \"linecolor\": \"white\", \"ticks\": \"\", \"title\": {\"standoff\": 15}, \"zerolinecolor\": \"white\", \"zerolinewidth\": 2}}}, \"title\": {\"text\": \"binancecoin\"}, \"xaxis\": {\"anchor\": \"y\", \"domain\": [0.0, 1.0], \"title\": {\"text\": \"timestamp\"}}, \"yaxis\": {\"anchor\": \"x\", \"domain\": [0.0, 1.0], \"title\": {\"text\": \"price\"}}},                        {\"responsive\": true}                    ).then(function(){\n",
       "                            \n",
       "var gd = document.getElementById('83a906f8-aa82-4974-a1ac-c24bbcf8d9f8');\n",
       "var x = new MutationObserver(function (mutations, observer) {{\n",
       "        var display = window.getComputedStyle(gd).display;\n",
       "        if (!display || display === 'none') {{\n",
       "            console.log([gd, 'removed!']);\n",
       "            Plotly.purge(gd);\n",
       "            observer.disconnect();\n",
       "        }}\n",
       "}});\n",
       "\n",
       "// Listen for the removal of the full notebook cells\n",
       "var notebookContainer = gd.closest('#notebook-container');\n",
       "if (notebookContainer) {{\n",
       "    x.observe(notebookContainer, {childList: true});\n",
       "}}\n",
       "\n",
       "// Listen for the clearing of the current output cell\n",
       "var outputEl = gd.closest('.output');\n",
       "if (outputEl) {{\n",
       "    x.observe(outputEl, {childList: true});\n",
       "}}\n",
       "\n",
       "                        })                };                });            </script>        </div>"
      ]
     },
     "metadata": {},
     "output_type": "display_data"
    }
   ],
   "source": [
    "# test_df1.plot(x='timestamp', kind='line', figsize=(12,12), fontsize=15)\n",
    "fig = px.line(test_df1, x=\"timestamp\", y=\"price\", title = w_ChosenCrypto.value)\n",
    "fig.show()"
   ]
  },
  {
   "cell_type": "code",
   "execution_count": null,
   "metadata": {
    "pycharm": {
     "is_executing": false
    }
   },
   "outputs": [],
   "source": []
  }
 ],
 "metadata": {
  "kernelspec": {
   "display_name": "Python 3",
   "language": "python",
   "name": "python3"
  },
  "language_info": {
   "codemirror_mode": {
    "name": "ipython",
    "version": 3
   },
   "file_extension": ".py",
   "mimetype": "text/x-python",
   "name": "python",
   "nbconvert_exporter": "python",
   "pygments_lexer": "ipython3",
   "version": "3.9.2"
  },
  "pycharm": {
   "stem_cell": {
    "cell_type": "raw",
    "metadata": {
     "collapsed": false
    },
    "source": []
   }
  }
 },
 "nbformat": 4,
 "nbformat_minor": 4
}
